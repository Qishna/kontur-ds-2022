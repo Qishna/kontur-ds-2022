{
 "cells": [
  {
   "cell_type": "markdown",
   "metadata": {},
   "source": [
    "# Тестовое задание\n",
    "\n",
    "Для выполнения тестового задания требуется разработать модель, которая будет способна различать заголовки реальных и выдуманных новостей.\n",
    "Для обучения модели используйте данные из файла `train.tsv`. В файле находится таблица, состоящая из двух колонок. \n",
    "В колонке title записан заголовок новости. В колонке is_fake содержатся метки: 0 – новость реальная; 1 – новость выдуманная.\n",
    "Для демонстрации работы модели используйте данные тестового набора из файла `test.tsv`. В нем также есть колонка title, данные которой являются входными для вашей модели.\n",
    "Вам нужно скопировать файл `test.tsv`, переименовать его в `predictions.tsv` и заполнить колонку is_fake значениями предсказаний вашей модели, аналогично `train.tsv`. \n",
    "Изначально колонка заполнена значением 0.\n",
    "\n",
    "# Критерии оценки\n",
    "1. Для оценки финального решения будет использоваться метрика F1 score.\n",
    "2. Чистота кода, оформление и понятность исследования.\n",
    "\n",
    "# Требования к решению\n",
    "В качестве решения мы ожидаем zip-архив со всеми *.py и *.ipynb файлами в папке solution и файлом `predictions.tsv` в корне. Формат имени zip-архива: LastName_FirstName.zip (пример Ivanov_Ivan.zip).\n",
    "Файл `predictions.tsv` должен включать в себя колонку title, содержащую те же данные, что и исходный файл `test.tsv`, а также колонку is_fake, содержащую значения 0 или 1.\n",
    "Разметка тестового набора данных и включение его в обучение/валидацию запрещены.\n",
    "\n",
    "В папке solution должно быть отражено исследование и весь код, необходимый для воспроизведения исследования.\n",
    "\n",
    "Успехов!"
   ]
  },
  {
   "cell_type": "code",
   "execution_count": 1,
   "metadata": {},
   "outputs": [
    {
     "name": "stdout",
     "output_type": "stream",
     "text": [
      "Requirement already satisfied: alabaster==0.7.12 in ./new_venv/lib/python3.8/site-packages (from -r requirements.txt (line 1)) (0.7.12)\n",
      "Requirement already satisfied: alembic==1.7.7 in ./new_venv/lib/python3.8/site-packages (from -r requirements.txt (line 2)) (1.7.7)\n",
      "Requirement already satisfied: asttokens==2.0.5 in ./new_venv/lib/python3.8/site-packages (from -r requirements.txt (line 3)) (2.0.5)\n",
      "Requirement already satisfied: attrs==21.4.0 in ./new_venv/lib/python3.8/site-packages (from -r requirements.txt (line 4)) (21.4.0)\n",
      "Requirement already satisfied: autopage==0.5.0 in ./new_venv/lib/python3.8/site-packages (from -r requirements.txt (line 5)) (0.5.0)\n",
      "Requirement already satisfied: autowoe==1.3.2 in ./new_venv/lib/python3.8/site-packages (from -r requirements.txt (line 6)) (1.3.2)\n",
      "Requirement already satisfied: Babel==2.10.1 in ./new_venv/lib/python3.8/site-packages (from -r requirements.txt (line 7)) (2.10.1)\n",
      "Requirement already satisfied: backcall==0.2.0 in ./new_venv/lib/python3.8/site-packages (from -r requirements.txt (line 8)) (0.2.0)\n",
      "Requirement already satisfied: beautifulsoup4==4.11.1 in ./new_venv/lib/python3.8/site-packages (from -r requirements.txt (line 9)) (4.11.1)\n",
      "Requirement already satisfied: catboost==1.0.5 in ./new_venv/lib/python3.8/site-packages (from -r requirements.txt (line 10)) (1.0.5)\n",
      "Requirement already satisfied: certifi==2021.10.8 in ./new_venv/lib/python3.8/site-packages (from -r requirements.txt (line 11)) (2021.10.8)\n",
      "Requirement already satisfied: chardet==3.0.4 in ./new_venv/lib/python3.8/site-packages (from -r requirements.txt (line 12)) (3.0.4)\n",
      "Requirement already satisfied: charset-normalizer==2.0.12 in ./new_venv/lib/python3.8/site-packages (from -r requirements.txt (line 13)) (2.0.12)\n",
      "Requirement already satisfied: click==8.1.2 in ./new_venv/lib/python3.8/site-packages (from -r requirements.txt (line 14)) (8.1.2)\n",
      "Requirement already satisfied: cliff==3.10.1 in ./new_venv/lib/python3.8/site-packages (from -r requirements.txt (line 15)) (3.10.1)\n",
      "Requirement already satisfied: cmaes==0.8.2 in ./new_venv/lib/python3.8/site-packages (from -r requirements.txt (line 16)) (0.8.2)\n",
      "Requirement already satisfied: cmd2==2.4.1 in ./new_venv/lib/python3.8/site-packages (from -r requirements.txt (line 17)) (2.4.1)\n",
      "Requirement already satisfied: colorlog==6.6.0 in ./new_venv/lib/python3.8/site-packages (from -r requirements.txt (line 18)) (6.6.0)\n",
      "Requirement already satisfied: convertdate==2.4.0 in ./new_venv/lib/python3.8/site-packages (from -r requirements.txt (line 19)) (2.4.0)\n",
      "Requirement already satisfied: cycler==0.11.0 in ./new_venv/lib/python3.8/site-packages (from -r requirements.txt (line 20)) (0.11.0)\n",
      "Requirement already satisfied: dataclasses==0.6 in ./new_venv/lib/python3.8/site-packages (from -r requirements.txt (line 21)) (0.6)\n",
      "Requirement already satisfied: debugpy==1.6.0 in ./new_venv/lib/python3.8/site-packages (from -r requirements.txt (line 22)) (1.6.0)\n",
      "Requirement already satisfied: decorator==5.1.1 in ./new_venv/lib/python3.8/site-packages (from -r requirements.txt (line 23)) (5.1.1)\n",
      "Requirement already satisfied: docutils==0.17.1 in ./new_venv/lib/python3.8/site-packages (from -r requirements.txt (line 24)) (0.17.1)\n",
      "Requirement already satisfied: entrypoints==0.4 in ./new_venv/lib/python3.8/site-packages (from -r requirements.txt (line 25)) (0.4)\n",
      "Requirement already satisfied: executing==0.8.3 in ./new_venv/lib/python3.8/site-packages (from -r requirements.txt (line 26)) (0.8.3)\n",
      "Requirement already satisfied: filelock==3.6.0 in ./new_venv/lib/python3.8/site-packages (from -r requirements.txt (line 27)) (3.6.0)\n",
      "Requirement already satisfied: fonttools==4.33.2 in ./new_venv/lib/python3.8/site-packages (from -r requirements.txt (line 28)) (4.33.2)\n",
      "Requirement already satisfied: gensim==4.1.2 in ./new_venv/lib/python3.8/site-packages (from -r requirements.txt (line 29)) (4.1.2)\n",
      "Requirement already satisfied: google==3.0.0 in ./new_venv/lib/python3.8/site-packages (from -r requirements.txt (line 30)) (3.0.0)\n",
      "Requirement already satisfied: googletrans==3.0.0 in ./new_venv/lib/python3.8/site-packages (from -r requirements.txt (line 31)) (3.0.0)\n",
      "Requirement already satisfied: graphviz==0.20 in ./new_venv/lib/python3.8/site-packages (from -r requirements.txt (line 32)) (0.20)\n",
      "Requirement already satisfied: greenlet==1.1.2 in ./new_venv/lib/python3.8/site-packages (from -r requirements.txt (line 33)) (1.1.2)\n",
      "Requirement already satisfied: h11==0.9.0 in ./new_venv/lib/python3.8/site-packages (from -r requirements.txt (line 34)) (0.9.0)\n",
      "Requirement already satisfied: h2==3.2.0 in ./new_venv/lib/python3.8/site-packages (from -r requirements.txt (line 35)) (3.2.0)\n",
      "Requirement already satisfied: hijri-converter==2.2.3 in ./new_venv/lib/python3.8/site-packages (from -r requirements.txt (line 36)) (2.2.3)\n",
      "Requirement already satisfied: holidays==0.13 in ./new_venv/lib/python3.8/site-packages (from -r requirements.txt (line 37)) (0.13)\n",
      "Requirement already satisfied: hpack==3.0.0 in ./new_venv/lib/python3.8/site-packages (from -r requirements.txt (line 38)) (3.0.0)\n",
      "Requirement already satisfied: hstspreload==2021.12.1 in ./new_venv/lib/python3.8/site-packages (from -r requirements.txt (line 39)) (2021.12.1)\n",
      "Requirement already satisfied: httpcore==0.9.1 in ./new_venv/lib/python3.8/site-packages (from -r requirements.txt (line 40)) (0.9.1)\n",
      "Requirement already satisfied: httpx==0.13.3 in ./new_venv/lib/python3.8/site-packages (from -r requirements.txt (line 41)) (0.13.3)\n",
      "Requirement already satisfied: huggingface-hub==0.5.1 in ./new_venv/lib/python3.8/site-packages (from -r requirements.txt (line 42)) (0.5.1)\n",
      "Requirement already satisfied: hyperframe==5.2.0 in ./new_venv/lib/python3.8/site-packages (from -r requirements.txt (line 43)) (5.2.0)\n",
      "Requirement already satisfied: idna==2.10 in ./new_venv/lib/python3.8/site-packages (from -r requirements.txt (line 44)) (2.10)\n",
      "Requirement already satisfied: imagesize==1.3.0 in ./new_venv/lib/python3.8/site-packages (from -r requirements.txt (line 45)) (1.3.0)\n",
      "Requirement already satisfied: importlib-metadata==4.11.3 in ./new_venv/lib/python3.8/site-packages (from -r requirements.txt (line 46)) (4.11.3)\n",
      "Requirement already satisfied: importlib-resources==5.7.1 in ./new_venv/lib/python3.8/site-packages (from -r requirements.txt (line 47)) (5.7.1)\n",
      "Requirement already satisfied: iniconfig==1.1.1 in ./new_venv/lib/python3.8/site-packages (from -r requirements.txt (line 48)) (1.1.1)\n",
      "Requirement already satisfied: ipykernel==6.13.0 in ./new_venv/lib/python3.8/site-packages (from -r requirements.txt (line 49)) (6.13.0)\n",
      "Requirement already satisfied: ipython==8.2.0 in ./new_venv/lib/python3.8/site-packages (from -r requirements.txt (line 50)) (8.2.0)\n",
      "Requirement already satisfied: jedi==0.18.1 in ./new_venv/lib/python3.8/site-packages (from -r requirements.txt (line 51)) (0.18.1)\n",
      "Requirement already satisfied: Jinja2==3.1.1 in ./new_venv/lib/python3.8/site-packages (from -r requirements.txt (line 52)) (3.1.1)\n",
      "Requirement already satisfied: joblib==1.1.0 in ./new_venv/lib/python3.8/site-packages (from -r requirements.txt (line 53)) (1.1.0)\n",
      "Requirement already satisfied: json2html==1.3.0 in ./new_venv/lib/python3.8/site-packages (from -r requirements.txt (line 54)) (1.3.0)\n",
      "Requirement already satisfied: jupyter==1.0.0 in ./new_venv/lib/python3.8/site-packages (from -r requirements.txt (line 55)) (1.0.0)\n",
      "Requirement already satisfied: jupyter-client==7.2.2 in ./new_venv/lib/python3.8/site-packages (from -r requirements.txt (line 56)) (7.2.2)\n",
      "Requirement already satisfied: jupyter-core==4.10.0 in ./new_venv/lib/python3.8/site-packages (from -r requirements.txt (line 57)) (4.10.0)\n",
      "Requirement already satisfied: kiwisolver==1.4.2 in ./new_venv/lib/python3.8/site-packages (from -r requirements.txt (line 58)) (1.4.2)\n",
      "Requirement already satisfied: korean-lunar-calendar==0.2.1 in ./new_venv/lib/python3.8/site-packages (from -r requirements.txt (line 59)) (0.2.1)\n",
      "Requirement already satisfied: lightautoml==0.3.4 in ./new_venv/lib/python3.8/site-packages (from -r requirements.txt (line 60)) (0.3.4)\n",
      "Requirement already satisfied: lightgbm==2.3.1 in ./new_venv/lib/python3.8/site-packages (from -r requirements.txt (line 61)) (2.3.1)\n",
      "Requirement already satisfied: Mako==1.2.0 in ./new_venv/lib/python3.8/site-packages (from -r requirements.txt (line 62)) (1.2.0)\n",
      "Requirement already satisfied: MarkupSafe==2.1.1 in ./new_venv/lib/python3.8/site-packages (from -r requirements.txt (line 63)) (2.1.1)\n",
      "Requirement already satisfied: matplotlib==3.5.1 in ./new_venv/lib/python3.8/site-packages (from -r requirements.txt (line 64)) (3.5.1)\n",
      "Requirement already satisfied: matplotlib-inline==0.1.3 in ./new_venv/lib/python3.8/site-packages (from -r requirements.txt (line 65)) (0.1.3)\n",
      "Requirement already satisfied: nest-asyncio==1.5.5 in ./new_venv/lib/python3.8/site-packages (from -r requirements.txt (line 66)) (1.5.5)\n",
      "Requirement already satisfied: networkx==2.8 in ./new_venv/lib/python3.8/site-packages (from -r requirements.txt (line 67)) (2.8)\n",
      "Requirement already satisfied: nltk==3.7 in ./new_venv/lib/python3.8/site-packages (from -r requirements.txt (line 68)) (3.7)\n",
      "Requirement already satisfied: numpy==1.22.3 in ./new_venv/lib/python3.8/site-packages (from -r requirements.txt (line 69)) (1.22.3)\n",
      "Requirement already satisfied: optuna==2.10.0 in ./new_venv/lib/python3.8/site-packages (from -r requirements.txt (line 70)) (2.10.0)\n"
     ]
    },
    {
     "name": "stdout",
     "output_type": "stream",
     "text": [
      "Requirement already satisfied: packaging==21.3 in ./new_venv/lib/python3.8/site-packages (from -r requirements.txt (line 71)) (21.3)\n",
      "Requirement already satisfied: pandas==1.4.2 in ./new_venv/lib/python3.8/site-packages (from -r requirements.txt (line 72)) (1.4.2)\n",
      "Requirement already satisfied: parso==0.8.3 in ./new_venv/lib/python3.8/site-packages (from -r requirements.txt (line 73)) (0.8.3)\n",
      "Requirement already satisfied: pbr==5.8.1 in ./new_venv/lib/python3.8/site-packages (from -r requirements.txt (line 74)) (5.8.1)\n",
      "Requirement already satisfied: pexpect==4.8.0 in ./new_venv/lib/python3.8/site-packages (from -r requirements.txt (line 75)) (4.8.0)\n",
      "Requirement already satisfied: pickleshare==0.7.5 in ./new_venv/lib/python3.8/site-packages (from -r requirements.txt (line 76)) (0.7.5)\n",
      "Requirement already satisfied: Pillow==9.1.0 in ./new_venv/lib/python3.8/site-packages (from -r requirements.txt (line 77)) (9.1.0)\n",
      "Requirement already satisfied: plotly==5.7.0 in ./new_venv/lib/python3.8/site-packages (from -r requirements.txt (line 78)) (5.7.0)\n",
      "Requirement already satisfied: pluggy==1.0.0 in ./new_venv/lib/python3.8/site-packages (from -r requirements.txt (line 79)) (1.0.0)\n",
      "Requirement already satisfied: poetry-core==1.0.8 in ./new_venv/lib/python3.8/site-packages (from -r requirements.txt (line 80)) (1.0.8)\n",
      "Requirement already satisfied: prettytable==3.2.0 in ./new_venv/lib/python3.8/site-packages (from -r requirements.txt (line 81)) (3.2.0)\n",
      "Requirement already satisfied: prompt-toolkit==3.0.29 in ./new_venv/lib/python3.8/site-packages (from -r requirements.txt (line 82)) (3.0.29)\n",
      "Requirement already satisfied: psutil==5.9.0 in ./new_venv/lib/python3.8/site-packages (from -r requirements.txt (line 83)) (5.9.0)\n",
      "Requirement already satisfied: ptyprocess==0.7.0 in ./new_venv/lib/python3.8/site-packages (from -r requirements.txt (line 84)) (0.7.0)\n",
      "Requirement already satisfied: pure-eval==0.2.2 in ./new_venv/lib/python3.8/site-packages (from -r requirements.txt (line 85)) (0.2.2)\n",
      "Requirement already satisfied: py==1.11.0 in ./new_venv/lib/python3.8/site-packages (from -r requirements.txt (line 86)) (1.11.0)\n",
      "Requirement already satisfied: Pygments==2.11.2 in ./new_venv/lib/python3.8/site-packages (from -r requirements.txt (line 87)) (2.11.2)\n",
      "Requirement already satisfied: PyMeeus==0.5.11 in ./new_venv/lib/python3.8/site-packages (from -r requirements.txt (line 88)) (0.5.11)\n",
      "Requirement already satisfied: pymystem3==0.2.0 in ./new_venv/lib/python3.8/site-packages (from -r requirements.txt (line 89)) (0.2.0)\n",
      "Requirement already satisfied: pyparsing==3.0.8 in ./new_venv/lib/python3.8/site-packages (from -r requirements.txt (line 90)) (3.0.8)\n",
      "Requirement already satisfied: pyperclip==1.8.2 in ./new_venv/lib/python3.8/site-packages (from -r requirements.txt (line 91)) (1.8.2)\n",
      "Requirement already satisfied: pytest==7.1.1 in ./new_venv/lib/python3.8/site-packages (from -r requirements.txt (line 92)) (7.1.1)\n",
      "Requirement already satisfied: python-dateutil==2.8.2 in ./new_venv/lib/python3.8/site-packages (from -r requirements.txt (line 93)) (2.8.2)\n",
      "Requirement already satisfied: pytz==2022.1 in ./new_venv/lib/python3.8/site-packages (from -r requirements.txt (line 94)) (2022.1)\n",
      "Requirement already satisfied: PyYAML==6.0 in ./new_venv/lib/python3.8/site-packages (from -r requirements.txt (line 95)) (6.0)\n",
      "Requirement already satisfied: pyzmq==22.3.0 in ./new_venv/lib/python3.8/site-packages (from -r requirements.txt (line 96)) (22.3.0)\n",
      "Requirement already satisfied: regex==2022.3.15 in ./new_venv/lib/python3.8/site-packages (from -r requirements.txt (line 97)) (2022.3.15)\n",
      "Requirement already satisfied: requests==2.27.1 in ./new_venv/lib/python3.8/site-packages (from -r requirements.txt (line 98)) (2.27.1)\n",
      "Requirement already satisfied: rfc3986==1.5.0 in ./new_venv/lib/python3.8/site-packages (from -r requirements.txt (line 99)) (1.5.0)\n",
      "Requirement already satisfied: sacremoses==0.0.49 in ./new_venv/lib/python3.8/site-packages (from -r requirements.txt (line 100)) (0.0.49)\n",
      "Requirement already satisfied: scikit-learn==1.0.2 in ./new_venv/lib/python3.8/site-packages (from -r requirements.txt (line 101)) (1.0.2)\n",
      "Requirement already satisfied: scipy==1.5.4 in ./new_venv/lib/python3.8/site-packages (from -r requirements.txt (line 102)) (1.5.4)\n",
      "Requirement already satisfied: seaborn==0.11.2 in ./new_venv/lib/python3.8/site-packages (from -r requirements.txt (line 103)) (0.11.2)\n",
      "Requirement already satisfied: six==1.16.0 in ./new_venv/lib/python3.8/site-packages (from -r requirements.txt (line 104)) (1.16.0)\n",
      "Requirement already satisfied: smart-open==5.2.1 in ./new_venv/lib/python3.8/site-packages (from -r requirements.txt (line 105)) (5.2.1)\n",
      "Requirement already satisfied: sniffio==1.2.0 in ./new_venv/lib/python3.8/site-packages (from -r requirements.txt (line 106)) (1.2.0)\n",
      "Requirement already satisfied: snowballstemmer==2.2.0 in ./new_venv/lib/python3.8/site-packages (from -r requirements.txt (line 107)) (2.2.0)\n",
      "Requirement already satisfied: soupsieve==2.3.2.post1 in ./new_venv/lib/python3.8/site-packages (from -r requirements.txt (line 108)) (2.3.2.post1)\n",
      "Requirement already satisfied: Sphinx==4.5.0 in ./new_venv/lib/python3.8/site-packages (from -r requirements.txt (line 109)) (4.5.0)\n",
      "Requirement already satisfied: sphinx-rtd-theme==1.0.0 in ./new_venv/lib/python3.8/site-packages (from -r requirements.txt (line 110)) (1.0.0)\n",
      "Requirement already satisfied: sphinxcontrib-applehelp==1.0.2 in ./new_venv/lib/python3.8/site-packages (from -r requirements.txt (line 111)) (1.0.2)\n",
      "Requirement already satisfied: sphinxcontrib-devhelp==1.0.2 in ./new_venv/lib/python3.8/site-packages (from -r requirements.txt (line 112)) (1.0.2)\n",
      "Requirement already satisfied: sphinxcontrib-htmlhelp==2.0.0 in ./new_venv/lib/python3.8/site-packages (from -r requirements.txt (line 113)) (2.0.0)\n",
      "Requirement already satisfied: sphinxcontrib-jsmath==1.0.1 in ./new_venv/lib/python3.8/site-packages (from -r requirements.txt (line 114)) (1.0.1)\n",
      "Requirement already satisfied: sphinxcontrib-qthelp==1.0.3 in ./new_venv/lib/python3.8/site-packages (from -r requirements.txt (line 115)) (1.0.3)\n",
      "Requirement already satisfied: sphinxcontrib-serializinghtml==1.1.5 in ./new_venv/lib/python3.8/site-packages (from -r requirements.txt (line 116)) (1.1.5)\n",
      "Requirement already satisfied: SQLAlchemy==1.4.35 in ./new_venv/lib/python3.8/site-packages (from -r requirements.txt (line 117)) (1.4.35)\n",
      "Requirement already satisfied: stack-data==0.2.0 in ./new_venv/lib/python3.8/site-packages (from -r requirements.txt (line 118)) (0.2.0)\n",
      "Requirement already satisfied: stevedore==3.5.0 in ./new_venv/lib/python3.8/site-packages (from -r requirements.txt (line 119)) (3.5.0)\n",
      "Requirement already satisfied: StrEnum==0.4.7 in ./new_venv/lib/python3.8/site-packages (from -r requirements.txt (line 120)) (0.4.7)\n",
      "Requirement already satisfied: tenacity==8.0.1 in ./new_venv/lib/python3.8/site-packages (from -r requirements.txt (line 121)) (8.0.1)\n",
      "Requirement already satisfied: threadpoolctl==3.1.0 in ./new_venv/lib/python3.8/site-packages (from -r requirements.txt (line 122)) (3.1.0)\n",
      "Requirement already satisfied: tokenizers==0.12.1 in ./new_venv/lib/python3.8/site-packages (from -r requirements.txt (line 123)) (0.12.1)\n",
      "Requirement already satisfied: tomli==2.0.1 in ./new_venv/lib/python3.8/site-packages (from -r requirements.txt (line 124)) (2.0.1)\n",
      "Requirement already satisfied: torch==1.8.1 in ./new_venv/lib/python3.8/site-packages (from -r requirements.txt (line 125)) (1.8.1)\n",
      "Requirement already satisfied: torchvision==0.12.0 in ./new_venv/lib/python3.8/site-packages (from -r requirements.txt (line 126)) (0.12.0)\n",
      "Requirement already satisfied: tornado==6.1 in ./new_venv/lib/python3.8/site-packages (from -r requirements.txt (line 127)) (6.1)\n",
      "Requirement already satisfied: tqdm==4.64.0 in ./new_venv/lib/python3.8/site-packages (from -r requirements.txt (line 128)) (4.64.0)\n",
      "Requirement already satisfied: traitlets==5.1.1 in ./new_venv/lib/python3.8/site-packages (from -r requirements.txt (line 129)) (5.1.1)\n",
      "Requirement already satisfied: transformers==4.18.0 in ./new_venv/lib/python3.8/site-packages (from -r requirements.txt (line 130)) (4.18.0)\n"
     ]
    },
    {
     "name": "stdout",
     "output_type": "stream",
     "text": [
      "Requirement already satisfied: typing-extensions==4.2.0 in ./new_venv/lib/python3.8/site-packages (from -r requirements.txt (line 131)) (4.2.0)\n",
      "Requirement already satisfied: urllib3==1.26.9 in ./new_venv/lib/python3.8/site-packages (from -r requirements.txt (line 132)) (1.26.9)\n",
      "Requirement already satisfied: wcwidth==0.2.5 in ./new_venv/lib/python3.8/site-packages (from -r requirements.txt (line 133)) (0.2.5)\n",
      "Requirement already satisfied: wordcloud==1.8.1 in ./new_venv/lib/python3.8/site-packages (from -r requirements.txt (line 134)) (1.8.1)\n",
      "Requirement already satisfied: zipp==3.8.0 in ./new_venv/lib/python3.8/site-packages (from -r requirements.txt (line 135)) (3.8.0)\n",
      "Requirement already satisfied: setuptools>=18.5 in ./new_venv/lib/python3.8/site-packages (from ipython==8.2.0->-r requirements.txt (line 50)) (44.0.0)\n",
      "Requirement already satisfied: ipywidgets in ./new_venv/lib/python3.8/site-packages (from jupyter==1.0.0->-r requirements.txt (line 55)) (7.7.0)\n",
      "Requirement already satisfied: qtconsole in ./new_venv/lib/python3.8/site-packages (from jupyter==1.0.0->-r requirements.txt (line 55)) (5.3.0)\n",
      "Requirement already satisfied: notebook in ./new_venv/lib/python3.8/site-packages (from jupyter==1.0.0->-r requirements.txt (line 55)) (6.4.11)\n",
      "Requirement already satisfied: jupyter-console in ./new_venv/lib/python3.8/site-packages (from jupyter==1.0.0->-r requirements.txt (line 55)) (6.4.3)\n",
      "Requirement already satisfied: nbconvert in ./new_venv/lib/python3.8/site-packages (from jupyter==1.0.0->-r requirements.txt (line 55)) (6.5.0)\n",
      "Requirement already satisfied: widgetsnbextension~=3.6.0 in ./new_venv/lib/python3.8/site-packages (from ipywidgets->jupyter==1.0.0->-r requirements.txt (line 55)) (3.6.0)\n",
      "Requirement already satisfied: nbformat>=4.2.0 in ./new_venv/lib/python3.8/site-packages (from ipywidgets->jupyter==1.0.0->-r requirements.txt (line 55)) (5.3.0)\n",
      "Requirement already satisfied: ipython-genutils~=0.2.0 in ./new_venv/lib/python3.8/site-packages (from ipywidgets->jupyter==1.0.0->-r requirements.txt (line 55)) (0.2.0)\n",
      "Requirement already satisfied: jupyterlab-widgets>=1.0.0; python_version >= \"3.6\" in ./new_venv/lib/python3.8/site-packages (from ipywidgets->jupyter==1.0.0->-r requirements.txt (line 55)) (1.1.0)\n",
      "Requirement already satisfied: qtpy>=2.0.1 in ./new_venv/lib/python3.8/site-packages (from qtconsole->jupyter==1.0.0->-r requirements.txt (line 55)) (2.0.1)\n",
      "Requirement already satisfied: Send2Trash>=1.8.0 in ./new_venv/lib/python3.8/site-packages (from notebook->jupyter==1.0.0->-r requirements.txt (line 55)) (1.8.0)\n",
      "Requirement already satisfied: prometheus-client in ./new_venv/lib/python3.8/site-packages (from notebook->jupyter==1.0.0->-r requirements.txt (line 55)) (0.14.1)\n",
      "Requirement already satisfied: terminado>=0.8.3 in ./new_venv/lib/python3.8/site-packages (from notebook->jupyter==1.0.0->-r requirements.txt (line 55)) (0.13.3)\n",
      "Requirement already satisfied: argon2-cffi in ./new_venv/lib/python3.8/site-packages (from notebook->jupyter==1.0.0->-r requirements.txt (line 55)) (21.3.0)\n",
      "Requirement already satisfied: jupyterlab-pygments in ./new_venv/lib/python3.8/site-packages (from nbconvert->jupyter==1.0.0->-r requirements.txt (line 55)) (0.2.2)\n",
      "Requirement already satisfied: defusedxml in ./new_venv/lib/python3.8/site-packages (from nbconvert->jupyter==1.0.0->-r requirements.txt (line 55)) (0.7.1)\n",
      "Requirement already satisfied: bleach in ./new_venv/lib/python3.8/site-packages (from nbconvert->jupyter==1.0.0->-r requirements.txt (line 55)) (5.0.0)\n",
      "Requirement already satisfied: nbclient>=0.5.0 in ./new_venv/lib/python3.8/site-packages (from nbconvert->jupyter==1.0.0->-r requirements.txt (line 55)) (0.6.0)\n",
      "Requirement already satisfied: mistune<2,>=0.8.1 in ./new_venv/lib/python3.8/site-packages (from nbconvert->jupyter==1.0.0->-r requirements.txt (line 55)) (0.8.4)\n",
      "Requirement already satisfied: pandocfilters>=1.4.1 in ./new_venv/lib/python3.8/site-packages (from nbconvert->jupyter==1.0.0->-r requirements.txt (line 55)) (1.5.0)\n",
      "Requirement already satisfied: tinycss2 in ./new_venv/lib/python3.8/site-packages (from nbconvert->jupyter==1.0.0->-r requirements.txt (line 55)) (1.1.1)\n",
      "Requirement already satisfied: fastjsonschema in ./new_venv/lib/python3.8/site-packages (from nbformat>=4.2.0->ipywidgets->jupyter==1.0.0->-r requirements.txt (line 55)) (2.15.3)\n",
      "Requirement already satisfied: jsonschema>=2.6 in ./new_venv/lib/python3.8/site-packages (from nbformat>=4.2.0->ipywidgets->jupyter==1.0.0->-r requirements.txt (line 55)) (4.4.0)\n",
      "Requirement already satisfied: argon2-cffi-bindings in ./new_venv/lib/python3.8/site-packages (from argon2-cffi->notebook->jupyter==1.0.0->-r requirements.txt (line 55)) (21.2.0)\n",
      "Requirement already satisfied: webencodings in ./new_venv/lib/python3.8/site-packages (from bleach->nbconvert->jupyter==1.0.0->-r requirements.txt (line 55)) (0.5.1)\n",
      "Requirement already satisfied: pyrsistent!=0.17.0,!=0.17.1,!=0.17.2,>=0.14.0 in ./new_venv/lib/python3.8/site-packages (from jsonschema>=2.6->nbformat>=4.2.0->ipywidgets->jupyter==1.0.0->-r requirements.txt (line 55)) (0.18.1)\n",
      "Requirement already satisfied: cffi>=1.0.1 in ./new_venv/lib/python3.8/site-packages (from argon2-cffi-bindings->argon2-cffi->notebook->jupyter==1.0.0->-r requirements.txt (line 55)) (1.15.0)\n",
      "Requirement already satisfied: pycparser in ./new_venv/lib/python3.8/site-packages (from cffi>=1.0.1->argon2-cffi-bindings->argon2-cffi->notebook->jupyter==1.0.0->-r requirements.txt (line 55)) (2.21)\n"
     ]
    }
   ],
   "source": [
    "! pip install -r requirements.txt"
   ]
  },
  {
   "cell_type": "code",
   "execution_count": 2,
   "metadata": {},
   "outputs": [],
   "source": [
    "import numpy as np\n",
    "import pandas as pd\n",
    "import seaborn as sns\n",
    "import matplotlib.pyplot as plt\n",
    "from sklearn.metrics import classification_report\n",
    "from sklearn.model_selection import train_test_split\n",
    "import warnings\n",
    "warnings.filterwarnings(\"ignore\")\n",
    "from collections import Counter\n",
    "from functools import partial\n",
    "from lightautoml.tasks import Task\n",
    "from lightautoml.automl.presets.text_presets import TabularNLPAutoML"
   ]
  },
  {
   "cell_type": "code",
   "execution_count": 3,
   "metadata": {},
   "outputs": [],
   "source": [
    "RANDOM_STATE = 228\n",
    "TEST_SIZE = 0.3\n",
    "FOLDS_NUMBER = 5"
   ]
  },
  {
   "cell_type": "markdown",
   "metadata": {},
   "source": [
    "## EDA"
   ]
  },
  {
   "cell_type": "code",
   "execution_count": 4,
   "metadata": {},
   "outputs": [
    {
     "data": {
      "text/html": [
       "<div>\n",
       "<style scoped>\n",
       "    .dataframe tbody tr th:only-of-type {\n",
       "        vertical-align: middle;\n",
       "    }\n",
       "\n",
       "    .dataframe tbody tr th {\n",
       "        vertical-align: top;\n",
       "    }\n",
       "\n",
       "    .dataframe thead th {\n",
       "        text-align: right;\n",
       "    }\n",
       "</style>\n",
       "<table border=\"1\" class=\"dataframe\">\n",
       "  <thead>\n",
       "    <tr style=\"text-align: right;\">\n",
       "      <th></th>\n",
       "      <th>title</th>\n",
       "      <th>is_fake</th>\n",
       "    </tr>\n",
       "  </thead>\n",
       "  <tbody>\n",
       "    <tr>\n",
       "      <th>0</th>\n",
       "      <td>Москвичу Владимиру Клутину пришёл счёт за вмеш...</td>\n",
       "      <td>1</td>\n",
       "    </tr>\n",
       "    <tr>\n",
       "      <th>1</th>\n",
       "      <td>Агент Кокорина назвал езду по встречке житейск...</td>\n",
       "      <td>0</td>\n",
       "    </tr>\n",
       "    <tr>\n",
       "      <th>2</th>\n",
       "      <td>Госдума рассмотрит возможность введения секрет...</td>\n",
       "      <td>1</td>\n",
       "    </tr>\n",
       "    <tr>\n",
       "      <th>3</th>\n",
       "      <td>ФАС заблокировала поставку скоростных трамваев...</td>\n",
       "      <td>0</td>\n",
       "    </tr>\n",
       "    <tr>\n",
       "      <th>4</th>\n",
       "      <td>Против Навального завели дело о недоносительст...</td>\n",
       "      <td>1</td>\n",
       "    </tr>\n",
       "  </tbody>\n",
       "</table>\n",
       "</div>"
      ],
      "text/plain": [
       "                                               title  is_fake\n",
       "0  Москвичу Владимиру Клутину пришёл счёт за вмеш...        1\n",
       "1  Агент Кокорина назвал езду по встречке житейск...        0\n",
       "2  Госдума рассмотрит возможность введения секрет...        1\n",
       "3  ФАС заблокировала поставку скоростных трамваев...        0\n",
       "4  Против Навального завели дело о недоносительст...        1"
      ]
     },
     "execution_count": 4,
     "metadata": {},
     "output_type": "execute_result"
    }
   ],
   "source": [
    "df = pd.read_csv('dataset/train.tsv', sep='\\t')\n",
    "test_df = pd.read_csv('dataset/test.tsv', sep='\\t')\n",
    "df.head()"
   ]
  },
  {
   "cell_type": "code",
   "execution_count": 5,
   "metadata": {},
   "outputs": [
    {
     "data": {
      "text/html": [
       "<div>\n",
       "<style scoped>\n",
       "    .dataframe tbody tr th:only-of-type {\n",
       "        vertical-align: middle;\n",
       "    }\n",
       "\n",
       "    .dataframe tbody tr th {\n",
       "        vertical-align: top;\n",
       "    }\n",
       "\n",
       "    .dataframe thead th {\n",
       "        text-align: right;\n",
       "    }\n",
       "</style>\n",
       "<table border=\"1\" class=\"dataframe\">\n",
       "  <thead>\n",
       "    <tr style=\"text-align: right;\">\n",
       "      <th></th>\n",
       "      <th>is_fake</th>\n",
       "    </tr>\n",
       "  </thead>\n",
       "  <tbody>\n",
       "    <tr>\n",
       "      <th>count</th>\n",
       "      <td>5758.000000</td>\n",
       "    </tr>\n",
       "    <tr>\n",
       "      <th>mean</th>\n",
       "      <td>0.500000</td>\n",
       "    </tr>\n",
       "    <tr>\n",
       "      <th>std</th>\n",
       "      <td>0.500043</td>\n",
       "    </tr>\n",
       "    <tr>\n",
       "      <th>min</th>\n",
       "      <td>0.000000</td>\n",
       "    </tr>\n",
       "    <tr>\n",
       "      <th>25%</th>\n",
       "      <td>0.000000</td>\n",
       "    </tr>\n",
       "    <tr>\n",
       "      <th>50%</th>\n",
       "      <td>0.500000</td>\n",
       "    </tr>\n",
       "    <tr>\n",
       "      <th>75%</th>\n",
       "      <td>1.000000</td>\n",
       "    </tr>\n",
       "    <tr>\n",
       "      <th>max</th>\n",
       "      <td>1.000000</td>\n",
       "    </tr>\n",
       "  </tbody>\n",
       "</table>\n",
       "</div>"
      ],
      "text/plain": [
       "           is_fake\n",
       "count  5758.000000\n",
       "mean      0.500000\n",
       "std       0.500043\n",
       "min       0.000000\n",
       "25%       0.000000\n",
       "50%       0.500000\n",
       "75%       1.000000\n",
       "max       1.000000"
      ]
     },
     "execution_count": 5,
     "metadata": {},
     "output_type": "execute_result"
    }
   ],
   "source": [
    "df.describe()"
   ]
  },
  {
   "cell_type": "markdown",
   "metadata": {},
   "source": [
    "### Пропуски"
   ]
  },
  {
   "cell_type": "code",
   "execution_count": 6,
   "metadata": {},
   "outputs": [
    {
     "data": {
      "text/plain": [
       "title      0\n",
       "is_fake    0\n",
       "dtype: int64"
      ]
     },
     "execution_count": 6,
     "metadata": {},
     "output_type": "execute_result"
    }
   ],
   "source": [
    "df.isnull().sum()"
   ]
  },
  {
   "cell_type": "markdown",
   "metadata": {},
   "source": [
    "Пропуски в данных отсутствуют"
   ]
  },
  {
   "cell_type": "code",
   "execution_count": 7,
   "metadata": {},
   "outputs": [
    {
     "data": {
      "text/plain": [
       "<AxesSubplot:xlabel='is_fake', ylabel='count'>"
      ]
     },
     "execution_count": 7,
     "metadata": {},
     "output_type": "execute_result"
    },
    {
     "data": {
      "image/png": "[encoded data removed]",
      "text/plain": [
       "<Figure size 432x288 with 1 Axes>"
      ]
     },
     "metadata": {
      "needs_background": "light"
     },
     "output_type": "display_data"
    }
   ],
   "source": [
    "sns.countplot(x ='is_fake', data=df)"
   ]
  },
  {
   "cell_type": "markdown",
   "metadata": {},
   "source": [
    "### Баланс классов"
   ]
  },
  {
   "cell_type": "code",
   "execution_count": 8,
   "metadata": {},
   "outputs": [
    {
     "data": {
      "text/plain": [
       "1    2879\n",
       "0    2879\n",
       "Name: is_fake, dtype: int64"
      ]
     },
     "execution_count": 8,
     "metadata": {},
     "output_type": "execute_result"
    }
   ],
   "source": [
    "df['is_fake'].value_counts()"
   ]
  },
  {
   "cell_type": "markdown",
   "metadata": {},
   "source": [
    "Фейков и не фейков поровну"
   ]
  },
  {
   "cell_type": "markdown",
   "metadata": {},
   "source": [
    "### Длина заголовка\n",
    "Рассмотрим данные по длине в символах и словах"
   ]
  },
  {
   "cell_type": "code",
   "execution_count": 9,
   "metadata": {},
   "outputs": [],
   "source": [
    "df['char_count'] = df['title'].str.len()\n",
    "df['word_count'] = df['title'].str.split().str.len()"
   ]
  },
  {
   "cell_type": "code",
   "execution_count": 10,
   "metadata": {},
   "outputs": [
    {
     "name": "stdout",
     "output_type": "stream",
     "text": [
      "Длина самой большой строки в символах: 211\n",
      "Длина самой большой строки в словах: 37\n",
      "Длина самой маленькой строки в символах: 17\n",
      "Длина самой маленькой строки в словах: 3\n"
     ]
    }
   ],
   "source": [
    "print('Длина самой большой строки в символах:', df['char_count'].max())\n",
    "print('Длина самой большой строки в словах:', df['word_count'].max())\n",
    "print('Длина самой маленькой строки в символах:', df['char_count'].min())\n",
    "print('Длина самой маленькой строки в словах:', df['word_count'].min())"
   ]
  },
  {
   "cell_type": "markdown",
   "metadata": {},
   "source": [
    "Рассмотрим эти крайние случаи"
   ]
  },
  {
   "cell_type": "code",
   "execution_count": 11,
   "metadata": {},
   "outputs": [
    {
     "data": {
      "text/html": [
       "<div>\n",
       "<style scoped>\n",
       "    .dataframe tbody tr th:only-of-type {\n",
       "        vertical-align: middle;\n",
       "    }\n",
       "\n",
       "    .dataframe tbody tr th {\n",
       "        vertical-align: top;\n",
       "    }\n",
       "\n",
       "    .dataframe thead th {\n",
       "        text-align: right;\n",
       "    }\n",
       "</style>\n",
       "<table border=\"1\" class=\"dataframe\">\n",
       "  <thead>\n",
       "    <tr style=\"text-align: right;\">\n",
       "      <th></th>\n",
       "      <th>title</th>\n",
       "      <th>is_fake</th>\n",
       "      <th>char_count</th>\n",
       "      <th>word_count</th>\n",
       "    </tr>\n",
       "  </thead>\n",
       "  <tbody>\n",
       "    <tr>\n",
       "      <th>596</th>\n",
       "      <td>Студия-разработчик S.T.A.L.K.E.R. закроется</td>\n",
       "      <td>0</td>\n",
       "      <td>43</td>\n",
       "      <td>3</td>\n",
       "    </tr>\n",
       "    <tr>\n",
       "      <th>681</th>\n",
       "      <td>Умерла Татьяна Шмыга</td>\n",
       "      <td>0</td>\n",
       "      <td>20</td>\n",
       "      <td>3</td>\n",
       "    </tr>\n",
       "    <tr>\n",
       "      <th>1119</th>\n",
       "      <td>Зенит разгромил Локомотив</td>\n",
       "      <td>0</td>\n",
       "      <td>25</td>\n",
       "      <td>3</td>\n",
       "    </tr>\n",
       "    <tr>\n",
       "      <th>1243</th>\n",
       "      <td>Жуки-киборги заменят беспилотники</td>\n",
       "      <td>0</td>\n",
       "      <td>33</td>\n",
       "      <td>3</td>\n",
       "    </tr>\n",
       "    <tr>\n",
       "      <th>1415</th>\n",
       "      <td>Итоги года. Наука</td>\n",
       "      <td>1</td>\n",
       "      <td>17</td>\n",
       "      <td>3</td>\n",
       "    </tr>\n",
       "    <tr>\n",
       "      <th>1975</th>\n",
       "      <td>Павленского признали вменяемым</td>\n",
       "      <td>0</td>\n",
       "      <td>30</td>\n",
       "      <td>3</td>\n",
       "    </tr>\n",
       "    <tr>\n",
       "      <th>2130</th>\n",
       "      <td>Кудрин поможет регионам-середнякам</td>\n",
       "      <td>0</td>\n",
       "      <td>34</td>\n",
       "      <td>3</td>\n",
       "    </tr>\n",
       "    <tr>\n",
       "      <th>2702</th>\n",
       "      <td>«АвтоВАЗ» повысил цены</td>\n",
       "      <td>0</td>\n",
       "      <td>22</td>\n",
       "      <td>3</td>\n",
       "    </tr>\n",
       "    <tr>\n",
       "      <th>2859</th>\n",
       "      <td>Razer представила мышку-трансформер</td>\n",
       "      <td>0</td>\n",
       "      <td>35</td>\n",
       "      <td>3</td>\n",
       "    </tr>\n",
       "    <tr>\n",
       "      <th>3268</th>\n",
       "      <td>Группа Supergrass распалась</td>\n",
       "      <td>0</td>\n",
       "      <td>27</td>\n",
       "      <td>3</td>\n",
       "    </tr>\n",
       "  </tbody>\n",
       "</table>\n",
       "</div>"
      ],
      "text/plain": [
       "                                            title  is_fake  char_count  \\\n",
       "596   Студия-разработчик S.T.A.L.K.E.R. закроется        0          43   \n",
       "681                          Умерла Татьяна Шмыга        0          20   \n",
       "1119                    Зенит разгромил Локомотив        0          25   \n",
       "1243            Жуки-киборги заменят беспилотники        0          33   \n",
       "1415                            Итоги года. Наука        1          17   \n",
       "1975               Павленского признали вменяемым        0          30   \n",
       "2130           Кудрин поможет регионам-середнякам        0          34   \n",
       "2702                       «АвтоВАЗ» повысил цены        0          22   \n",
       "2859          Razer представила мышку-трансформер        0          35   \n",
       "3268                  Группа Supergrass распалась        0          27   \n",
       "\n",
       "      word_count  \n",
       "596            3  \n",
       "681            3  \n",
       "1119           3  \n",
       "1243           3  \n",
       "1415           3  \n",
       "1975           3  \n",
       "2130           3  \n",
       "2702           3  \n",
       "2859           3  \n",
       "3268           3  "
      ]
     },
     "execution_count": 11,
     "metadata": {},
     "output_type": "execute_result"
    }
   ],
   "source": [
    "df.nsmallest(10, 'word_count')"
   ]
  },
  {
   "cell_type": "code",
   "execution_count": 12,
   "metadata": {},
   "outputs": [
    {
     "data": {
      "text/html": [
       "<div>\n",
       "<style scoped>\n",
       "    .dataframe tbody tr th:only-of-type {\n",
       "        vertical-align: middle;\n",
       "    }\n",
       "\n",
       "    .dataframe tbody tr th {\n",
       "        vertical-align: top;\n",
       "    }\n",
       "\n",
       "    .dataframe thead th {\n",
       "        text-align: right;\n",
       "    }\n",
       "</style>\n",
       "<table border=\"1\" class=\"dataframe\">\n",
       "  <thead>\n",
       "    <tr style=\"text-align: right;\">\n",
       "      <th></th>\n",
       "      <th>title</th>\n",
       "      <th>is_fake</th>\n",
       "      <th>char_count</th>\n",
       "      <th>word_count</th>\n",
       "    </tr>\n",
       "  </thead>\n",
       "  <tbody>\n",
       "    <tr>\n",
       "      <th>261</th>\n",
       "      <td>Итоги года. Хорошие новости</td>\n",
       "      <td>1</td>\n",
       "      <td>27</td>\n",
       "      <td>4</td>\n",
       "    </tr>\n",
       "    <tr>\n",
       "      <th>1415</th>\n",
       "      <td>Итоги года. Наука</td>\n",
       "      <td>1</td>\n",
       "      <td>17</td>\n",
       "      <td>3</td>\n",
       "    </tr>\n",
       "    <tr>\n",
       "      <th>1473</th>\n",
       "      <td>Итоги года. Сделано у нас</td>\n",
       "      <td>1</td>\n",
       "      <td>25</td>\n",
       "      <td>5</td>\n",
       "    </tr>\n",
       "    <tr>\n",
       "      <th>3700</th>\n",
       "      <td>Итоги года. Политика</td>\n",
       "      <td>1</td>\n",
       "      <td>20</td>\n",
       "      <td>3</td>\n",
       "    </tr>\n",
       "    <tr>\n",
       "      <th>3841</th>\n",
       "      <td>Итоги года. Регионы</td>\n",
       "      <td>1</td>\n",
       "      <td>19</td>\n",
       "      <td>3</td>\n",
       "    </tr>\n",
       "    <tr>\n",
       "      <th>4320</th>\n",
       "      <td>Итоги года. Технологии</td>\n",
       "      <td>1</td>\n",
       "      <td>22</td>\n",
       "      <td>3</td>\n",
       "    </tr>\n",
       "    <tr>\n",
       "      <th>4389</th>\n",
       "      <td>Итоги года. Культура</td>\n",
       "      <td>1</td>\n",
       "      <td>20</td>\n",
       "      <td>3</td>\n",
       "    </tr>\n",
       "    <tr>\n",
       "      <th>4597</th>\n",
       "      <td>Итоги года. Плохие новости</td>\n",
       "      <td>1</td>\n",
       "      <td>26</td>\n",
       "      <td>4</td>\n",
       "    </tr>\n",
       "    <tr>\n",
       "      <th>4755</th>\n",
       "      <td>Итоги года. Россия</td>\n",
       "      <td>1</td>\n",
       "      <td>18</td>\n",
       "      <td>3</td>\n",
       "    </tr>\n",
       "  </tbody>\n",
       "</table>\n",
       "</div>"
      ],
      "text/plain": [
       "                            title  is_fake  char_count  word_count\n",
       "261   Итоги года. Хорошие новости        1          27           4\n",
       "1415            Итоги года. Наука        1          17           3\n",
       "1473    Итоги года. Сделано у нас        1          25           5\n",
       "3700         Итоги года. Политика        1          20           3\n",
       "3841          Итоги года. Регионы        1          19           3\n",
       "4320       Итоги года. Технологии        1          22           3\n",
       "4389         Итоги года. Культура        1          20           3\n",
       "4597   Итоги года. Плохие новости        1          26           4\n",
       "4755           Итоги года. Россия        1          18           3"
      ]
     },
     "execution_count": 12,
     "metadata": {},
     "output_type": "execute_result"
    }
   ],
   "source": [
    "df[df['title'].str.contains('Итоги года')]"
   ]
  },
  {
   "cell_type": "markdown",
   "metadata": {},
   "source": [
    "Удалим эти случаи, так как они очень неочевидные даже для человека"
   ]
  },
  {
   "cell_type": "code",
   "execution_count": 13,
   "metadata": {},
   "outputs": [],
   "source": [
    "df = df[~df.title.str.contains(\"Итоги года\")]"
   ]
  },
  {
   "cell_type": "code",
   "execution_count": 14,
   "metadata": {},
   "outputs": [
    {
     "data": {
      "text/html": [
       "<div>\n",
       "<style scoped>\n",
       "    .dataframe tbody tr th:only-of-type {\n",
       "        vertical-align: middle;\n",
       "    }\n",
       "\n",
       "    .dataframe tbody tr th {\n",
       "        vertical-align: top;\n",
       "    }\n",
       "\n",
       "    .dataframe thead th {\n",
       "        text-align: right;\n",
       "    }\n",
       "</style>\n",
       "<table border=\"1\" class=\"dataframe\">\n",
       "  <thead>\n",
       "    <tr style=\"text-align: right;\">\n",
       "      <th></th>\n",
       "      <th>title</th>\n",
       "      <th>is_fake</th>\n",
       "      <th>char_count</th>\n",
       "      <th>word_count</th>\n",
       "    </tr>\n",
       "  </thead>\n",
       "  <tbody>\n",
       "    <tr>\n",
       "      <th>968</th>\n",
       "      <td>«А что ты обращался к нам с лаем и дальше хоче...</td>\n",
       "      <td>1</td>\n",
       "      <td>211</td>\n",
       "      <td>37</td>\n",
       "    </tr>\n",
       "    <tr>\n",
       "      <th>5111</th>\n",
       "      <td>Американский чемпион-трансэйджер, драка пилото...</td>\n",
       "      <td>1</td>\n",
       "      <td>198</td>\n",
       "      <td>27</td>\n",
       "    </tr>\n",
       "    <tr>\n",
       "      <th>5703</th>\n",
       "      <td>Новые квартиры для ветеранов, туманные перспек...</td>\n",
       "      <td>1</td>\n",
       "      <td>184</td>\n",
       "      <td>26</td>\n",
       "    </tr>\n",
       "    <tr>\n",
       "      <th>4213</th>\n",
       "      <td>Урановые рудники для пенсионеров, электросамок...</td>\n",
       "      <td>1</td>\n",
       "      <td>191</td>\n",
       "      <td>25</td>\n",
       "    </tr>\n",
       "    <tr>\n",
       "      <th>5663</th>\n",
       "      <td>Новые женихи для королевы, западные атаки на Р...</td>\n",
       "      <td>1</td>\n",
       "      <td>172</td>\n",
       "      <td>25</td>\n",
       "    </tr>\n",
       "    <tr>\n",
       "      <th>1093</th>\n",
       "      <td>Лукашенко перед вылетом в Сочи призвал не бесп...</td>\n",
       "      <td>1</td>\n",
       "      <td>132</td>\n",
       "      <td>23</td>\n",
       "    </tr>\n",
       "    <tr>\n",
       "      <th>1378</th>\n",
       "      <td>Невезучий псковский математик, новая фабрика м...</td>\n",
       "      <td>1</td>\n",
       "      <td>169</td>\n",
       "      <td>23</td>\n",
       "    </tr>\n",
       "    <tr>\n",
       "      <th>2030</th>\n",
       "      <td>Новый юбилей Горбачёва, лицензии на выгребную ...</td>\n",
       "      <td>1</td>\n",
       "      <td>172</td>\n",
       "      <td>23</td>\n",
       "    </tr>\n",
       "    <tr>\n",
       "      <th>3237</th>\n",
       "      <td>Си Цзиньпин: «Если бы Китай стал частью СССР, ...</td>\n",
       "      <td>1</td>\n",
       "      <td>142</td>\n",
       "      <td>23</td>\n",
       "    </tr>\n",
       "    <tr>\n",
       "      <th>3518</th>\n",
       "      <td>Билл Клинтон: «В начале 90-х русские либералы ...</td>\n",
       "      <td>1</td>\n",
       "      <td>151</td>\n",
       "      <td>23</td>\n",
       "    </tr>\n",
       "  </tbody>\n",
       "</table>\n",
       "</div>"
      ],
      "text/plain": [
       "                                                  title  is_fake  char_count  \\\n",
       "968   «А что ты обращался к нам с лаем и дальше хоче...        1         211   \n",
       "5111  Американский чемпион-трансэйджер, драка пилото...        1         198   \n",
       "5703  Новые квартиры для ветеранов, туманные перспек...        1         184   \n",
       "4213  Урановые рудники для пенсионеров, электросамок...        1         191   \n",
       "5663  Новые женихи для королевы, западные атаки на Р...        1         172   \n",
       "1093  Лукашенко перед вылетом в Сочи призвал не бесп...        1         132   \n",
       "1378  Невезучий псковский математик, новая фабрика м...        1         169   \n",
       "2030  Новый юбилей Горбачёва, лицензии на выгребную ...        1         172   \n",
       "3237  Си Цзиньпин: «Если бы Китай стал частью СССР, ...        1         142   \n",
       "3518  Билл Клинтон: «В начале 90-х русские либералы ...        1         151   \n",
       "\n",
       "      word_count  \n",
       "968           37  \n",
       "5111          27  \n",
       "5703          26  \n",
       "4213          25  \n",
       "5663          25  \n",
       "1093          23  \n",
       "1378          23  \n",
       "2030          23  \n",
       "3237          23  \n",
       "3518          23  "
      ]
     },
     "execution_count": 14,
     "metadata": {},
     "output_type": "execute_result"
    }
   ],
   "source": [
    "df.nlargest(10, 'word_count')"
   ]
  },
  {
   "cell_type": "code",
   "execution_count": 15,
   "metadata": {},
   "outputs": [
    {
     "data": {
      "text/plain": [
       "'Американский чемпион-трансэйджер, драка пилотов за место на парковке в Пулково, кокаин на экономическом форуме и почему шелкопряд здешний, а не тутовый в нашей традиционной рубрике «Панорама недели»'"
      ]
     },
     "execution_count": 15,
     "metadata": {},
     "output_type": "execute_result"
    }
   ],
   "source": [
    "df[df['word_count'] == 27]['title'].iloc[0]"
   ]
  },
  {
   "cell_type": "code",
   "execution_count": 16,
   "metadata": {},
   "outputs": [
    {
     "data": {
      "text/html": [
       "<div>\n",
       "<style scoped>\n",
       "    .dataframe tbody tr th:only-of-type {\n",
       "        vertical-align: middle;\n",
       "    }\n",
       "\n",
       "    .dataframe tbody tr th {\n",
       "        vertical-align: top;\n",
       "    }\n",
       "\n",
       "    .dataframe thead th {\n",
       "        text-align: right;\n",
       "    }\n",
       "</style>\n",
       "<table border=\"1\" class=\"dataframe\">\n",
       "  <thead>\n",
       "    <tr style=\"text-align: right;\">\n",
       "      <th></th>\n",
       "      <th>title</th>\n",
       "      <th>is_fake</th>\n",
       "      <th>char_count</th>\n",
       "      <th>word_count</th>\n",
       "    </tr>\n",
       "  </thead>\n",
       "  <tbody>\n",
       "    <tr>\n",
       "      <th>325</th>\n",
       "      <td>Губернатор Моргенштерн, заблокированный Суэцки...</td>\n",
       "      <td>1</td>\n",
       "      <td>188</td>\n",
       "      <td>22</td>\n",
       "    </tr>\n",
       "    <tr>\n",
       "      <th>1378</th>\n",
       "      <td>Невезучий псковский математик, новая фабрика м...</td>\n",
       "      <td>1</td>\n",
       "      <td>169</td>\n",
       "      <td>23</td>\n",
       "    </tr>\n",
       "    <tr>\n",
       "      <th>1592</th>\n",
       "      <td>День космонавтики, Золотое кольцо вместо Турци...</td>\n",
       "      <td>1</td>\n",
       "      <td>137</td>\n",
       "      <td>17</td>\n",
       "    </tr>\n",
       "    <tr>\n",
       "      <th>1721</th>\n",
       "      <td>Новая миссия Сердюкова, новая ведущая детского...</td>\n",
       "      <td>1</td>\n",
       "      <td>154</td>\n",
       "      <td>19</td>\n",
       "    </tr>\n",
       "    <tr>\n",
       "      <th>2030</th>\n",
       "      <td>Новый юбилей Горбачёва, лицензии на выгребную ...</td>\n",
       "      <td>1</td>\n",
       "      <td>172</td>\n",
       "      <td>23</td>\n",
       "    </tr>\n",
       "    <tr>\n",
       "      <th>2417</th>\n",
       "      <td>Первая русская газета называлась «Панорама»: И...</td>\n",
       "      <td>1</td>\n",
       "      <td>104</td>\n",
       "      <td>13</td>\n",
       "    </tr>\n",
       "    <tr>\n",
       "      <th>2851</th>\n",
       "      <td>В честь 199-летия ИА «Панорама» князь Монако п...</td>\n",
       "      <td>1</td>\n",
       "      <td>92</td>\n",
       "      <td>12</td>\n",
       "    </tr>\n",
       "    <tr>\n",
       "      <th>3189</th>\n",
       "      <td>Вехи. От декабристов до Горбачёва: кто и когда...</td>\n",
       "      <td>1</td>\n",
       "      <td>76</td>\n",
       "      <td>12</td>\n",
       "    </tr>\n",
       "    <tr>\n",
       "      <th>3613</th>\n",
       "      <td>Успешная борьба женщин за свои права, новый ко...</td>\n",
       "      <td>1</td>\n",
       "      <td>154</td>\n",
       "      <td>21</td>\n",
       "    </tr>\n",
       "    <tr>\n",
       "      <th>4145</th>\n",
       "      <td>Суд над Навальным, обновлённый Явлинский, адск...</td>\n",
       "      <td>1</td>\n",
       "      <td>121</td>\n",
       "      <td>16</td>\n",
       "    </tr>\n",
       "    <tr>\n",
       "      <th>4213</th>\n",
       "      <td>Урановые рудники для пенсионеров, электросамок...</td>\n",
       "      <td>1</td>\n",
       "      <td>191</td>\n",
       "      <td>25</td>\n",
       "    </tr>\n",
       "    <tr>\n",
       "      <th>4596</th>\n",
       "      <td>Тракторист-неудачник, холода в Техасе, суд над...</td>\n",
       "      <td>1</td>\n",
       "      <td>121</td>\n",
       "      <td>16</td>\n",
       "    </tr>\n",
       "    <tr>\n",
       "      <th>5111</th>\n",
       "      <td>Американский чемпион-трансэйджер, драка пилото...</td>\n",
       "      <td>1</td>\n",
       "      <td>198</td>\n",
       "      <td>27</td>\n",
       "    </tr>\n",
       "    <tr>\n",
       "      <th>5132</th>\n",
       "      <td>Дротики для мобильной вакцинации, приключения ...</td>\n",
       "      <td>1</td>\n",
       "      <td>175</td>\n",
       "      <td>23</td>\n",
       "    </tr>\n",
       "    <tr>\n",
       "      <th>5400</th>\n",
       "      <td>«А «Панорама» предупреждала»: Сергей Смирнов п...</td>\n",
       "      <td>1</td>\n",
       "      <td>114</td>\n",
       "      <td>15</td>\n",
       "    </tr>\n",
       "    <tr>\n",
       "      <th>5663</th>\n",
       "      <td>Новые женихи для королевы, западные атаки на Р...</td>\n",
       "      <td>1</td>\n",
       "      <td>172</td>\n",
       "      <td>25</td>\n",
       "    </tr>\n",
       "    <tr>\n",
       "      <th>5699</th>\n",
       "      <td>Новая работа Германа Стерлигова, новая роль Ми...</td>\n",
       "      <td>1</td>\n",
       "      <td>163</td>\n",
       "      <td>21</td>\n",
       "    </tr>\n",
       "    <tr>\n",
       "      <th>5703</th>\n",
       "      <td>Новые квартиры для ветеранов, туманные перспек...</td>\n",
       "      <td>1</td>\n",
       "      <td>184</td>\n",
       "      <td>26</td>\n",
       "    </tr>\n",
       "  </tbody>\n",
       "</table>\n",
       "</div>"
      ],
      "text/plain": [
       "                                                  title  is_fake  char_count  \\\n",
       "325   Губернатор Моргенштерн, заблокированный Суэцки...        1         188   \n",
       "1378  Невезучий псковский математик, новая фабрика м...        1         169   \n",
       "1592  День космонавтики, Золотое кольцо вместо Турци...        1         137   \n",
       "1721  Новая миссия Сердюкова, новая ведущая детского...        1         154   \n",
       "2030  Новый юбилей Горбачёва, лицензии на выгребную ...        1         172   \n",
       "2417  Первая русская газета называлась «Панорама»: И...        1         104   \n",
       "2851  В честь 199-летия ИА «Панорама» князь Монако п...        1          92   \n",
       "3189  Вехи. От декабристов до Горбачёва: кто и когда...        1          76   \n",
       "3613  Успешная борьба женщин за свои права, новый ко...        1         154   \n",
       "4145  Суд над Навальным, обновлённый Явлинский, адск...        1         121   \n",
       "4213  Урановые рудники для пенсионеров, электросамок...        1         191   \n",
       "4596  Тракторист-неудачник, холода в Техасе, суд над...        1         121   \n",
       "5111  Американский чемпион-трансэйджер, драка пилото...        1         198   \n",
       "5132  Дротики для мобильной вакцинации, приключения ...        1         175   \n",
       "5400  «А «Панорама» предупреждала»: Сергей Смирнов п...        1         114   \n",
       "5663  Новые женихи для королевы, западные атаки на Р...        1         172   \n",
       "5699  Новая работа Германа Стерлигова, новая роль Ми...        1         163   \n",
       "5703  Новые квартиры для ветеранов, туманные перспек...        1         184   \n",
       "\n",
       "      word_count  \n",
       "325           22  \n",
       "1378          23  \n",
       "1592          17  \n",
       "1721          19  \n",
       "2030          23  \n",
       "2417          13  \n",
       "2851          12  \n",
       "3189          12  \n",
       "3613          21  \n",
       "4145          16  \n",
       "4213          25  \n",
       "4596          16  \n",
       "5111          27  \n",
       "5132          23  \n",
       "5400          15  \n",
       "5663          25  \n",
       "5699          21  \n",
       "5703          26  "
      ]
     },
     "execution_count": 16,
     "metadata": {},
     "output_type": "execute_result"
    }
   ],
   "source": [
    "df[df['title'].str.contains('Панорама')]"
   ]
  },
  {
   "cell_type": "markdown",
   "metadata": {},
   "source": [
    "Все заголовки со словом \"Панорама\" – фейки"
   ]
  },
  {
   "cell_type": "code",
   "execution_count": 17,
   "metadata": {},
   "outputs": [
    {
     "data": {
      "text/html": [
       "<div>\n",
       "<style scoped>\n",
       "    .dataframe tbody tr th:only-of-type {\n",
       "        vertical-align: middle;\n",
       "    }\n",
       "\n",
       "    .dataframe tbody tr th {\n",
       "        vertical-align: top;\n",
       "    }\n",
       "\n",
       "    .dataframe thead th {\n",
       "        text-align: right;\n",
       "    }\n",
       "</style>\n",
       "<table border=\"1\" class=\"dataframe\">\n",
       "  <thead>\n",
       "    <tr style=\"text-align: right;\">\n",
       "      <th></th>\n",
       "      <th>title</th>\n",
       "      <th>is_fake</th>\n",
       "      <th>char_count</th>\n",
       "      <th>word_count</th>\n",
       "    </tr>\n",
       "  </thead>\n",
       "  <tbody>\n",
       "    <tr>\n",
       "      <th>968</th>\n",
       "      <td>«А что ты обращался к нам с лаем и дальше хоче...</td>\n",
       "      <td>1</td>\n",
       "      <td>211</td>\n",
       "      <td>37</td>\n",
       "    </tr>\n",
       "    <tr>\n",
       "      <th>5111</th>\n",
       "      <td>Американский чемпион-трансэйджер, драка пилото...</td>\n",
       "      <td>1</td>\n",
       "      <td>198</td>\n",
       "      <td>27</td>\n",
       "    </tr>\n",
       "    <tr>\n",
       "      <th>5703</th>\n",
       "      <td>Новые квартиры для ветеранов, туманные перспек...</td>\n",
       "      <td>1</td>\n",
       "      <td>184</td>\n",
       "      <td>26</td>\n",
       "    </tr>\n",
       "    <tr>\n",
       "      <th>4213</th>\n",
       "      <td>Урановые рудники для пенсионеров, электросамок...</td>\n",
       "      <td>1</td>\n",
       "      <td>191</td>\n",
       "      <td>25</td>\n",
       "    </tr>\n",
       "    <tr>\n",
       "      <th>5663</th>\n",
       "      <td>Новые женихи для королевы, западные атаки на Р...</td>\n",
       "      <td>1</td>\n",
       "      <td>172</td>\n",
       "      <td>25</td>\n",
       "    </tr>\n",
       "    <tr>\n",
       "      <th>1093</th>\n",
       "      <td>Лукашенко перед вылетом в Сочи призвал не бесп...</td>\n",
       "      <td>1</td>\n",
       "      <td>132</td>\n",
       "      <td>23</td>\n",
       "    </tr>\n",
       "    <tr>\n",
       "      <th>1378</th>\n",
       "      <td>Невезучий псковский математик, новая фабрика м...</td>\n",
       "      <td>1</td>\n",
       "      <td>169</td>\n",
       "      <td>23</td>\n",
       "    </tr>\n",
       "    <tr>\n",
       "      <th>2030</th>\n",
       "      <td>Новый юбилей Горбачёва, лицензии на выгребную ...</td>\n",
       "      <td>1</td>\n",
       "      <td>172</td>\n",
       "      <td>23</td>\n",
       "    </tr>\n",
       "    <tr>\n",
       "      <th>3237</th>\n",
       "      <td>Си Цзиньпин: «Если бы Китай стал частью СССР, ...</td>\n",
       "      <td>1</td>\n",
       "      <td>142</td>\n",
       "      <td>23</td>\n",
       "    </tr>\n",
       "    <tr>\n",
       "      <th>3518</th>\n",
       "      <td>Билл Клинтон: «В начале 90-х русские либералы ...</td>\n",
       "      <td>1</td>\n",
       "      <td>151</td>\n",
       "      <td>23</td>\n",
       "    </tr>\n",
       "    <tr>\n",
       "      <th>3788</th>\n",
       "      <td>«Мы просто делали макет разрушенной Москвы, а ...</td>\n",
       "      <td>1</td>\n",
       "      <td>164</td>\n",
       "      <td>23</td>\n",
       "    </tr>\n",
       "    <tr>\n",
       "      <th>5132</th>\n",
       "      <td>Дротики для мобильной вакцинации, приключения ...</td>\n",
       "      <td>1</td>\n",
       "      <td>175</td>\n",
       "      <td>23</td>\n",
       "    </tr>\n",
       "    <tr>\n",
       "      <th>325</th>\n",
       "      <td>Губернатор Моргенштерн, заблокированный Суэцки...</td>\n",
       "      <td>1</td>\n",
       "      <td>188</td>\n",
       "      <td>22</td>\n",
       "    </tr>\n",
       "    <tr>\n",
       "      <th>2962</th>\n",
       "      <td>Всё, что отравляет твою страну сегодня – это т...</td>\n",
       "      <td>1</td>\n",
       "      <td>125</td>\n",
       "      <td>22</td>\n",
       "    </tr>\n",
       "    <tr>\n",
       "      <th>219</th>\n",
       "      <td>«Когда нас на автобусах возили к президенту, в...</td>\n",
       "      <td>1</td>\n",
       "      <td>136</td>\n",
       "      <td>21</td>\n",
       "    </tr>\n",
       "    <tr>\n",
       "      <th>1635</th>\n",
       "      <td>Ратко Младич: «Однажды я рассказал Шойгу, как ...</td>\n",
       "      <td>1</td>\n",
       "      <td>138</td>\n",
       "      <td>21</td>\n",
       "    </tr>\n",
       "    <tr>\n",
       "      <th>2624</th>\n",
       "      <td>А он по-вашему не заслужил?: Симоньян посовето...</td>\n",
       "      <td>1</td>\n",
       "      <td>130</td>\n",
       "      <td>21</td>\n",
       "    </tr>\n",
       "    <tr>\n",
       "      <th>2993</th>\n",
       "      <td>Казаки потребовали возбудить уголовное дело пр...</td>\n",
       "      <td>1</td>\n",
       "      <td>154</td>\n",
       "      <td>21</td>\n",
       "    </tr>\n",
       "    <tr>\n",
       "      <th>3613</th>\n",
       "      <td>Успешная борьба женщин за свои права, новый ко...</td>\n",
       "      <td>1</td>\n",
       "      <td>154</td>\n",
       "      <td>21</td>\n",
       "    </tr>\n",
       "    <tr>\n",
       "      <th>5699</th>\n",
       "      <td>Новая работа Германа Стерлигова, новая роль Ми...</td>\n",
       "      <td>1</td>\n",
       "      <td>163</td>\n",
       "      <td>21</td>\n",
       "    </tr>\n",
       "    <tr>\n",
       "      <th>925</th>\n",
       "      <td>«Голодать – это полезно»: министр социального ...</td>\n",
       "      <td>1</td>\n",
       "      <td>143</td>\n",
       "      <td>20</td>\n",
       "    </tr>\n",
       "    <tr>\n",
       "      <th>1507</th>\n",
       "      <td>«К 2030 году ни в одном доме в Беларуси не дол...</td>\n",
       "      <td>1</td>\n",
       "      <td>136</td>\n",
       "      <td>20</td>\n",
       "    </tr>\n",
       "    <tr>\n",
       "      <th>2048</th>\n",
       "      <td>«Ширевом Шура ширнуться спешит – шустро шприце...</td>\n",
       "      <td>1</td>\n",
       "      <td>156</td>\n",
       "      <td>20</td>\n",
       "    </tr>\n",
       "    <tr>\n",
       "      <th>2177</th>\n",
       "      <td>Президент США Джо Байден объявлен в международ...</td>\n",
       "      <td>1</td>\n",
       "      <td>127</td>\n",
       "      <td>20</td>\n",
       "    </tr>\n",
       "    <tr>\n",
       "      <th>2621</th>\n",
       "      <td>«Мы хотим на кухню»: возле главного офиса Burg...</td>\n",
       "      <td>1</td>\n",
       "      <td>131</td>\n",
       "      <td>20</td>\n",
       "    </tr>\n",
       "    <tr>\n",
       "      <th>3318</th>\n",
       "      <td>Это был удар в спину: в Госдуме предложили отк...</td>\n",
       "      <td>1</td>\n",
       "      <td>128</td>\n",
       "      <td>20</td>\n",
       "    </tr>\n",
       "    <tr>\n",
       "      <th>4172</th>\n",
       "      <td>«У русских был целый ГУЛАГ, а у нас всего лишь...</td>\n",
       "      <td>1</td>\n",
       "      <td>124</td>\n",
       "      <td>20</td>\n",
       "    </tr>\n",
       "    <tr>\n",
       "      <th>5233</th>\n",
       "      <td>«Есть множество цветных изображений Петра Перв...</td>\n",
       "      <td>1</td>\n",
       "      <td>164</td>\n",
       "      <td>20</td>\n",
       "    </tr>\n",
       "    <tr>\n",
       "      <th>5480</th>\n",
       "      <td>Ученые считают найденную на руинах Вавилона та...</td>\n",
       "      <td>1</td>\n",
       "      <td>144</td>\n",
       "      <td>20</td>\n",
       "    </tr>\n",
       "    <tr>\n",
       "      <th>93</th>\n",
       "      <td>Марк Цукерберг прибыл в Коростенский суд по ис...</td>\n",
       "      <td>1</td>\n",
       "      <td>129</td>\n",
       "      <td>19</td>\n",
       "    </tr>\n",
       "    <tr>\n",
       "      <th>414</th>\n",
       "      <td>«Я лично возьму топор и приеду в вашу админист...</td>\n",
       "      <td>1</td>\n",
       "      <td>117</td>\n",
       "      <td>19</td>\n",
       "    </tr>\n",
       "    <tr>\n",
       "      <th>1721</th>\n",
       "      <td>Новая миссия Сердюкова, новая ведущая детского...</td>\n",
       "      <td>1</td>\n",
       "      <td>154</td>\n",
       "      <td>19</td>\n",
       "    </tr>\n",
       "    <tr>\n",
       "      <th>2668</th>\n",
       "      <td>«У Николая II тоже был дворец и мы прекрасно п...</td>\n",
       "      <td>1</td>\n",
       "      <td>121</td>\n",
       "      <td>19</td>\n",
       "    </tr>\n",
       "    <tr>\n",
       "      <th>3090</th>\n",
       "      <td>«Если б я был султан, я бы выбрал Симоньян пер...</td>\n",
       "      <td>1</td>\n",
       "      <td>106</td>\n",
       "      <td>19</td>\n",
       "    </tr>\n",
       "    <tr>\n",
       "      <th>3763</th>\n",
       "      <td>Twitter удалил более 19 тысяч записей Евгения ...</td>\n",
       "      <td>1</td>\n",
       "      <td>127</td>\n",
       "      <td>19</td>\n",
       "    </tr>\n",
       "    <tr>\n",
       "      <th>478</th>\n",
       "      <td>«У нас, конечно, не Польша, но польские гастар...</td>\n",
       "      <td>1</td>\n",
       "      <td>124</td>\n",
       "      <td>18</td>\n",
       "    </tr>\n",
       "    <tr>\n",
       "      <th>1193</th>\n",
       "      <td>Гвинея получила в ООН приз Золотой АК: перевор...</td>\n",
       "      <td>1</td>\n",
       "      <td>101</td>\n",
       "      <td>18</td>\n",
       "    </tr>\n",
       "    <tr>\n",
       "      <th>1386</th>\n",
       "      <td>Ростовские автоинспекторы прекратили «разводит...</td>\n",
       "      <td>1</td>\n",
       "      <td>151</td>\n",
       "      <td>18</td>\n",
       "    </tr>\n",
       "    <tr>\n",
       "      <th>2258</th>\n",
       "      <td>«Лишь одна партия от Бога, а все остальные от ...</td>\n",
       "      <td>1</td>\n",
       "      <td>127</td>\n",
       "      <td>18</td>\n",
       "    </tr>\n",
       "    <tr>\n",
       "      <th>2411</th>\n",
       "      <td>Заведующая петербургским детским садом залила ...</td>\n",
       "      <td>1</td>\n",
       "      <td>138</td>\n",
       "      <td>18</td>\n",
       "    </tr>\n",
       "    <tr>\n",
       "      <th>2623</th>\n",
       "      <td>«Русские бомбы повредили основное весло на наш...</td>\n",
       "      <td>1</td>\n",
       "      <td>149</td>\n",
       "      <td>18</td>\n",
       "    </tr>\n",
       "    <tr>\n",
       "      <th>3005</th>\n",
       "      <td>Сдать до полуночи: в Костроме женщин-медиков п...</td>\n",
       "      <td>1</td>\n",
       "      <td>126</td>\n",
       "      <td>18</td>\n",
       "    </tr>\n",
       "    <tr>\n",
       "      <th>3786</th>\n",
       "      <td>«У этих русских всё должны делать солдаты НАТО...</td>\n",
       "      <td>1</td>\n",
       "      <td>129</td>\n",
       "      <td>18</td>\n",
       "    </tr>\n",
       "    <tr>\n",
       "      <th>4927</th>\n",
       "      <td>Британский эсминец «Дефендер» пригласят в Сева...</td>\n",
       "      <td>1</td>\n",
       "      <td>120</td>\n",
       "      <td>18</td>\n",
       "    </tr>\n",
       "    <tr>\n",
       "      <th>4961</th>\n",
       "      <td>«Не посетил раз в год психиатра – значит, есть...</td>\n",
       "      <td>1</td>\n",
       "      <td>126</td>\n",
       "      <td>18</td>\n",
       "    </tr>\n",
       "    <tr>\n",
       "      <th>465</th>\n",
       "      <td>Великобритания отказалась возвращать России зо...</td>\n",
       "      <td>1</td>\n",
       "      <td>142</td>\n",
       "      <td>17</td>\n",
       "    </tr>\n",
       "    <tr>\n",
       "      <th>468</th>\n",
       "      <td>Китайская команда, занявшая второе место на че...</td>\n",
       "      <td>1</td>\n",
       "      <td>111</td>\n",
       "      <td>17</td>\n",
       "    </tr>\n",
       "    <tr>\n",
       "      <th>859</th>\n",
       "      <td>Елена Ваенга подала в суд на компанию «Русский...</td>\n",
       "      <td>1</td>\n",
       "      <td>118</td>\n",
       "      <td>17</td>\n",
       "    </tr>\n",
       "    <tr>\n",
       "      <th>926</th>\n",
       "      <td>Лукашенко пригрозил выслать в Польшу сотрудник...</td>\n",
       "      <td>1</td>\n",
       "      <td>119</td>\n",
       "      <td>17</td>\n",
       "    </tr>\n",
       "    <tr>\n",
       "      <th>929</th>\n",
       "      <td>«Муж и жена - одна сатана»: РПЦ потребовала пр...</td>\n",
       "      <td>1</td>\n",
       "      <td>114</td>\n",
       "      <td>17</td>\n",
       "    </tr>\n",
       "  </tbody>\n",
       "</table>\n",
       "</div>"
      ],
      "text/plain": [
       "                                                  title  is_fake  char_count  \\\n",
       "968   «А что ты обращался к нам с лаем и дальше хоче...        1         211   \n",
       "5111  Американский чемпион-трансэйджер, драка пилото...        1         198   \n",
       "5703  Новые квартиры для ветеранов, туманные перспек...        1         184   \n",
       "4213  Урановые рудники для пенсионеров, электросамок...        1         191   \n",
       "5663  Новые женихи для королевы, западные атаки на Р...        1         172   \n",
       "1093  Лукашенко перед вылетом в Сочи призвал не бесп...        1         132   \n",
       "1378  Невезучий псковский математик, новая фабрика м...        1         169   \n",
       "2030  Новый юбилей Горбачёва, лицензии на выгребную ...        1         172   \n",
       "3237  Си Цзиньпин: «Если бы Китай стал частью СССР, ...        1         142   \n",
       "3518  Билл Клинтон: «В начале 90-х русские либералы ...        1         151   \n",
       "3788  «Мы просто делали макет разрушенной Москвы, а ...        1         164   \n",
       "5132  Дротики для мобильной вакцинации, приключения ...        1         175   \n",
       "325   Губернатор Моргенштерн, заблокированный Суэцки...        1         188   \n",
       "2962  Всё, что отравляет твою страну сегодня – это т...        1         125   \n",
       "219   «Когда нас на автобусах возили к президенту, в...        1         136   \n",
       "1635  Ратко Младич: «Однажды я рассказал Шойгу, как ...        1         138   \n",
       "2624  А он по-вашему не заслужил?: Симоньян посовето...        1         130   \n",
       "2993  Казаки потребовали возбудить уголовное дело пр...        1         154   \n",
       "3613  Успешная борьба женщин за свои права, новый ко...        1         154   \n",
       "5699  Новая работа Германа Стерлигова, новая роль Ми...        1         163   \n",
       "925   «Голодать – это полезно»: министр социального ...        1         143   \n",
       "1507  «К 2030 году ни в одном доме в Беларуси не дол...        1         136   \n",
       "2048  «Ширевом Шура ширнуться спешит – шустро шприце...        1         156   \n",
       "2177  Президент США Джо Байден объявлен в международ...        1         127   \n",
       "2621  «Мы хотим на кухню»: возле главного офиса Burg...        1         131   \n",
       "3318  Это был удар в спину: в Госдуме предложили отк...        1         128   \n",
       "4172  «У русских был целый ГУЛАГ, а у нас всего лишь...        1         124   \n",
       "5233  «Есть множество цветных изображений Петра Перв...        1         164   \n",
       "5480  Ученые считают найденную на руинах Вавилона та...        1         144   \n",
       "93    Марк Цукерберг прибыл в Коростенский суд по ис...        1         129   \n",
       "414   «Я лично возьму топор и приеду в вашу админист...        1         117   \n",
       "1721  Новая миссия Сердюкова, новая ведущая детского...        1         154   \n",
       "2668  «У Николая II тоже был дворец и мы прекрасно п...        1         121   \n",
       "3090  «Если б я был султан, я бы выбрал Симоньян пер...        1         106   \n",
       "3763  Twitter удалил более 19 тысяч записей Евгения ...        1         127   \n",
       "478   «У нас, конечно, не Польша, но польские гастар...        1         124   \n",
       "1193  Гвинея получила в ООН приз Золотой АК: перевор...        1         101   \n",
       "1386  Ростовские автоинспекторы прекратили «разводит...        1         151   \n",
       "2258  «Лишь одна партия от Бога, а все остальные от ...        1         127   \n",
       "2411  Заведующая петербургским детским садом залила ...        1         138   \n",
       "2623  «Русские бомбы повредили основное весло на наш...        1         149   \n",
       "3005  Сдать до полуночи: в Костроме женщин-медиков п...        1         126   \n",
       "3786  «У этих русских всё должны делать солдаты НАТО...        1         129   \n",
       "4927  Британский эсминец «Дефендер» пригласят в Сева...        1         120   \n",
       "4961  «Не посетил раз в год психиатра – значит, есть...        1         126   \n",
       "465   Великобритания отказалась возвращать России зо...        1         142   \n",
       "468   Китайская команда, занявшая второе место на че...        1         111   \n",
       "859   Елена Ваенга подала в суд на компанию «Русский...        1         118   \n",
       "926   Лукашенко пригрозил выслать в Польшу сотрудник...        1         119   \n",
       "929   «Муж и жена - одна сатана»: РПЦ потребовала пр...        1         114   \n",
       "\n",
       "      word_count  \n",
       "968           37  \n",
       "5111          27  \n",
       "5703          26  \n",
       "4213          25  \n",
       "5663          25  \n",
       "1093          23  \n",
       "1378          23  \n",
       "2030          23  \n",
       "3237          23  \n",
       "3518          23  \n",
       "3788          23  \n",
       "5132          23  \n",
       "325           22  \n",
       "2962          22  \n",
       "219           21  \n",
       "1635          21  \n",
       "2624          21  \n",
       "2993          21  \n",
       "3613          21  \n",
       "5699          21  \n",
       "925           20  \n",
       "1507          20  \n",
       "2048          20  \n",
       "2177          20  \n",
       "2621          20  \n",
       "3318          20  \n",
       "4172          20  \n",
       "5233          20  \n",
       "5480          20  \n",
       "93            19  \n",
       "414           19  \n",
       "1721          19  \n",
       "2668          19  \n",
       "3090          19  \n",
       "3763          19  \n",
       "478           18  \n",
       "1193          18  \n",
       "1386          18  \n",
       "2258          18  \n",
       "2411          18  \n",
       "2623          18  \n",
       "3005          18  \n",
       "3786          18  \n",
       "4927          18  \n",
       "4961          18  \n",
       "465           17  \n",
       "468           17  \n",
       "859           17  \n",
       "926           17  \n",
       "929           17  "
      ]
     },
     "execution_count": 17,
     "metadata": {},
     "output_type": "execute_result"
    }
   ],
   "source": [
    "df.nlargest(50, 'word_count')"
   ]
  },
  {
   "cell_type": "markdown",
   "metadata": {},
   "source": [
    "50 самых длинных по словам заголовки – фейки"
   ]
  },
  {
   "cell_type": "code",
   "execution_count": 18,
   "metadata": {},
   "outputs": [
    {
     "data": {
      "text/plain": [
       "<AxesSubplot:xlabel='is_fake', ylabel='word_count'>"
      ]
     },
     "execution_count": 18,
     "metadata": {},
     "output_type": "execute_result"
    },
    {
     "data": {
      "image/png": "[encoded data removed]",
      "text/plain": [
       "<Figure size 432x288 with 1 Axes>"
      ]
     },
     "metadata": {
      "needs_background": "light"
     },
     "output_type": "display_data"
    }
   ],
   "source": [
    "sns.boxplot(x='is_fake', y='word_count', data=df)"
   ]
  },
  {
   "cell_type": "code",
   "execution_count": 19,
   "metadata": {},
   "outputs": [],
   "source": [
    "df.drop(['word_count', 'char_count'], axis=1, inplace=True)"
   ]
  },
  {
   "cell_type": "markdown",
   "metadata": {},
   "source": [
    "## Preprocessing"
   ]
  },
  {
   "cell_type": "markdown",
   "metadata": {},
   "source": [
    "Займемся подготовкой текста: приведем к нижнему регистру, удалим цифры и пунктуацию, приведем каждое слово к начальной форме."
   ]
  },
  {
   "cell_type": "code",
   "execution_count": 20,
   "metadata": {},
   "outputs": [
    {
     "name": "stderr",
     "output_type": "stream",
     "text": [
      "[nltk_data] Downloading package stopwords to /home/timur/nltk_data...\n",
      "[nltk_data]   Package stopwords is already up-to-date!\n"
     ]
    },
    {
     "data": {
      "text/html": [
       "<div>\n",
       "<style scoped>\n",
       "    .dataframe tbody tr th:only-of-type {\n",
       "        vertical-align: middle;\n",
       "    }\n",
       "\n",
       "    .dataframe tbody tr th {\n",
       "        vertical-align: top;\n",
       "    }\n",
       "\n",
       "    .dataframe thead th {\n",
       "        text-align: right;\n",
       "    }\n",
       "</style>\n",
       "<table border=\"1\" class=\"dataframe\">\n",
       "  <thead>\n",
       "    <tr style=\"text-align: right;\">\n",
       "      <th></th>\n",
       "      <th>title</th>\n",
       "      <th>is_fake</th>\n",
       "    </tr>\n",
       "  </thead>\n",
       "  <tbody>\n",
       "    <tr>\n",
       "      <th>0</th>\n",
       "      <td>москвич владимир клутин приходить счет вмешате...</td>\n",
       "      <td>1</td>\n",
       "    </tr>\n",
       "    <tr>\n",
       "      <th>1</th>\n",
       "      <td>агент кокорин называть езда встречок житейский...</td>\n",
       "      <td>0</td>\n",
       "    </tr>\n",
       "    <tr>\n",
       "      <th>2</th>\n",
       "      <td>госдума рассматривать возможность введение сек...</td>\n",
       "      <td>1</td>\n",
       "    </tr>\n",
       "    <tr>\n",
       "      <th>3</th>\n",
       "      <td>фас заблокировать поставка скоростной трамвай ...</td>\n",
       "      <td>0</td>\n",
       "    </tr>\n",
       "    <tr>\n",
       "      <th>4</th>\n",
       "      <td>против навальный заводить дело недоносительств...</td>\n",
       "      <td>1</td>\n",
       "    </tr>\n",
       "  </tbody>\n",
       "</table>\n",
       "</div>"
      ],
      "text/plain": [
       "                                               title  is_fake\n",
       "0  москвич владимир клутин приходить счет вмешате...        1\n",
       "1  агент кокорин называть езда встречок житейский...        0\n",
       "2  госдума рассматривать возможность введение сек...        1\n",
       "3  фас заблокировать поставка скоростной трамвай ...        0\n",
       "4  против навальный заводить дело недоносительств...        1"
      ]
     },
     "execution_count": 20,
     "metadata": {},
     "output_type": "execute_result"
    }
   ],
   "source": [
    "from preprocessing import preprocess_text\n",
    "ru_preprocess_injected = partial(preprocess_text, lang='rus')\n",
    "clean_df = df.copy()\n",
    "clean_df['title'] = clean_df['title'].apply(ru_preprocess_injected)\n",
    "test_df['title'] = test_df['title'].apply(ru_preprocess_injected)\n",
    "clean_df.to_csv('dataset/clean_df', sep='\\t', index=False)\n",
    "clean_df = pd.read_csv('dataset/clean_df', sep='\\t')\n",
    "clean_df.head()\n"
   ]
  },
  {
   "cell_type": "markdown",
   "metadata": {},
   "source": [
    "### Рассмотрим самые частотные слова у фейков и не фейков в обработанных заголовках"
   ]
  },
  {
   "cell_type": "code",
   "execution_count": 21,
   "metadata": {},
   "outputs": [
    {
     "data": {
      "text/plain": [
       "[('россия', 533),\n",
       " ('российский', 287),\n",
       " ('год', 233),\n",
       " ('новый', 220),\n",
       " ('предлагать', 158),\n",
       " ('москва', 155),\n",
       " ('изза', 155),\n",
       " ('сша', 154),\n",
       " ('запрещать', 146),\n",
       " ('становиться', 144),\n",
       " ('россиянин', 140),\n",
       " ('навальный', 127),\n",
       " ('свой', 126),\n",
       " ('получать', 122),\n",
       " ('госдума', 121),\n",
       " ('рубль', 112),\n",
       " ('называть', 109),\n",
       " ('первый', 104),\n",
       " ('путин', 100),\n",
       " ('суд', 97),\n",
       " ('доллар', 94),\n",
       " ('сборная', 91),\n",
       " ('мир', 87),\n",
       " ('отказываться', 83),\n",
       " ('депутат', 74),\n",
       " ('весь', 73),\n",
       " ('объявлять', 72),\n",
       " ('цена', 71),\n",
       " ('выходить', 71),\n",
       " ('против', 68),\n",
       " ('матч', 68),\n",
       " ('победа', 68),\n",
       " ('призывать', 67),\n",
       " ('компания', 67),\n",
       " ('начинать', 67),\n",
       " ('украина', 66),\n",
       " ('тысяча', 66),\n",
       " ('признавать', 66),\n",
       " ('день', 66),\n",
       " ('рассказывать', 65),\n",
       " ('фильм', 65),\n",
       " ('вводить', 64),\n",
       " ('находить', 64),\n",
       " ('выпускать', 64),\n",
       " ('президент', 63),\n",
       " ('миллион', 63),\n",
       " ('появляться', 63),\n",
       " ('американский', 62),\n",
       " ('место', 62),\n",
       " ('потребовать', 62),\n",
       " ('продавать', 62),\n",
       " ('проводить', 59),\n",
       " ('создавать', 59),\n",
       " ('миллиард', 59),\n",
       " ('банк', 58),\n",
       " ('работа', 57),\n",
       " ('московский', 57),\n",
       " ('разрешать', 56),\n",
       " ('который', 55),\n",
       " ('ученый', 55),\n",
       " ('принимать', 55),\n",
       " ('игра', 54),\n",
       " ('выборы', 53),\n",
       " ('русский', 53),\n",
       " ('обязывать', 53),\n",
       " ('чемпионат', 53),\n",
       " ('оказываться', 51),\n",
       " ('дело', 49),\n",
       " ('китай', 49),\n",
       " ('правительство', 48),\n",
       " ('тренер', 48),\n",
       " ('лукашенко', 48),\n",
       " ('объяснять', 47),\n",
       " ('пообещать', 47),\n",
       " ('обвинять', 47),\n",
       " ('снимать', 46),\n",
       " ('акция', 46),\n",
       " ('мочь', 45),\n",
       " ('обнаруживать', 45),\n",
       " ('самый', 44),\n",
       " ('газпром', 44),\n",
       " ('байден', 44),\n",
       " ('ребенок', 44),\n",
       " ('выигрывать', 44),\n",
       " ('дом', 43),\n",
       " ('житель', 43),\n",
       " ('нефть', 43),\n",
       " ('евро', 43),\n",
       " ('представлять', 43),\n",
       " ('чемпион', 43),\n",
       " ('гражданин', 43),\n",
       " ('клуб', 43),\n",
       " ('чиновник', 42),\n",
       " ('газ', 42),\n",
       " ('премия', 42),\n",
       " ('власть', 42),\n",
       " ('проходить', 42),\n",
       " ('право', 42),\n",
       " ('впервые', 42),\n",
       " ('олимпиада', 41)]"
      ]
     },
     "execution_count": 21,
     "metadata": {},
     "output_type": "execute_result"
    }
   ],
   "source": [
    "Counter(\" \".join(clean_df[\"title\"]).split()).most_common(100)"
   ]
  },
  {
   "cell_type": "markdown",
   "metadata": {},
   "source": [
    "По законам жанра нарисуем облака частотных слов у фейков и не фейковых заголовков"
   ]
  },
  {
   "cell_type": "code",
   "execution_count": 22,
   "metadata": {},
   "outputs": [
    {
     "data": {
      "image/png": "[encoded data removed]",
      "text/plain": [
       "<Figure size 960x640 with 1 Axes>"
      ]
     },
     "metadata": {
      "needs_background": "light"
     },
     "output_type": "display_data"
    }
   ],
   "source": [
    "from visualization import generate_fakenews_wordcloud\n",
    "generate_fakenews_wordcloud(clean_df, 1,'Fake news')"
   ]
  },
  {
   "cell_type": "code",
   "execution_count": 23,
   "metadata": {},
   "outputs": [
    {
     "data": {
      "image/png": "[encoded data removed]",
      "text/plain": [
       "<Figure size 960x640 with 1 Axes>"
      ]
     },
     "metadata": {
      "needs_background": "light"
     },
     "output_type": "display_data"
    }
   ],
   "source": [
    "generate_fakenews_wordcloud(clean_df, 0,'Not fake news')"
   ]
  },
  {
   "cell_type": "markdown",
   "metadata": {},
   "source": [
    "### Выводы, основанные на данных:\n",
    " * Фейки собраны с ИА \"Панорама\"(и иногда с ryb.ru, который перепечатывает те же статьи с указанием источника), не фейки с \"Ленты.ру\";\n",
    " * Фейковые заголовки, как правило длинее, чем не фейковые;\n",
    " * Категории новостей разнообразны: политика, спорт, общество, музыка, интернет, культура, наука и технологии, общество, право, экономика и так далее. Тяжело выделить наиболее популярную среди фейков категорию."
   ]
  },
  {
   "cell_type": "markdown",
   "metadata": {},
   "source": [
    "## Решение через google-запросы и проверку на источник\n",
    "\n",
    "Так как была выяснена природа данных, то получить 100% точность можно не прибегая к моделям машинного/глубокого обучения, а просто через запросы в поисковик. Это очень лаконичное и точное решение, но направление стажировки – Data Science, поэтому для сабмита используем что-то другое."
   ]
  },
  {
   "cell_type": "code",
   "execution_count": 52,
   "metadata": {},
   "outputs": [
    {
     "name": "stdout",
     "output_type": "stream",
     "text": [
      "Google request predict: [1, 0, 1, 0, 1, 1, 1, 0, 0]\n",
      "Ground truth: [1, 0, 1, 0, 1, 1, 1, 0, 0]\n"
     ]
    }
   ],
   "source": [
    "from google_services import google_request\n",
    "\n",
    "test_titles = [\n",
    "    'Москвичу Владимиру Клутину пришёл счёт за вмешательство в американские выборы',\n",
    "    'Агент Кокорина назвал езду по встречке житейской историей',\n",
    "    'Госдума рассмотрит возможность введения секретных статей Уголовного кодекса',\n",
    "    'ФАС заблокировала поставку скоростных трамваев для Москвы',\n",
    "    'Против Навального завели дело о недоносительстве на Волкова',\n",
    "    'Российским студентам запретят учиться за рубежом',\n",
    "    'Путин пишет книгу об истории Украины',\n",
    "    'Россияне обхитрили рост цен',\n",
    "    'Звезда «Ворониных» раскрыл подробности о своем состоянии']\n",
    "\n",
    "\"\"\"\n",
    "    Москвичу Владимиру Клутину пришёл счёт за вмешательство в американские выборы\t        1\n",
    "    Агент Кокорина назвал езду по встречке житейской историей\t                            0\n",
    "    Госдума рассмотрит возможность введения секретных статей Уголовного кодекса\t            1\n",
    "    ФАС заблокировала поставку скоростных трамваев для Москвы\t                            0\n",
    "    Против Навального завели дело о недоносительстве на Волкова\t                            1\n",
    "    Российским студентам запретят учиться за рубежом\t                                    1\n",
    "    Путин пишет книгу об истории Украины\t                                                1\n",
    "    Россияне обхитрили рост цен\t                                                            0\n",
    "    Звезда «Ворониных» раскрыл подробности о своем состоянии\t                            0\n",
    "\"\"\"\n",
    "\n",
    "\n",
    "google_predict = google_request(test_titles)\n",
    "\n",
    "print('Google request predict:', google_predict)\n",
    "print('Ground truth:', [1, 0, 1, 0, 1, 1, 1, 0, 0])\n"
   ]
  },
  {
   "cell_type": "markdown",
   "metadata": {},
   "source": [
    "## Modeling"
   ]
  },
  {
   "cell_type": "markdown",
   "metadata": {},
   "source": [
    "Теперь, как и требуется в задании, сделаем и обучим модель. Начнем с классического машинного обучения и для извлечения признаков из текста сделаем bag of words. "
   ]
  },
  {
   "cell_type": "code",
   "execution_count": 53,
   "metadata": {},
   "outputs": [],
   "source": [
    "from sklearn.metrics import f1_score, recall_score, precision_score, accuracy_score\n",
    "from sklearn.feature_extraction.text import CountVectorizer\n",
    "\n",
    "vectorizer = CountVectorizer(min_df=2, max_df=1000)\n",
    "watch_metrics = [\n",
    "    f1_score,\n",
    "    precision_score,\n",
    "    recall_score,\n",
    "    accuracy_score,\n",
    "]"
   ]
  },
  {
   "cell_type": "markdown",
   "metadata": {},
   "source": [
    "### Random Forest"
   ]
  },
  {
   "cell_type": "code",
   "execution_count": 26,
   "metadata": {},
   "outputs": [
    {
     "data": {
      "text/html": [
       "<div>\n",
       "<style scoped>\n",
       "    .dataframe tbody tr th:only-of-type {\n",
       "        vertical-align: middle;\n",
       "    }\n",
       "\n",
       "    .dataframe tbody tr th {\n",
       "        vertical-align: top;\n",
       "    }\n",
       "\n",
       "    .dataframe thead th {\n",
       "        text-align: right;\n",
       "    }\n",
       "</style>\n",
       "<table border=\"1\" class=\"dataframe\">\n",
       "  <thead>\n",
       "    <tr style=\"text-align: right;\">\n",
       "      <th></th>\n",
       "      <th>f1_score</th>\n",
       "      <th>precision_score</th>\n",
       "      <th>recall_score</th>\n",
       "      <th>accuracy_score</th>\n",
       "      <th>fold_num</th>\n",
       "      <th>model</th>\n",
       "    </tr>\n",
       "  </thead>\n",
       "  <tbody>\n",
       "    <tr>\n",
       "      <th>0</th>\n",
       "      <td>0.771863</td>\n",
       "      <td>0.849372</td>\n",
       "      <td>0.707317</td>\n",
       "      <td>0.791304</td>\n",
       "      <td>0</td>\n",
       "      <td>RandomForestClassifier</td>\n",
       "    </tr>\n",
       "    <tr>\n",
       "      <th>1</th>\n",
       "      <td>0.777778</td>\n",
       "      <td>0.863830</td>\n",
       "      <td>0.707317</td>\n",
       "      <td>0.798261</td>\n",
       "      <td>1</td>\n",
       "      <td>RandomForestClassifier</td>\n",
       "    </tr>\n",
       "    <tr>\n",
       "      <th>2</th>\n",
       "      <td>0.769531</td>\n",
       "      <td>0.875556</td>\n",
       "      <td>0.686411</td>\n",
       "      <td>0.794783</td>\n",
       "      <td>2</td>\n",
       "      <td>RandomForestClassifier</td>\n",
       "    </tr>\n",
       "    <tr>\n",
       "      <th>3</th>\n",
       "      <td>0.772066</td>\n",
       "      <td>0.870897</td>\n",
       "      <td>0.693380</td>\n",
       "      <td>0.795652</td>\n",
       "      <td>3</td>\n",
       "      <td>RandomForestClassifier</td>\n",
       "    </tr>\n",
       "    <tr>\n",
       "      <th>4</th>\n",
       "      <td>0.752257</td>\n",
       "      <td>0.886525</td>\n",
       "      <td>0.653310</td>\n",
       "      <td>0.785030</td>\n",
       "      <td>4</td>\n",
       "      <td>RandomForestClassifier</td>\n",
       "    </tr>\n",
       "  </tbody>\n",
       "</table>\n",
       "</div>"
      ],
      "text/plain": [
       "   f1_score  precision_score  recall_score  accuracy_score  fold_num  \\\n",
       "0  0.771863         0.849372      0.707317        0.791304         0   \n",
       "1  0.777778         0.863830      0.707317        0.798261         1   \n",
       "2  0.769531         0.875556      0.686411        0.794783         2   \n",
       "3  0.772066         0.870897      0.693380        0.795652         3   \n",
       "4  0.752257         0.886525      0.653310        0.785030         4   \n",
       "\n",
       "                    model  \n",
       "0  RandomForestClassifier  \n",
       "1  RandomForestClassifier  \n",
       "2  RandomForestClassifier  \n",
       "3  RandomForestClassifier  \n",
       "4  RandomForestClassifier  "
      ]
     },
     "execution_count": 26,
     "metadata": {},
     "output_type": "execute_result"
    }
   ],
   "source": [
    "from models import get_metrics_k_fold\n",
    "from sklearn.ensemble import RandomForestClassifier\n",
    "\n",
    "model = RandomForestClassifier()\n",
    "metrics_rf = get_metrics_k_fold(\n",
    "    clean_df['title'], clean_df['is_fake'], vectorizer, model, watch_metrics, RANDOM_STATE, FOLDS_NUMBER)\n",
    "metrics_rf\n"
   ]
  },
  {
   "cell_type": "markdown",
   "metadata": {},
   "source": [
    "### Logistic Regression"
   ]
  },
  {
   "cell_type": "code",
   "execution_count": 27,
   "metadata": {},
   "outputs": [
    {
     "data": {
      "text/html": [
       "<div>\n",
       "<style scoped>\n",
       "    .dataframe tbody tr th:only-of-type {\n",
       "        vertical-align: middle;\n",
       "    }\n",
       "\n",
       "    .dataframe tbody tr th {\n",
       "        vertical-align: top;\n",
       "    }\n",
       "\n",
       "    .dataframe thead th {\n",
       "        text-align: right;\n",
       "    }\n",
       "</style>\n",
       "<table border=\"1\" class=\"dataframe\">\n",
       "  <thead>\n",
       "    <tr style=\"text-align: right;\">\n",
       "      <th></th>\n",
       "      <th>f1_score</th>\n",
       "      <th>precision_score</th>\n",
       "      <th>recall_score</th>\n",
       "      <th>accuracy_score</th>\n",
       "      <th>fold_num</th>\n",
       "      <th>model</th>\n",
       "    </tr>\n",
       "  </thead>\n",
       "  <tbody>\n",
       "    <tr>\n",
       "      <th>0</th>\n",
       "      <td>0.836625</td>\n",
       "      <td>0.862963</td>\n",
       "      <td>0.811847</td>\n",
       "      <td>0.841739</td>\n",
       "      <td>0</td>\n",
       "      <td>LogisticRegression</td>\n",
       "    </tr>\n",
       "    <tr>\n",
       "      <th>1</th>\n",
       "      <td>0.846831</td>\n",
       "      <td>0.855872</td>\n",
       "      <td>0.837979</td>\n",
       "      <td>0.848696</td>\n",
       "      <td>1</td>\n",
       "      <td>LogisticRegression</td>\n",
       "    </tr>\n",
       "    <tr>\n",
       "      <th>2</th>\n",
       "      <td>0.840659</td>\n",
       "      <td>0.886100</td>\n",
       "      <td>0.799652</td>\n",
       "      <td>0.848696</td>\n",
       "      <td>2</td>\n",
       "      <td>LogisticRegression</td>\n",
       "    </tr>\n",
       "    <tr>\n",
       "      <th>3</th>\n",
       "      <td>0.826401</td>\n",
       "      <td>0.859023</td>\n",
       "      <td>0.796167</td>\n",
       "      <td>0.833043</td>\n",
       "      <td>3</td>\n",
       "      <td>LogisticRegression</td>\n",
       "    </tr>\n",
       "    <tr>\n",
       "      <th>4</th>\n",
       "      <td>0.826291</td>\n",
       "      <td>0.896130</td>\n",
       "      <td>0.766551</td>\n",
       "      <td>0.838990</td>\n",
       "      <td>4</td>\n",
       "      <td>LogisticRegression</td>\n",
       "    </tr>\n",
       "  </tbody>\n",
       "</table>\n",
       "</div>"
      ],
      "text/plain": [
       "   f1_score  precision_score  recall_score  accuracy_score  fold_num  \\\n",
       "0  0.836625         0.862963      0.811847        0.841739         0   \n",
       "1  0.846831         0.855872      0.837979        0.848696         1   \n",
       "2  0.840659         0.886100      0.799652        0.848696         2   \n",
       "3  0.826401         0.859023      0.796167        0.833043         3   \n",
       "4  0.826291         0.896130      0.766551        0.838990         4   \n",
       "\n",
       "                model  \n",
       "0  LogisticRegression  \n",
       "1  LogisticRegression  \n",
       "2  LogisticRegression  \n",
       "3  LogisticRegression  \n",
       "4  LogisticRegression  "
      ]
     },
     "execution_count": 27,
     "metadata": {},
     "output_type": "execute_result"
    }
   ],
   "source": [
    "from sklearn.linear_model import LogisticRegression\n",
    "\n",
    "model = LogisticRegression()\n",
    "metrics_logreg = get_metrics_k_fold(\n",
    "    clean_df['title'], clean_df['is_fake'], vectorizer, model, watch_metrics, RANDOM_STATE, FOLDS_NUMBER)\n",
    "metrics_logreg\n"
   ]
  },
  {
   "cell_type": "markdown",
   "metadata": {},
   "source": [
    "### Multinomial Naive Bayes"
   ]
  },
  {
   "cell_type": "code",
   "execution_count": 28,
   "metadata": {},
   "outputs": [
    {
     "data": {
      "text/html": [
       "<div>\n",
       "<style scoped>\n",
       "    .dataframe tbody tr th:only-of-type {\n",
       "        vertical-align: middle;\n",
       "    }\n",
       "\n",
       "    .dataframe tbody tr th {\n",
       "        vertical-align: top;\n",
       "    }\n",
       "\n",
       "    .dataframe thead th {\n",
       "        text-align: right;\n",
       "    }\n",
       "</style>\n",
       "<table border=\"1\" class=\"dataframe\">\n",
       "  <thead>\n",
       "    <tr style=\"text-align: right;\">\n",
       "      <th></th>\n",
       "      <th>f1_score</th>\n",
       "      <th>precision_score</th>\n",
       "      <th>recall_score</th>\n",
       "      <th>accuracy_score</th>\n",
       "      <th>fold_num</th>\n",
       "      <th>model</th>\n",
       "    </tr>\n",
       "  </thead>\n",
       "  <tbody>\n",
       "    <tr>\n",
       "      <th>0</th>\n",
       "      <td>0.836394</td>\n",
       "      <td>0.802885</td>\n",
       "      <td>0.872822</td>\n",
       "      <td>0.829565</td>\n",
       "      <td>0</td>\n",
       "      <td>MultinomialNB</td>\n",
       "    </tr>\n",
       "    <tr>\n",
       "      <th>1</th>\n",
       "      <td>0.835422</td>\n",
       "      <td>0.802568</td>\n",
       "      <td>0.871080</td>\n",
       "      <td>0.828696</td>\n",
       "      <td>1</td>\n",
       "      <td>MultinomialNB</td>\n",
       "    </tr>\n",
       "    <tr>\n",
       "      <th>2</th>\n",
       "      <td>0.850216</td>\n",
       "      <td>0.845095</td>\n",
       "      <td>0.855401</td>\n",
       "      <td>0.849565</td>\n",
       "      <td>2</td>\n",
       "      <td>MultinomialNB</td>\n",
       "    </tr>\n",
       "    <tr>\n",
       "      <th>3</th>\n",
       "      <td>0.836149</td>\n",
       "      <td>0.811475</td>\n",
       "      <td>0.862369</td>\n",
       "      <td>0.831304</td>\n",
       "      <td>3</td>\n",
       "      <td>MultinomialNB</td>\n",
       "    </tr>\n",
       "    <tr>\n",
       "      <th>4</th>\n",
       "      <td>0.846678</td>\n",
       "      <td>0.828333</td>\n",
       "      <td>0.865854</td>\n",
       "      <td>0.843342</td>\n",
       "      <td>4</td>\n",
       "      <td>MultinomialNB</td>\n",
       "    </tr>\n",
       "  </tbody>\n",
       "</table>\n",
       "</div>"
      ],
      "text/plain": [
       "   f1_score  precision_score  recall_score  accuracy_score  fold_num  \\\n",
       "0  0.836394         0.802885      0.872822        0.829565         0   \n",
       "1  0.835422         0.802568      0.871080        0.828696         1   \n",
       "2  0.850216         0.845095      0.855401        0.849565         2   \n",
       "3  0.836149         0.811475      0.862369        0.831304         3   \n",
       "4  0.846678         0.828333      0.865854        0.843342         4   \n",
       "\n",
       "           model  \n",
       "0  MultinomialNB  \n",
       "1  MultinomialNB  \n",
       "2  MultinomialNB  \n",
       "3  MultinomialNB  \n",
       "4  MultinomialNB  "
      ]
     },
     "execution_count": 28,
     "metadata": {},
     "output_type": "execute_result"
    }
   ],
   "source": [
    "from sklearn.naive_bayes import MultinomialNB\n",
    "\n",
    "model = MultinomialNB()\n",
    "metrics_nb = get_metrics_k_fold(\n",
    "    clean_df['title'], clean_df['is_fake'], vectorizer, model, watch_metrics, RANDOM_STATE, FOLDS_NUMBER)\n",
    "metrics_nb\n"
   ]
  },
  {
   "cell_type": "markdown",
   "metadata": {},
   "source": [
    "### Passive Aggressive Classifier"
   ]
  },
  {
   "cell_type": "code",
   "execution_count": 29,
   "metadata": {},
   "outputs": [
    {
     "data": {
      "text/html": [
       "<div>\n",
       "<style scoped>\n",
       "    .dataframe tbody tr th:only-of-type {\n",
       "        vertical-align: middle;\n",
       "    }\n",
       "\n",
       "    .dataframe tbody tr th {\n",
       "        vertical-align: top;\n",
       "    }\n",
       "\n",
       "    .dataframe thead th {\n",
       "        text-align: right;\n",
       "    }\n",
       "</style>\n",
       "<table border=\"1\" class=\"dataframe\">\n",
       "  <thead>\n",
       "    <tr style=\"text-align: right;\">\n",
       "      <th></th>\n",
       "      <th>f1_score</th>\n",
       "      <th>precision_score</th>\n",
       "      <th>recall_score</th>\n",
       "      <th>accuracy_score</th>\n",
       "      <th>fold_num</th>\n",
       "      <th>model</th>\n",
       "    </tr>\n",
       "  </thead>\n",
       "  <tbody>\n",
       "    <tr>\n",
       "      <th>0</th>\n",
       "      <td>0.817531</td>\n",
       "      <td>0.840074</td>\n",
       "      <td>0.796167</td>\n",
       "      <td>0.822609</td>\n",
       "      <td>0</td>\n",
       "      <td>PassiveAggressiveClassifier</td>\n",
       "    </tr>\n",
       "    <tr>\n",
       "      <th>1</th>\n",
       "      <td>0.815517</td>\n",
       "      <td>0.807167</td>\n",
       "      <td>0.824042</td>\n",
       "      <td>0.813913</td>\n",
       "      <td>1</td>\n",
       "      <td>PassiveAggressiveClassifier</td>\n",
       "    </tr>\n",
       "    <tr>\n",
       "      <th>2</th>\n",
       "      <td>0.804428</td>\n",
       "      <td>0.854902</td>\n",
       "      <td>0.759582</td>\n",
       "      <td>0.815652</td>\n",
       "      <td>2</td>\n",
       "      <td>PassiveAggressiveClassifier</td>\n",
       "    </tr>\n",
       "    <tr>\n",
       "      <th>3</th>\n",
       "      <td>0.800000</td>\n",
       "      <td>0.832392</td>\n",
       "      <td>0.770035</td>\n",
       "      <td>0.807826</td>\n",
       "      <td>3</td>\n",
       "      <td>PassiveAggressiveClassifier</td>\n",
       "    </tr>\n",
       "    <tr>\n",
       "      <th>4</th>\n",
       "      <td>0.788390</td>\n",
       "      <td>0.852227</td>\n",
       "      <td>0.733449</td>\n",
       "      <td>0.803307</td>\n",
       "      <td>4</td>\n",
       "      <td>PassiveAggressiveClassifier</td>\n",
       "    </tr>\n",
       "  </tbody>\n",
       "</table>\n",
       "</div>"
      ],
      "text/plain": [
       "   f1_score  precision_score  recall_score  accuracy_score  fold_num  \\\n",
       "0  0.817531         0.840074      0.796167        0.822609         0   \n",
       "1  0.815517         0.807167      0.824042        0.813913         1   \n",
       "2  0.804428         0.854902      0.759582        0.815652         2   \n",
       "3  0.800000         0.832392      0.770035        0.807826         3   \n",
       "4  0.788390         0.852227      0.733449        0.803307         4   \n",
       "\n",
       "                         model  \n",
       "0  PassiveAggressiveClassifier  \n",
       "1  PassiveAggressiveClassifier  \n",
       "2  PassiveAggressiveClassifier  \n",
       "3  PassiveAggressiveClassifier  \n",
       "4  PassiveAggressiveClassifier  "
      ]
     },
     "execution_count": 29,
     "metadata": {},
     "output_type": "execute_result"
    }
   ],
   "source": [
    "from sklearn.linear_model import PassiveAggressiveClassifier\n",
    "\n",
    "model = PassiveAggressiveClassifier()\n",
    "metrics_pac = get_metrics_k_fold(\n",
    "    clean_df['title'], clean_df['is_fake'], vectorizer, model, watch_metrics, RANDOM_STATE, FOLDS_NUMBER)\n",
    "metrics_pac\n"
   ]
  },
  {
   "cell_type": "markdown",
   "metadata": {},
   "source": [
    "Из четырех классификаторов лучше всего себя показали логрег и наивный баес. Сделаем из них ансамбль и найдем их лучшую линейную комбинацию"
   ]
  },
  {
   "cell_type": "code",
   "execution_count": 30,
   "metadata": {},
   "outputs": [
    {
     "data": {
      "text/html": [
       "<div>\n",
       "<style scoped>\n",
       "    .dataframe tbody tr th:only-of-type {\n",
       "        vertical-align: middle;\n",
       "    }\n",
       "\n",
       "    .dataframe tbody tr th {\n",
       "        vertical-align: top;\n",
       "    }\n",
       "\n",
       "    .dataframe thead th {\n",
       "        text-align: right;\n",
       "    }\n",
       "</style>\n",
       "<table border=\"1\" class=\"dataframe\">\n",
       "  <thead>\n",
       "    <tr style=\"text-align: right;\">\n",
       "      <th></th>\n",
       "      <th>f1_score</th>\n",
       "      <th>precision_score</th>\n",
       "      <th>recall_score</th>\n",
       "      <th>accuracy_score</th>\n",
       "      <th>fold_num</th>\n",
       "      <th>model</th>\n",
       "    </tr>\n",
       "  </thead>\n",
       "  <tbody>\n",
       "    <tr>\n",
       "      <th>0</th>\n",
       "      <td>0.840307</td>\n",
       "      <td>0.824121</td>\n",
       "      <td>0.857143</td>\n",
       "      <td>0.837391</td>\n",
       "      <td>0</td>\n",
       "      <td>EnsembleClassifier</td>\n",
       "    </tr>\n",
       "    <tr>\n",
       "      <th>1</th>\n",
       "      <td>0.841745</td>\n",
       "      <td>0.826891</td>\n",
       "      <td>0.857143</td>\n",
       "      <td>0.839130</td>\n",
       "      <td>1</td>\n",
       "      <td>EnsembleClassifier</td>\n",
       "    </tr>\n",
       "    <tr>\n",
       "      <th>2</th>\n",
       "      <td>0.854867</td>\n",
       "      <td>0.868705</td>\n",
       "      <td>0.841463</td>\n",
       "      <td>0.857391</td>\n",
       "      <td>2</td>\n",
       "      <td>EnsembleClassifier</td>\n",
       "    </tr>\n",
       "    <tr>\n",
       "      <th>3</th>\n",
       "      <td>0.847487</td>\n",
       "      <td>0.843103</td>\n",
       "      <td>0.851916</td>\n",
       "      <td>0.846957</td>\n",
       "      <td>3</td>\n",
       "      <td>EnsembleClassifier</td>\n",
       "    </tr>\n",
       "    <tr>\n",
       "      <th>4</th>\n",
       "      <td>0.851101</td>\n",
       "      <td>0.860963</td>\n",
       "      <td>0.841463</td>\n",
       "      <td>0.852916</td>\n",
       "      <td>4</td>\n",
       "      <td>EnsembleClassifier</td>\n",
       "    </tr>\n",
       "  </tbody>\n",
       "</table>\n",
       "</div>"
      ],
      "text/plain": [
       "   f1_score  precision_score  recall_score  accuracy_score  fold_num  \\\n",
       "0  0.840307         0.824121      0.857143        0.837391         0   \n",
       "1  0.841745         0.826891      0.857143        0.839130         1   \n",
       "2  0.854867         0.868705      0.841463        0.857391         2   \n",
       "3  0.847487         0.843103      0.851916        0.846957         3   \n",
       "4  0.851101         0.860963      0.841463        0.852916         4   \n",
       "\n",
       "                model  \n",
       "0  EnsembleClassifier  \n",
       "1  EnsembleClassifier  \n",
       "2  EnsembleClassifier  \n",
       "3  EnsembleClassifier  \n",
       "4  EnsembleClassifier  "
      ]
     },
     "execution_count": 30,
     "metadata": {},
     "output_type": "execute_result"
    }
   ],
   "source": [
    "from models import EnsembleClassifier\n",
    "\n",
    "model = EnsembleClassifier(MultinomialNB(), LogisticRegression())\n",
    "ensemble_metrics = get_metrics_k_fold(\n",
    "    clean_df['title'], clean_df['is_fake'], vectorizer, model, watch_metrics, RANDOM_STATE, FOLDS_NUMBER)\n",
    "ensemble_metrics\n"
   ]
  },
  {
   "cell_type": "markdown",
   "metadata": {},
   "source": [
    "Переберем с шагом в 0.05 лучшее соотношение двух классификаторов"
   ]
  },
  {
   "cell_type": "code",
   "execution_count": 31,
   "metadata": {},
   "outputs": [
    {
     "data": {
      "text/plain": [
       "Text(0.5, 0, 'alpha')"
      ]
     },
     "execution_count": 31,
     "metadata": {},
     "output_type": "execute_result"
    },
    {
     "data": {
      "image/png": "[encoded data removed]",
      "text/plain": [
       "<Figure size 576x576 with 1 Axes>"
      ]
     },
     "metadata": {
      "needs_background": "light"
     },
     "output_type": "display_data"
    }
   ],
   "source": [
    "alphas = np.arange(0, 1, 0.05)\n",
    "f_scores = []\n",
    "\n",
    "for alpha in alphas:\n",
    "    model = EnsembleClassifier(\n",
    "        MultinomialNB(), LogisticRegression(), alpha=alpha)\n",
    "    combine_metrics = get_metrics_k_fold(\n",
    "        clean_df['title'], clean_df['is_fake'], vectorizer, model, watch_metrics, RANDOM_STATE, FOLDS_NUMBER)\n",
    "    f_scores.append(combine_metrics['f1_score'].mean())\n",
    "\n",
    "plt.figure(figsize=(8, 8))\n",
    "plt.plot(alphas, f_scores)\n",
    "plt.axvline(x=0.5, color='orange', label='default alpha=0.5')\n",
    "plt.grid()\n",
    "plt.title('Ensemble f1 score depends on alpha')\n",
    "plt.legend()\n",
    "plt.ylabel('f score')\n",
    "plt.xlabel('alpha')\n"
   ]
  },
  {
   "cell_type": "markdown",
   "metadata": {},
   "source": [
    "Наивысший f1 score достигается при alpha = 0.45"
   ]
  },
  {
   "cell_type": "code",
   "execution_count": 32,
   "metadata": {},
   "outputs": [
    {
     "data": {
      "text/html": [
       "<div>\n",
       "<style scoped>\n",
       "    .dataframe tbody tr th:only-of-type {\n",
       "        vertical-align: middle;\n",
       "    }\n",
       "\n",
       "    .dataframe tbody tr th {\n",
       "        vertical-align: top;\n",
       "    }\n",
       "\n",
       "    .dataframe thead th {\n",
       "        text-align: right;\n",
       "    }\n",
       "</style>\n",
       "<table border=\"1\" class=\"dataframe\">\n",
       "  <thead>\n",
       "    <tr style=\"text-align: right;\">\n",
       "      <th></th>\n",
       "      <th>f1_score</th>\n",
       "      <th>precision_score</th>\n",
       "      <th>recall_score</th>\n",
       "      <th>accuracy_score</th>\n",
       "      <th>fold_num</th>\n",
       "      <th>model</th>\n",
       "    </tr>\n",
       "  </thead>\n",
       "  <tbody>\n",
       "    <tr>\n",
       "      <th>0</th>\n",
       "      <td>0.839760</td>\n",
       "      <td>0.826307</td>\n",
       "      <td>0.853659</td>\n",
       "      <td>0.837391</td>\n",
       "      <td>0</td>\n",
       "      <td>EnsembleClassifier</td>\n",
       "    </tr>\n",
       "    <tr>\n",
       "      <th>1</th>\n",
       "      <td>0.843456</td>\n",
       "      <td>0.828571</td>\n",
       "      <td>0.858885</td>\n",
       "      <td>0.840870</td>\n",
       "      <td>1</td>\n",
       "      <td>EnsembleClassifier</td>\n",
       "    </tr>\n",
       "    <tr>\n",
       "      <th>2</th>\n",
       "      <td>0.854610</td>\n",
       "      <td>0.870036</td>\n",
       "      <td>0.839721</td>\n",
       "      <td>0.857391</td>\n",
       "      <td>2</td>\n",
       "      <td>EnsembleClassifier</td>\n",
       "    </tr>\n",
       "    <tr>\n",
       "      <th>3</th>\n",
       "      <td>0.850694</td>\n",
       "      <td>0.847751</td>\n",
       "      <td>0.853659</td>\n",
       "      <td>0.850435</td>\n",
       "      <td>3</td>\n",
       "      <td>EnsembleClassifier</td>\n",
       "    </tr>\n",
       "    <tr>\n",
       "      <th>4</th>\n",
       "      <td>0.853097</td>\n",
       "      <td>0.866906</td>\n",
       "      <td>0.839721</td>\n",
       "      <td>0.855527</td>\n",
       "      <td>4</td>\n",
       "      <td>EnsembleClassifier</td>\n",
       "    </tr>\n",
       "  </tbody>\n",
       "</table>\n",
       "</div>"
      ],
      "text/plain": [
       "   f1_score  precision_score  recall_score  accuracy_score  fold_num  \\\n",
       "0  0.839760         0.826307      0.853659        0.837391         0   \n",
       "1  0.843456         0.828571      0.858885        0.840870         1   \n",
       "2  0.854610         0.870036      0.839721        0.857391         2   \n",
       "3  0.850694         0.847751      0.853659        0.850435         3   \n",
       "4  0.853097         0.866906      0.839721        0.855527         4   \n",
       "\n",
       "                model  \n",
       "0  EnsembleClassifier  \n",
       "1  EnsembleClassifier  \n",
       "2  EnsembleClassifier  \n",
       "3  EnsembleClassifier  \n",
       "4  EnsembleClassifier  "
      ]
     },
     "execution_count": 32,
     "metadata": {},
     "output_type": "execute_result"
    }
   ],
   "source": [
    "model = EnsembleClassifier(MultinomialNB(), LogisticRegression(), 0.45)\n",
    "upd_ensemble_metrics = get_metrics_k_fold(clean_df['title'], clean_df['is_fake'], vectorizer, model, watch_metrics, RANDOM_STATE, FOLDS_NUMBER)\n",
    "upd_ensemble_metrics"
   ]
  },
  {
   "cell_type": "code",
   "execution_count": 33,
   "metadata": {},
   "outputs": [
    {
     "data": {
      "text/plain": [
       "0.8483235464918796"
      ]
     },
     "execution_count": 33,
     "metadata": {},
     "output_type": "execute_result"
    }
   ],
   "source": [
    "upd_ensemble_metrics[\"f1_score\"].mean()"
   ]
  },
  {
   "cell_type": "markdown",
   "metadata": {},
   "source": [
    "Неплохие метрики, попробуем нейронные сети."
   ]
  },
  {
   "cell_type": "markdown",
   "metadata": {},
   "source": [
    "## LAMA\n",
    "Иногда тюненные модели с очень препроцесенными данными проигрывают самому обычному AutoML, поэтому начнем с него. В ходе исследования из всех русскоязычных BERT'ов лучше всего себя показал rubert-base-cased, поэтому оставим только его."
   ]
  },
  {
   "cell_type": "code",
   "execution_count": 35,
   "metadata": {
    "scrolled": true
   },
   "outputs": [
    {
     "name": "stdout",
     "output_type": "stream",
     "text": [
      "[07:52:01] Stdout logging level is DEBUG.\n",
      "[07:52:01] Model language mode: ru\n",
      "[07:52:01] Task: binary\n",
      "\n",
      "[07:52:01] Start automl preset with listed constraints:\n",
      "[07:52:01] - time: 3600.00 seconds\n",
      "[07:52:01] - CPU: 1 cores\n",
      "[07:52:01] - memory: 16 GB\n",
      "\n",
      "[07:52:01] \u001b[1mTrain data shape: (4024, 2)\u001b[0m\n",
      "\n",
      "[07:52:01] Layer \u001b[1m1\u001b[0m train process start. Time left 3599.99 secs\n",
      "[07:52:01] Start fitting \u001b[1mLvl_0_Pipe_0_Mod_0_TorchNN\u001b[0m ...\n",
      "[07:52:01] Training params: {'bs': 8, 'num_workers': 1, 'max_length': 256, 'opt_params': {'lr': 1e-07}, 'scheduler_params': {'patience': 5, 'factor': 0.5, 'verbose': True}, 'is_snap': False, 'snap_params': {'k': 1, 'early_stopping': True, 'patience': 1, 'swa': False}, 'init_bias': True, 'n_epochs': 50, 'input_bn': False, 'emb_dropout': 0.1, 'emb_ratio': 3, 'max_emb_size': 50, 'bert_name': 'DeepPavlov/rubert-base-cased', 'pooling': 'cls', 'device': device(type='cuda', index=0), 'use_cont': True, 'use_cat': True, 'use_text': True, 'lang': 'ru', 'deterministic': False, 'multigpu': False, 'random_state': 42, 'path_to_save': None, 'verbose_inside': None, 'verbose': 1, 'stop_by_metric': False, 'device_ids': None, 'n_out': 1, 'cat_features': [], 'cat_dims': [], 'cont_features': [], 'cont_dim': 0, 'text_features': ['concated__title'], 'bias': array([[-0.00298211]])}\n",
      "[07:52:01] ===== Start working with \u001b[1mfold 0\u001b[0m for \u001b[1mLvl_0_Pipe_0_Mod_0_TorchNN\u001b[0m =====\n",
      "[07:52:06] number of text features: 1 \n",
      "[07:52:06] number of categorical features: 0 \n",
      "[07:52:06] number of continuous features: 0 \n"
     ]
    },
    {
     "name": "stderr",
     "output_type": "stream",
     "text": [
      "Some weights of the model checkpoint at DeepPavlov/rubert-base-cased were not used when initializing BertModel: ['cls.seq_relationship.bias', 'cls.predictions.transform.LayerNorm.bias', 'cls.predictions.transform.LayerNorm.weight', 'cls.predictions.decoder.weight', 'cls.predictions.transform.dense.bias', 'cls.seq_relationship.weight', 'cls.predictions.transform.dense.weight', 'cls.predictions.bias', 'cls.predictions.decoder.bias']\n",
      "- This IS expected if you are initializing BertModel from the checkpoint of a model trained on another task or with another architecture (e.g. initializing a BertForSequenceClassification model from a BertForPreTraining model).\n",
      "- This IS NOT expected if you are initializing BertModel from the checkpoint of a model that you expect to be exactly identical (initializing a BertForSequenceClassification model from a BertForSequenceClassification model).\n",
      "train (loss=0.69313): 100%|██████████| 336/336 [01:15<00:00,  4.47it/s] \n",
      "val: 100%|██████████| 168/168 [00:22<00:00,  7.43it/s]\n"
     ]
    },
    {
     "name": "stdout",
     "output_type": "stream",
     "text": [
      "[07:53:47] Epoch: 0, train loss: 0.6931301951408386, val loss: 0.6930925250053406, val metric: 0.7593805525941719\n"
     ]
    },
    {
     "name": "stderr",
     "output_type": "stream",
     "text": [
      "train (loss=0.693057): 100%|██████████| 336/336 [01:16<00:00,  4.40it/s]\n",
      "val: 100%|██████████| 168/168 [00:22<00:00,  7.37it/s]\n"
     ]
    },
    {
     "name": "stdout",
     "output_type": "stream",
     "text": [
      "[07:55:26] Epoch: 1, train loss: 0.6930573582649231, val loss: 0.692937970161438, val metric: 0.7963308457711442\n"
     ]
    },
    {
     "name": "stderr",
     "output_type": "stream",
     "text": [
      "train (loss=0.692933): 100%|██████████| 336/336 [01:16<00:00,  4.39it/s]\n",
      "val: 100%|██████████| 168/168 [00:22<00:00,  7.35it/s]\n"
     ]
    },
    {
     "name": "stdout",
     "output_type": "stream",
     "text": [
      "[07:57:06] Epoch: 2, train loss: 0.6929330229759216, val loss: 0.6927103996276855, val metric: 0.8160125710732054\n"
     ]
    },
    {
     "name": "stderr",
     "output_type": "stream",
     "text": [
      "train (loss=0.692714): 100%|██████████| 336/336 [01:16<00:00,  4.39it/s]\n",
      "val: 100%|██████████| 168/168 [00:22<00:00,  7.36it/s]\n"
     ]
    },
    {
     "name": "stdout",
     "output_type": "stream",
     "text": [
      "[07:58:46] Epoch: 3, train loss: 0.6927141547203064, val loss: 0.6923717260360718, val metric: 0.8176994491826581\n"
     ]
    },
    {
     "name": "stderr",
     "output_type": "stream",
     "text": [
      "train (loss=0.692473): 100%|██████████| 336/336 [01:16<00:00,  4.38it/s]\n",
      "val: 100%|██████████| 168/168 [00:22<00:00,  7.35it/s]\n"
     ]
    },
    {
     "name": "stdout",
     "output_type": "stream",
     "text": [
      "[08:00:26] Epoch: 4, train loss: 0.6924733519554138, val loss: 0.6919490098953247, val metric: 0.8161125177683013\n"
     ]
    },
    {
     "name": "stderr",
     "output_type": "stream",
     "text": [
      "train (loss=0.692132): 100%|██████████| 336/336 [01:16<00:00,  4.38it/s]\n",
      "val: 100%|██████████| 168/168 [00:22<00:00,  7.35it/s]\n"
     ]
    },
    {
     "name": "stdout",
     "output_type": "stream",
     "text": [
      "[08:02:06] Epoch: 5, train loss: 0.6921318769454956, val loss: 0.6914818286895752, val metric: 0.8260949715707179\n"
     ]
    },
    {
     "name": "stderr",
     "output_type": "stream",
     "text": [
      "train (loss=0.691566): 100%|██████████| 336/336 [01:16<00:00,  4.38it/s]\n",
      "val: 100%|██████████| 168/168 [00:22<00:00,  7.36it/s]\n"
     ]
    },
    {
     "name": "stdout",
     "output_type": "stream",
     "text": [
      "[08:03:46] Epoch: 6, train loss: 0.6915655136108398, val loss: 0.6909264326095581, val metric: 0.8210276741293533\n"
     ]
    },
    {
     "name": "stderr",
     "output_type": "stream",
     "text": [
      "train (loss=0.691108): 100%|██████████| 336/336 [01:16<00:00,  4.38it/s]\n",
      "val: 100%|██████████| 168/168 [00:22<00:00,  7.35it/s]\n"
     ]
    },
    {
     "name": "stdout",
     "output_type": "stream",
     "text": [
      "[08:05:26] Epoch: 7, train loss: 0.691108226776123, val loss: 0.6903712749481201, val metric: 0.834232853589197\n"
     ]
    },
    {
     "name": "stderr",
     "output_type": "stream",
     "text": [
      "train (loss=0.690666): 100%|██████████| 336/336 [01:16<00:00,  4.38it/s]\n",
      "val: 100%|██████████| 168/168 [00:22<00:00,  7.35it/s]\n"
     ]
    },
    {
     "name": "stdout",
     "output_type": "stream",
     "text": [
      "[08:07:06] Epoch: 8, train loss: 0.6906664967536926, val loss: 0.6897986531257629, val metric: 0.8376543621179815\n"
     ]
    },
    {
     "name": "stderr",
     "output_type": "stream",
     "text": [
      "train (loss=0.690042): 100%|██████████| 336/336 [01:16<00:00,  4.38it/s]\n",
      "train (loss=0.689286): 100%|██████████| 336/336 [01:16<00:00,  4.38it/s]\n",
      "val: 100%|██████████| 168/168 [00:22<00:00,  7.34it/s]\n"
     ]
    },
    {
     "name": "stdout",
     "output_type": "stream",
     "text": [
      "[08:10:25] Epoch: 10, train loss: 0.6892857551574707, val loss: 0.6884030699729919, val metric: 0.8327369847192608\n"
     ]
    },
    {
     "name": "stderr",
     "output_type": "stream",
     "text": [
      "train (loss=0.688672): 100%|██████████| 336/336 [01:16<00:00,  4.37it/s]\n",
      "val: 100%|██████████| 168/168 [00:22<00:00,  7.34it/s]\n"
     ]
    },
    {
     "name": "stdout",
     "output_type": "stream",
     "text": [
      "[08:12:05] Epoch: 11, train loss: 0.6886723637580872, val loss: 0.6876524686813354, val metric: 0.8364561122956646\n"
     ]
    },
    {
     "name": "stderr",
     "output_type": "stream",
     "text": [
      "train (loss=0.687914): 100%|██████████| 336/336 [01:16<00:00,  4.38it/s]\n",
      "val: 100%|██████████| 168/168 [00:22<00:00,  7.35it/s]\n"
     ]
    },
    {
     "name": "stdout",
     "output_type": "stream",
     "text": [
      "[08:13:45] Epoch: 12, train loss: 0.687914252281189, val loss: 0.6868773698806763, val metric: 0.8409414978678038\n"
     ]
    },
    {
     "name": "stderr",
     "output_type": "stream",
     "text": [
      "train (loss=0.68728):  74%|███████▎  | 247/336 [00:56<00:20,  4.38it/s] IOPub message rate exceeded.\n",
      "The notebook server will temporarily stop sending output\n",
      "to the client in order to avoid crashing it.\n",
      "To change this limit, set the config variable\n",
      "`--NotebookApp.iopub_msg_rate_limit`.\n",
      "\n",
      "Current values:\n",
      "NotebookApp.iopub_msg_rate_limit=1000.0 (msgs/sec)\n",
      "NotebookApp.rate_limit_window=3.0 (secs)\n",
      "\n",
      "train (loss=0.684997): 100%|██████████| 336/336 [01:16<00:00,  4.38it/s]\n",
      "val: 100%|██████████| 168/168 [00:22<00:00,  7.35it/s]\n"
     ]
    },
    {
     "name": "stdout",
     "output_type": "stream",
     "text": [
      "[08:18:45] Epoch: 15, train loss: 0.6849971413612366, val loss: 0.6840652227401733, val metric: 0.8603777985074627\n"
     ]
    },
    {
     "name": "stderr",
     "output_type": "stream",
     "text": [
      "train (loss=0.684044): 100%|██████████| 336/336 [01:16<00:00,  4.38it/s]\n",
      "val: 100%|██████████| 168/168 [00:22<00:00,  7.35it/s]\n"
     ]
    },
    {
     "name": "stdout",
     "output_type": "stream",
     "text": [
      "[08:20:25] Epoch: 16, train loss: 0.684043824672699, val loss: 0.6830105781555176, val metric: 0.8639536691542289\n"
     ]
    },
    {
     "name": "stderr",
     "output_type": "stream",
     "text": [
      "train (loss=0.683237): 100%|██████████| 336/336 [01:16<00:00,  4.38it/s]\n",
      "val: 100%|██████████| 168/168 [00:22<00:00,  7.35it/s]\n"
     ]
    },
    {
     "name": "stdout",
     "output_type": "stream",
     "text": [
      "[08:22:05] Epoch: 17, train loss: 0.6832367181777954, val loss: 0.6819854378700256, val metric: 0.8675650764036957\n"
     ]
    },
    {
     "name": "stderr",
     "output_type": "stream",
     "text": [
      "train (loss=0.681862): 100%|██████████| 336/336 [01:16<00:00,  4.37it/s]\n",
      "val: 100%|██████████| 168/168 [00:22<00:00,  7.36it/s]\n"
     ]
    },
    {
     "name": "stdout",
     "output_type": "stream",
     "text": [
      "[08:23:45] Epoch: 18, train loss: 0.6818618774414062, val loss: 0.6808673143386841, val metric: 0.8701759061833689\n"
     ]
    },
    {
     "name": "stderr",
     "output_type": "stream",
     "text": [
      "train (loss=0.68066): 100%|██████████| 336/336 [01:16<00:00,  4.37it/s] \n",
      "val: 100%|██████████| 168/168 [00:22<00:00,  7.35it/s]\n"
     ]
    },
    {
     "name": "stdout",
     "output_type": "stream",
     "text": [
      "[08:25:25] Epoch: 19, train loss: 0.6806600689888, val loss: 0.6797782182693481, val metric: 0.8747268123667378\n"
     ]
    },
    {
     "name": "stderr",
     "output_type": "stream",
     "text": [
      "train (loss=0.679288):  58%|█████▊    | 194/336 [00:44<00:32,  4.38it/s]IOPub message rate exceeded.\n",
      "The notebook server will temporarily stop sending output\n",
      "to the client in order to avoid crashing it.\n",
      "To change this limit, set the config variable\n",
      "`--NotebookApp.iopub_msg_rate_limit`.\n",
      "\n",
      "Current values:\n",
      "NotebookApp.iopub_msg_rate_limit=1000.0 (msgs/sec)\n",
      "NotebookApp.rate_limit_window=3.0 (secs)\n",
      "\n",
      "val: 100%|██████████| 168/168 [00:22<00:00,  7.35it/s]\n"
     ]
    },
    {
     "name": "stdout",
     "output_type": "stream",
     "text": [
      "[08:27:05] Epoch: 20, train loss: 0.6795006394386292, val loss: 0.6785631775856018, val metric: 0.886721526297086\n"
     ]
    },
    {
     "name": "stderr",
     "output_type": "stream",
     "text": [
      "train (loss=0.67689): 100%|██████████| 336/336 [01:16<00:00,  4.38it/s] \n",
      "val: 100%|██████████| 168/168 [00:22<00:00,  7.34it/s]\n"
     ]
    },
    {
     "name": "stdout",
     "output_type": "stream",
     "text": [
      "[08:30:25] Epoch: 22, train loss: 0.6768904328346252, val loss: 0.6760126948356628, val metric: 0.8930992359630419\n"
     ]
    },
    {
     "name": "stderr",
     "output_type": "stream",
     "text": [
      "train (loss=0.67569): 100%|██████████| 336/336 [01:16<00:00,  4.38it/s] \n",
      "val: 100%|██████████| 168/168 [00:22<00:00,  7.36it/s]\n"
     ]
    },
    {
     "name": "stdout",
     "output_type": "stream",
     "text": [
      "[08:32:05] Epoch: 23, train loss: 0.6756903529167175, val loss: 0.6747316718101501, val metric: 0.8956223347547974\n"
     ]
    },
    {
     "name": "stderr",
     "output_type": "stream",
     "text": [
      "train (loss=0.674286): 100%|██████████| 336/336 [01:16<00:00,  4.38it/s]\n",
      "val: 100%|██████████| 168/168 [00:22<00:00,  7.36it/s]\n"
     ]
    },
    {
     "name": "stdout",
     "output_type": "stream",
     "text": [
      "[08:33:44] Epoch: 24, train loss: 0.6742855906486511, val loss: 0.6734098792076111, val metric: 0.9010238983653162\n"
     ]
    },
    {
     "name": "stderr",
     "output_type": "stream",
     "text": [
      "train (loss=0.67305): 100%|██████████| 336/336 [01:16<00:00,  4.38it/s] \n",
      "val:  52%|█████▏    | 87/168 [00:11<00:10,  7.37it/s]IOPub message rate exceeded.\n",
      "The notebook server will temporarily stop sending output\n",
      "to the client in order to avoid crashing it.\n",
      "To change this limit, set the config variable\n",
      "`--NotebookApp.iopub_msg_rate_limit`.\n",
      "\n",
      "Current values:\n",
      "NotebookApp.iopub_msg_rate_limit=1000.0 (msgs/sec)\n",
      "NotebookApp.rate_limit_window=3.0 (secs)\n",
      "\n",
      "val: 100%|██████████| 168/168 [00:22<00:00,  7.35it/s]\n"
     ]
    },
    {
     "name": "stdout",
     "output_type": "stream",
     "text": [
      "[08:52:03] Epoch: 35, train loss: 0.6564977765083313, val loss: 0.656748354434967, val metric: 0.9146977167732766\n"
     ]
    },
    {
     "name": "stderr",
     "output_type": "stream",
     "text": [
      "val: 100%|██████████| 168/168 [00:22<00:00,  7.36it/s]01:11,  4.38it/s]\n"
     ]
    },
    {
     "name": "stdout",
     "output_type": "stream",
     "text": [
      "[08:53:43] Epoch: 36, train loss: 0.6547917723655701, val loss: 0.6550707221031189, val metric: 0.9149198205401563\n"
     ]
    },
    {
     "name": "stderr",
     "output_type": "stream",
     "text": [
      "train (loss=0.653033): 100%|██████████| 336/336 [01:16<00:00,  4.37it/s]\n",
      "val: 100%|██████████| 168/168 [00:22<00:00,  7.33it/s]\n"
     ]
    },
    {
     "name": "stdout",
     "output_type": "stream",
     "text": [
      "[08:55:23] Epoch: 37, train loss: 0.6530331373214722, val loss: 0.6532528400421143, val metric: 0.9153296019900498\n"
     ]
    },
    {
     "name": "stderr",
     "output_type": "stream",
     "text": [
      "train (loss=0.651306): 100%|██████████| 336/336 [01:16<00:00,  4.38it/s]\n",
      "val: 100%|██████████| 168/168 [00:22<00:00,  7.34it/s]\n"
     ]
    },
    {
     "name": "stdout",
     "output_type": "stream",
     "text": [
      "[08:57:03] Epoch: 38, train loss: 0.6513054966926575, val loss: 0.651491105556488, val metric: 0.9149253731343284\n"
     ]
    },
    {
     "name": "stderr",
     "output_type": "stream",
     "text": [
      "train (loss=0.649325): 100%|██████████| 336/336 [01:16<00:00,  4.38it/s]\n",
      "val: 100%|██████████| 168/168 [00:22<00:00,  7.34it/s]\n"
     ]
    },
    {
     "name": "stdout",
     "output_type": "stream",
     "text": [
      "[08:58:43] Epoch: 39, train loss: 0.6493245363235474, val loss: 0.6495538353919983, val metric: 0.915205223880597\n"
     ]
    },
    {
     "name": "stderr",
     "output_type": "stream",
     "text": [
      "train (loss=0.647156):  65%|██████▌   | 219/336 [00:50<00:26,  4.38it/s]IOPub message rate exceeded.\n",
      "The notebook server will temporarily stop sending output\n",
      "to the client in order to avoid crashing it.\n",
      "To change this limit, set the config variable\n",
      "`--NotebookApp.iopub_msg_rate_limit`.\n",
      "\n",
      "Current values:\n",
      "NotebookApp.iopub_msg_rate_limit=1000.0 (msgs/sec)\n",
      "NotebookApp.rate_limit_window=3.0 (secs)\n",
      "\n",
      "train (loss=0.62136): 100%|██████████| 336/336 [01:16<00:00,  4.38it/s] \n",
      "val: 100%|██████████| 168/168 [00:22<00:00,  7.36it/s]\n"
     ]
    },
    {
     "name": "stdout",
     "output_type": "stream",
     "text": [
      "[09:15:22] Epoch: 49, train loss: 0.621359646320343, val loss: 0.6228960752487183, val metric: 0.9151641346837243\n",
      "[09:15:25] Time limit exceeded after calculating fold 0\n",
      "\n",
      "[09:15:25] Fitting \u001b[1mLvl_0_Pipe_0_Mod_0_TorchNN\u001b[0m finished. score = \u001b[1m0.9151641346837243\u001b[0m\n",
      "[09:15:25] \u001b[1mLvl_0_Pipe_0_Mod_0_TorchNN\u001b[0m fitting and predicting completed\n",
      "[09:15:25] Time left -1404.25 secs\n",
      "\n",
      "[09:15:25] Time limit exceeded. Last level models will be blended and unused pipelines will be pruned.\n",
      "\n",
      "[09:15:25] \u001b[1mLayer 1 training completed.\u001b[0m\n",
      "\n",
      "[09:15:25] \u001b[1mAutoml preset training completed in 5004.26 seconds\u001b[0m\n",
      "\n",
      "[09:15:25] Model description:\n",
      "Final prediction for new objects (level 0) = \n",
      "\t 1.00000 * (1 averaged models Lvl_0_Pipe_0_Mod_0_TorchNN) \n",
      "\n",
      "[09:15:25] number of text features: 1 \n",
      "[09:15:25] number of categorical features: 0 \n",
      "[09:15:25] number of continuous features: 0 \n"
     ]
    },
    {
     "name": "stderr",
     "output_type": "stream",
     "text": [
      "Some weights of the model checkpoint at DeepPavlov/rubert-base-cased were not used when initializing BertModel: ['cls.seq_relationship.bias', 'cls.predictions.transform.LayerNorm.bias', 'cls.predictions.transform.LayerNorm.weight', 'cls.predictions.decoder.weight', 'cls.predictions.transform.dense.bias', 'cls.seq_relationship.weight', 'cls.predictions.transform.dense.weight', 'cls.predictions.bias', 'cls.predictions.decoder.bias']\n",
      "- This IS expected if you are initializing BertModel from the checkpoint of a model trained on another task or with another architecture (e.g. initializing a BertForSequenceClassification model from a BertForPreTraining model).\n",
      "- This IS NOT expected if you are initializing BertModel from the checkpoint of a model that you expect to be exactly identical (initializing a BertForSequenceClassification model from a BertForSequenceClassification model).\n",
      "test: 100%|██████████| 216/216 [00:29<00:00,  7.38it/s]\n"
     ]
    }
   ],
   "source": [
    "train, test = train_test_split(\n",
    "    clean_df, stratify=clean_df['is_fake'], test_size=TEST_SIZE, random_state=RANDOM_STATE)\n",
    "\n",
    "roles = {\n",
    "    'text': ['title'],\n",
    "    'target': 'is_fake'\n",
    "}\n",
    "\n",
    "task = Task('binary')\n",
    "automl = TabularNLPAutoML(\n",
    "    task=task,\n",
    "    timeout=3600,\n",
    "    cpu_limit=1,\n",
    "    gpu_ids='0',\n",
    "    general_params={\n",
    "        'nested_cv': False,\n",
    "        'use_algos': [['nn']]\n",
    "    },\n",
    "    autonlp_params={\n",
    "        'sent_scaler': 'l2'\n",
    "    },\n",
    "    text_params={\n",
    "        'lang': 'ru',\n",
    "        'bert_model': 'DeepPavlov/rubert-base-cased'\n",
    "    },\n",
    "    nn_params={\n",
    "        'opt_params': {'lr': 1e-7},\n",
    "        'max_length': 256,\n",
    "        'bs': 8,\n",
    "        'n_epochs': 50,\n",
    "    }\n",
    "\n",
    ")\n",
    "\n",
    "oof_pred = automl.fit_predict(train, roles=roles, verbose=10)\n",
    "test_pred = automl.predict(test)"
   ]
  },
  {
   "cell_type": "code",
   "execution_count": 36,
   "metadata": {},
   "outputs": [
    {
     "name": "stdout",
     "output_type": "stream",
     "text": [
      "              precision    recall  f1-score   support\n",
      "\n",
      "           0       0.87      0.88      0.87       864\n",
      "           1       0.88      0.87      0.87       861\n",
      "\n",
      "    accuracy                           0.87      1725\n",
      "   macro avg       0.87      0.87      0.87      1725\n",
      "weighted avg       0.87      0.87      0.87      1725\n",
      "\n"
     ]
    }
   ],
   "source": [
    "predict = test_pred.data[:, 0]\n",
    "predict = np.round(predict)\n",
    "print(classification_report(test[roles['target']].values, predict))"
   ]
  },
  {
   "cell_type": "markdown",
   "metadata": {},
   "source": [
    "## AutoML(fake-news-RoBerta)"
   ]
  },
  {
   "cell_type": "markdown",
   "metadata": {},
   "source": [
    "Изучая множество подходов к решению задачи определению фейковых новостей(в основном с англоязычного соревнования на kaggle), пришла неожиданная идея. Перевести исходный датасет на английский и использовать предобученного на английских фейковых новостях BERT."
   ]
  },
  {
   "cell_type": "markdown",
   "metadata": {},
   "source": [
    "Само применение перевода и сохранение датасета я закомментировал, так как перевод занимает продолжительное время. Это связано с тем, что после каждого запроса нужно вызывать time.sleep, чтобы все 5749 запросов отправились за один раз."
   ]
  },
  {
   "cell_type": "code",
   "execution_count": 37,
   "metadata": {},
   "outputs": [
    {
     "data": {
      "text/html": [
       "<div>\n",
       "<style scoped>\n",
       "    .dataframe tbody tr th:only-of-type {\n",
       "        vertical-align: middle;\n",
       "    }\n",
       "\n",
       "    .dataframe tbody tr th {\n",
       "        vertical-align: top;\n",
       "    }\n",
       "\n",
       "    .dataframe thead th {\n",
       "        text-align: right;\n",
       "    }\n",
       "</style>\n",
       "<table border=\"1\" class=\"dataframe\">\n",
       "  <thead>\n",
       "    <tr style=\"text-align: right;\">\n",
       "      <th></th>\n",
       "      <th>title</th>\n",
       "      <th>is_fake</th>\n",
       "    </tr>\n",
       "  </thead>\n",
       "  <tbody>\n",
       "    <tr>\n",
       "      <th>0</th>\n",
       "      <td>Muscovite Vladimir Klutin came to the interven...</td>\n",
       "      <td>1</td>\n",
       "    </tr>\n",
       "    <tr>\n",
       "      <th>1</th>\n",
       "      <td>Agent Kokorina called ride on the oncoming roo...</td>\n",
       "      <td>0</td>\n",
       "    </tr>\n",
       "    <tr>\n",
       "      <th>2</th>\n",
       "      <td>State Duma will consider the possibility of in...</td>\n",
       "      <td>1</td>\n",
       "    </tr>\n",
       "    <tr>\n",
       "      <th>3</th>\n",
       "      <td>FAS blocked the supply of high-speed trams for...</td>\n",
       "      <td>0</td>\n",
       "    </tr>\n",
       "    <tr>\n",
       "      <th>4</th>\n",
       "      <td>Against the Navalny, the case was made about t...</td>\n",
       "      <td>1</td>\n",
       "    </tr>\n",
       "  </tbody>\n",
       "</table>\n",
       "</div>"
      ],
      "text/plain": [
       "                                               title  is_fake\n",
       "0  Muscovite Vladimir Klutin came to the interven...        1\n",
       "1  Agent Kokorina called ride on the oncoming roo...        0\n",
       "2  State Duma will consider the possibility of in...        1\n",
       "3  FAS blocked the supply of high-speed trams for...        0\n",
       "4  Against the Navalny, the case was made about t...        1"
      ]
     },
     "execution_count": 37,
     "metadata": {},
     "output_type": "execute_result"
    }
   ],
   "source": [
    "from google_services import google_translate\n",
    "\n",
    "translated_df = df.copy()\n",
    "# translated_df['title'] = translated_df['title'].apply(google_translate)\n",
    "# translated_df.to_csv('dataset/translated_df', sep='\\t', index=False)\n",
    "translated_df = pd.read_csv('dataset/translated_df', sep='\\t')\n",
    "translated_df = translated_df.loc[:, ~translated_df.columns.str.contains('^Unnamed')]\n",
    "translated_df.head()"
   ]
  },
  {
   "cell_type": "markdown",
   "metadata": {},
   "source": [
    "Теперь аналогично препроцессингу русского языка, обработаем переведенный датасет"
   ]
  },
  {
   "cell_type": "code",
   "execution_count": 38,
   "metadata": {},
   "outputs": [
    {
     "data": {
      "text/html": [
       "<div>\n",
       "<style scoped>\n",
       "    .dataframe tbody tr th:only-of-type {\n",
       "        vertical-align: middle;\n",
       "    }\n",
       "\n",
       "    .dataframe tbody tr th {\n",
       "        vertical-align: top;\n",
       "    }\n",
       "\n",
       "    .dataframe thead th {\n",
       "        text-align: right;\n",
       "    }\n",
       "</style>\n",
       "<table border=\"1\" class=\"dataframe\">\n",
       "  <thead>\n",
       "    <tr style=\"text-align: right;\">\n",
       "      <th></th>\n",
       "      <th>title</th>\n",
       "      <th>is_fake</th>\n",
       "    </tr>\n",
       "  </thead>\n",
       "  <tbody>\n",
       "    <tr>\n",
       "      <th>0</th>\n",
       "      <td>muscovit vladimir klutin came intervent americ...</td>\n",
       "      <td>1</td>\n",
       "    </tr>\n",
       "    <tr>\n",
       "      <th>1</th>\n",
       "      <td>agent kokorina call ride oncom room everyday h...</td>\n",
       "      <td>0</td>\n",
       "    </tr>\n",
       "    <tr>\n",
       "      <th>2</th>\n",
       "      <td>state duma consid possibl introduc secret arti...</td>\n",
       "      <td>1</td>\n",
       "    </tr>\n",
       "    <tr>\n",
       "      <th>3</th>\n",
       "      <td>fa block suppli highspe tram moscow</td>\n",
       "      <td>0</td>\n",
       "    </tr>\n",
       "    <tr>\n",
       "      <th>4</th>\n",
       "      <td>navalni case made accuraci volkov</td>\n",
       "      <td>1</td>\n",
       "    </tr>\n",
       "  </tbody>\n",
       "</table>\n",
       "</div>"
      ],
      "text/plain": [
       "                                               title  is_fake\n",
       "0  muscovit vladimir klutin came intervent americ...        1\n",
       "1  agent kokorina call ride oncom room everyday h...        0\n",
       "2  state duma consid possibl introduc secret arti...        1\n",
       "3                fa block suppli highspe tram moscow        0\n",
       "4                  navalni case made accuraci volkov        1"
      ]
     },
     "execution_count": 38,
     "metadata": {},
     "output_type": "execute_result"
    }
   ],
   "source": [
    "en_preprocess_injected = partial(preprocess_text, lang='eng')\n",
    "cleaned_translated_df = translated_df.copy()\n",
    "cleaned_translated_df['title'] = cleaned_translated_df['title'].apply(en_preprocess_injected)\n",
    "cleaned_translated_df.to_csv('dataset/cleaned_translated_df', sep='\\t', index=False)\n",
    "cleaned_translated_df = pd.read_csv('dataset/cleaned_translated_df', sep='\\t')\n",
    "cleaned_translated_df.head()"
   ]
  },
  {
   "cell_type": "markdown",
   "metadata": {},
   "source": [
    "Перевели и почистили, теперь попробуем английского-фейк-ньюс BERT, притом на очищенном и неочищенном датасетах"
   ]
  },
  {
   "cell_type": "markdown",
   "metadata": {},
   "source": [
    "### Переведенный и неочищенный датасет"
   ]
  },
  {
   "cell_type": "code",
   "execution_count": 39,
   "metadata": {},
   "outputs": [
    {
     "name": "stdout",
     "output_type": "stream",
     "text": [
      "[09:16:05] Stdout logging level is DEBUG.\n",
      "[09:16:05] Model language mode: en\n",
      "[09:16:05] Task: binary\n",
      "\n",
      "[09:16:05] Start automl preset with listed constraints:\n",
      "[09:16:05] - time: 3600.00 seconds\n",
      "[09:16:05] - CPU: 1 cores\n",
      "[09:16:05] - memory: 16 GB\n",
      "\n",
      "[09:16:05] \u001b[1mTrain data shape: (4030, 2)\u001b[0m\n",
      "\n",
      "[09:16:05] Layer \u001b[1m1\u001b[0m train process start. Time left 3599.98 secs\n",
      "[09:16:05] Start fitting \u001b[1mLvl_0_Pipe_0_Mod_0_TorchNN\u001b[0m ...\n",
      "[09:16:05] Training params: {'bs': 8, 'num_workers': 1, 'max_length': 256, 'opt_params': {'lr': 1e-07}, 'scheduler_params': {'patience': 5, 'factor': 0.5, 'verbose': True}, 'is_snap': False, 'snap_params': {'k': 1, 'early_stopping': True, 'patience': 1, 'swa': False}, 'init_bias': True, 'n_epochs': 50, 'input_bn': False, 'emb_dropout': 0.1, 'emb_ratio': 3, 'max_emb_size': 50, 'bert_name': 'ghanashyamvtatti/roberta-fake-news', 'pooling': 'cls', 'device': device(type='cuda', index=0), 'use_cont': True, 'use_cat': True, 'use_text': True, 'lang': 'en', 'deterministic': False, 'multigpu': False, 'random_state': 42, 'path_to_save': None, 'verbose_inside': None, 'verbose': 1, 'stop_by_metric': False, 'device_ids': None, 'n_out': 1, 'cat_features': [], 'cat_dims': [], 'cont_features': [], 'cont_dim': 0, 'text_features': ['concated__title'], 'bias': array([[0.]])}\n",
      "[09:16:05] ===== Start working with \u001b[1mfold 0\u001b[0m for \u001b[1mLvl_0_Pipe_0_Mod_0_TorchNN\u001b[0m =====\n",
      "[09:16:10] number of text features: 1 \n",
      "[09:16:10] number of categorical features: 0 \n",
      "[09:16:10] number of continuous features: 0 \n"
     ]
    },
    {
     "name": "stderr",
     "output_type": "stream",
     "text": [
      "Some weights of the model checkpoint at ghanashyamvtatti/roberta-fake-news were not used when initializing RobertaModel: ['classifier.dense.bias', 'classifier.dense.weight', 'classifier.out_proj.weight', 'classifier.out_proj.bias']\n",
      "- This IS expected if you are initializing RobertaModel from the checkpoint of a model trained on another task or with another architecture (e.g. initializing a BertForSequenceClassification model from a BertForPreTraining model).\n",
      "- This IS NOT expected if you are initializing RobertaModel from the checkpoint of a model that you expect to be exactly identical (initializing a BertForSequenceClassification model from a BertForSequenceClassification model).\n",
      "Some weights of RobertaModel were not initialized from the model checkpoint at ghanashyamvtatti/roberta-fake-news and are newly initialized: ['roberta.pooler.dense.bias', 'roberta.pooler.dense.weight']\n",
      "You should probably TRAIN this model on a down-stream task to be able to use it for predictions and inference.\n",
      "train (loss=0.693144): 100%|██████████| 336/336 [01:12<00:00,  4.65it/s]\n",
      "val: 100%|██████████| 168/168 [00:22<00:00,  7.51it/s]\n"
     ]
    },
    {
     "name": "stdout",
     "output_type": "stream",
     "text": [
      "[09:17:48] Epoch: 0, train loss: 0.6931445002555847, val loss: 0.693136990070343, val metric: 0.703761647888322\n"
     ]
    },
    {
     "name": "stderr",
     "output_type": "stream",
     "text": [
      "train (loss=0.69313): 100%|██████████| 336/336 [01:12<00:00,  4.64it/s] \n",
      "val: 100%|██████████| 168/168 [00:22<00:00,  7.50it/s]\n"
     ]
    },
    {
     "name": "stdout",
     "output_type": "stream",
     "text": [
      "[09:19:23] Epoch: 1, train loss: 0.6931303143501282, val loss: 0.6930874586105347, val metric: 0.7640472204506803\n"
     ]
    },
    {
     "name": "stderr",
     "output_type": "stream",
     "text": [
      "train (loss=0.693087): 100%|██████████| 336/336 [01:12<00:00,  4.64it/s]\n",
      "val: 100%|██████████| 168/168 [00:22<00:00,  7.48it/s]\n"
     ]
    },
    {
     "name": "stdout",
     "output_type": "stream",
     "text": [
      "[09:20:58] Epoch: 2, train loss: 0.6930869817733765, val loss: 0.6929814219474792, val metric: 0.7870108329790251\n"
     ]
    },
    {
     "name": "stderr",
     "output_type": "stream",
     "text": [
      "train (loss=0.693015):  65%|██████▌   | 220/336 [00:47<00:24,  4.65it/s]IOPub message rate exceeded.\n",
      "The notebook server will temporarily stop sending output\n",
      "to the client in order to avoid crashing it.\n",
      "To change this limit, set the config variable\n",
      "`--NotebookApp.iopub_msg_rate_limit`.\n",
      "\n",
      "Current values:\n",
      "NotebookApp.iopub_msg_rate_limit=1000.0 (msgs/sec)\n",
      "NotebookApp.rate_limit_window=3.0 (secs)\n",
      "\n",
      "train (loss=0.690432): 100%|██████████| 336/336 [01:12<00:00,  4.63it/s]\n",
      "val: 100%|██████████| 168/168 [00:22<00:00,  7.50it/s]\n"
     ]
    },
    {
     "name": "stdout",
     "output_type": "stream",
     "text": [
      "[09:33:39] Epoch: 10, train loss: 0.6904314756393433, val loss: 0.6887680292129517, val metric: 0.8654314590419502\n"
     ]
    },
    {
     "name": "stderr",
     "output_type": "stream",
     "text": [
      "train (loss=0.68971): 100%|██████████| 336/336 [01:12<00:00,  4.64it/s] \n",
      "val: 100%|██████████| 168/168 [00:22<00:00,  7.50it/s]\n"
     ]
    },
    {
     "name": "stdout",
     "output_type": "stream",
     "text": [
      "[09:35:14] Epoch: 11, train loss: 0.6897100806236267, val loss: 0.6878531575202942, val metric: 0.8673325449971655\n"
     ]
    },
    {
     "name": "stderr",
     "output_type": "stream",
     "text": [
      "train (loss=0.689049): 100%|██████████| 336/336 [01:12<00:00,  4.63it/s]\n",
      "val: 100%|██████████| 168/168 [00:22<00:00,  7.49it/s]\n"
     ]
    },
    {
     "name": "stdout",
     "output_type": "stream",
     "text": [
      "[09:36:50] Epoch: 12, train loss: 0.6890486478805542, val loss: 0.6871131658554077, val metric: 0.8707992311507935\n"
     ]
    },
    {
     "name": "stderr",
     "output_type": "stream",
     "text": [
      "train (loss=0.688343): 100%|██████████| 336/336 [01:12<00:00,  4.63it/s]\n",
      "val: 100%|██████████| 168/168 [00:22<00:00,  7.49it/s]\n"
     ]
    },
    {
     "name": "stdout",
     "output_type": "stream",
     "text": [
      "[09:40:00] Epoch: 14, train loss: 0.6878081560134888, val loss: 0.6853365302085876, val metric: 0.8748117736678003\n"
     ]
    },
    {
     "name": "stderr",
     "output_type": "stream",
     "text": [
      "train (loss=0.68686): 100%|██████████| 336/336 [01:12<00:00,  4.63it/s] \n",
      "val: 100%|██████████| 168/168 [00:22<00:00,  7.49it/s]\n"
     ]
    },
    {
     "name": "stdout",
     "output_type": "stream",
     "text": [
      "[09:41:35] Epoch: 15, train loss: 0.6868601441383362, val loss: 0.6842101216316223, val metric: 0.8768756200396826\n"
     ]
    },
    {
     "name": "stderr",
     "output_type": "stream",
     "text": [
      "train (loss=0.686134): 100%|██████████| 336/336 [01:12<00:00,  4.63it/s]\n",
      "val: 100%|██████████| 168/168 [00:22<00:00,  7.50it/s]\n"
     ]
    },
    {
     "name": "stdout",
     "output_type": "stream",
     "text": [
      "[09:43:10] Epoch: 16, train loss: 0.6861345171928406, val loss: 0.6832384467124939, val metric: 0.8780448377267573\n"
     ]
    },
    {
     "name": "stderr",
     "output_type": "stream",
     "text": [
      "train (loss=0.685294): 100%|██████████| 336/336 [01:12<00:00,  4.63it/s]\n",
      "val: 100%|██████████| 168/168 [00:22<00:00,  7.49it/s]\n"
     ]
    },
    {
     "name": "stdout",
     "output_type": "stream",
     "text": [
      "[09:44:46] Epoch: 17, train loss: 0.6852936148643494, val loss: 0.6822656989097595, val metric: 0.8795107886904762\n"
     ]
    },
    {
     "name": "stderr",
     "output_type": "stream",
     "text": [
      "train (loss=0.685081):  51%|█████     | 170/336 [00:36<00:35,  4.64it/s]IOPub message rate exceeded.\n",
      "The notebook server will temporarily stop sending output\n",
      "to the client in order to avoid crashing it.\n",
      "To change this limit, set the config variable\n",
      "`--NotebookApp.iopub_msg_rate_limit`.\n",
      "\n",
      "Current values:\n",
      "NotebookApp.iopub_msg_rate_limit=1000.0 (msgs/sec)\n",
      "NotebookApp.rate_limit_window=3.0 (secs)\n",
      "\n",
      "train (loss=0.677254): 100%|██████████| 336/336 [01:12<00:00,  4.63it/s]\n",
      "val: 100%|██████████| 168/168 [00:22<00:00,  7.49it/s]\n"
     ]
    },
    {
     "name": "stdout",
     "output_type": "stream",
     "text": [
      "[09:57:27] Epoch: 25, train loss: 0.6772541999816895, val loss: 0.6738311648368835, val metric: 0.8861463205073695\n"
     ]
    },
    {
     "name": "stderr",
     "output_type": "stream",
     "text": [
      "val: 100%|██████████| 168/168 [00:22<00:00,  7.49it/s]01:10,  4.63it/s]\n"
     ]
    },
    {
     "name": "stdout",
     "output_type": "stream",
     "text": [
      "[09:59:02] Epoch: 26, train loss: 0.6766512393951416, val loss: 0.672753632068634, val metric: 0.886694391298186\n"
     ]
    },
    {
     "name": "stderr",
     "output_type": "stream",
     "text": [
      "train (loss=0.675088): 100%|██████████| 336/336 [01:12<00:00,  4.64it/s]\n",
      "val: 100%|██████████| 168/168 [00:22<00:00,  7.49it/s]\n"
     ]
    },
    {
     "name": "stdout",
     "output_type": "stream",
     "text": [
      "[10:00:37] Epoch: 27, train loss: 0.6750882267951965, val loss: 0.6716022491455078, val metric: 0.8876344157454648\n"
     ]
    },
    {
     "name": "stderr",
     "output_type": "stream",
     "text": [
      "train (loss=0.674377): 100%|██████████| 336/336 [01:12<00:00,  4.63it/s]\n",
      "val: 100%|██████████| 168/168 [00:22<00:00,  7.49it/s]\n"
     ]
    },
    {
     "name": "stdout",
     "output_type": "stream",
     "text": [
      "[10:02:12] Epoch: 28, train loss: 0.6743773221969604, val loss: 0.6704611778259277, val metric: 0.8881426268424036\n"
     ]
    },
    {
     "name": "stderr",
     "output_type": "stream",
     "text": [
      "train (loss=0.673164): 100%|██████████| 336/336 [01:12<00:00,  4.63it/s]\n",
      "val: 100%|██████████| 168/168 [00:22<00:00,  7.49it/s]\n"
     ]
    },
    {
     "name": "stdout",
     "output_type": "stream",
     "text": [
      "[10:03:47] Epoch: 29, train loss: 0.6731637120246887, val loss: 0.6690756678581238, val metric: 0.8887305573270976\n"
     ]
    },
    {
     "name": "stderr",
     "output_type": "stream",
     "text": [
      "train (loss=0.672014):  66%|██████▋   | 223/336 [00:48<00:24,  4.63it/s]IOPub message rate exceeded.\n",
      "The notebook server will temporarily stop sending output\n",
      "to the client in order to avoid crashing it.\n",
      "To change this limit, set the config variable\n",
      "`--NotebookApp.iopub_msg_rate_limit`.\n",
      "\n",
      "Current values:\n",
      "NotebookApp.iopub_msg_rate_limit=1000.0 (msgs/sec)\n",
      "NotebookApp.rate_limit_window=3.0 (secs)\n",
      "\n",
      "val: 100%|██████████| 168/168 [00:22<00:00,  7.50it/s]\n"
     ]
    },
    {
     "name": "stdout",
     "output_type": "stream",
     "text": [
      "[10:29:11] Epoch: 45, train loss: 0.6530877947807312, val loss: 0.6477317810058594, val metric: 0.8722618604733561\n"
     ]
    },
    {
     "name": "stderr",
     "output_type": "stream",
     "text": [
      "train (loss=0.64956): 100%|██████████| 336/336 [01:12<00:00,  4.63it/s] \n",
      "val: 100%|██████████| 168/168 [00:22<00:00,  7.50it/s]\n"
     ]
    },
    {
     "name": "stdout",
     "output_type": "stream",
     "text": [
      "[10:32:21] Epoch: 47, train loss: 0.6495604515075684, val loss: 0.6445924043655396, val metric: 0.8747209821428572\n"
     ]
    },
    {
     "name": "stderr",
     "output_type": "stream",
     "text": [
      "train (loss=0.647386): 100%|██████████| 336/336 [01:12<00:00,  4.63it/s]\n",
      "val: 100%|██████████| 168/168 [00:22<00:00,  7.49it/s]\n"
     ]
    },
    {
     "name": "stdout",
     "output_type": "stream",
     "text": [
      "[10:33:56] Epoch: 48, train loss: 0.647385835647583, val loss: 0.6431971192359924, val metric: 0.8679215826955783\n"
     ]
    },
    {
     "name": "stderr",
     "output_type": "stream",
     "text": [
      "train (loss=0.646644): 100%|██████████| 336/336 [01:12<00:00,  4.62it/s]\n",
      "val: 100%|██████████| 168/168 [00:22<00:00,  7.48it/s]\n"
     ]
    },
    {
     "name": "stdout",
     "output_type": "stream",
     "text": [
      "[10:35:31] Epoch: 49, train loss: 0.6466437578201294, val loss: 0.6419544816017151, val metric: 0.8567553323412699\n",
      "[10:35:33] Time limit exceeded after calculating fold 0\n",
      "\n",
      "[10:35:33] Fitting \u001b[1mLvl_0_Pipe_0_Mod_0_TorchNN\u001b[0m finished. score = \u001b[1m0.8567553323412699\u001b[0m\n",
      "[10:35:33] \u001b[1mLvl_0_Pipe_0_Mod_0_TorchNN\u001b[0m fitting and predicting completed\n",
      "[10:35:33] Time left -1168.60 secs\n",
      "\n",
      "[10:35:33] Time limit exceeded. Last level models will be blended and unused pipelines will be pruned.\n",
      "\n",
      "[10:35:33] \u001b[1mLayer 1 training completed.\u001b[0m\n",
      "\n",
      "[10:35:33] \u001b[1mAutoml preset training completed in 4768.61 seconds\u001b[0m\n",
      "\n",
      "[10:35:33] Model description:\n",
      "Final prediction for new objects (level 0) = \n",
      "\t 1.00000 * (1 averaged models Lvl_0_Pipe_0_Mod_0_TorchNN) \n",
      "\n",
      "[10:35:33] number of text features: 1 \n",
      "[10:35:33] number of categorical features: 0 \n",
      "[10:35:33] number of continuous features: 0 \n"
     ]
    },
    {
     "name": "stderr",
     "output_type": "stream",
     "text": [
      "Some weights of the model checkpoint at ghanashyamvtatti/roberta-fake-news were not used when initializing RobertaModel: ['classifier.dense.bias', 'classifier.dense.weight', 'classifier.out_proj.weight', 'classifier.out_proj.bias']\n",
      "- This IS expected if you are initializing RobertaModel from the checkpoint of a model trained on another task or with another architecture (e.g. initializing a BertForSequenceClassification model from a BertForPreTraining model).\n",
      "- This IS NOT expected if you are initializing RobertaModel from the checkpoint of a model that you expect to be exactly identical (initializing a BertForSequenceClassification model from a BertForSequenceClassification model).\n",
      "Some weights of RobertaModel were not initialized from the model checkpoint at ghanashyamvtatti/roberta-fake-news and are newly initialized: ['roberta.pooler.dense.bias', 'roberta.pooler.dense.weight']\n",
      "You should probably TRAIN this model on a down-stream task to be able to use it for predictions and inference.\n",
      "test: 100%|██████████| 216/216 [00:28<00:00,  7.52it/s]\n"
     ]
    }
   ],
   "source": [
    "train, test = train_test_split(\n",
    "    translated_df, test_size=TEST_SIZE, stratify = translated_df['is_fake'], random_state=RANDOM_STATE)\n",
    "\n",
    "roles = {\n",
    "    'text': ['title'],\n",
    "    'target': 'is_fake'\n",
    "}\n",
    "\n",
    "task = Task('binary')\n",
    "translated_automl = TabularNLPAutoML(\n",
    "    task=task,\n",
    "    timeout=3600,\n",
    "    cpu_limit=1,\n",
    "    gpu_ids='0',\n",
    "    general_params={\n",
    "        'nested_cv': False,\n",
    "        'use_algos': [['nn']]\n",
    "    },\n",
    "    autonlp_params={\n",
    "        'sent_scaler': 'l2'\n",
    "    },\n",
    "    text_params={\n",
    "        'lang': 'en',\n",
    "        'bert_model': 'ghanashyamvtatti/roberta-fake-news'\n",
    "    },\n",
    "    nn_params={\n",
    "        'opt_params': {'lr': 1e-7},\n",
    "        'max_length': 256,\n",
    "        'bs': 8,\n",
    "        'n_epochs': 50,\n",
    "    }\n",
    "\n",
    ")\n",
    "\n",
    "oof_pred = translated_automl.fit_predict(train, roles=roles, verbose=10)\n",
    "test_pred = translated_automl.predict(test)"
   ]
  },
  {
   "cell_type": "code",
   "execution_count": 40,
   "metadata": {},
   "outputs": [
    {
     "name": "stdout",
     "output_type": "stream",
     "text": [
      "              precision    recall  f1-score   support\n",
      "\n",
      "           0       0.82      0.87      0.85       864\n",
      "           1       0.86      0.81      0.84       864\n",
      "\n",
      "    accuracy                           0.84      1728\n",
      "   macro avg       0.84      0.84      0.84      1728\n",
      "weighted avg       0.84      0.84      0.84      1728\n",
      "\n"
     ]
    }
   ],
   "source": [
    "predict = test_pred.data[:, 0]\n",
    "predict = np.round(predict)\n",
    "print(classification_report(test[roles['target']].values, predict))"
   ]
  },
  {
   "cell_type": "markdown",
   "metadata": {},
   "source": [
    "### Переведенный и очищенный датасет"
   ]
  },
  {
   "cell_type": "code",
   "execution_count": 46,
   "metadata": {
    "scrolled": true
   },
   "outputs": [
    {
     "name": "stdout",
     "output_type": "stream",
     "text": [
      "[11:23:00] Stdout logging level is DEBUG.\n",
      "[11:23:00] Model language mode: en\n",
      "[11:23:00] Task: binary\n",
      "\n",
      "[11:23:00] Start automl preset with listed constraints:\n",
      "[11:23:00] - time: 3600.00 seconds\n",
      "[11:23:00] - CPU: 1 cores\n",
      "[11:23:00] - memory: 16 GB\n",
      "\n",
      "[11:23:00] \u001b[1mTrain data shape: (4030, 2)\u001b[0m\n",
      "\n",
      "[11:23:00] Layer \u001b[1m1\u001b[0m train process start. Time left 3599.98 secs\n",
      "[11:23:00] Start fitting \u001b[1mLvl_0_Pipe_0_Mod_0_TorchNN\u001b[0m ...\n",
      "[11:23:00] Training params: {'bs': 8, 'num_workers': 1, 'max_length': 256, 'opt_params': {'lr': 1e-07}, 'scheduler_params': {'patience': 5, 'factor': 0.5, 'verbose': True}, 'is_snap': False, 'snap_params': {'k': 1, 'early_stopping': True, 'patience': 1, 'swa': False}, 'init_bias': True, 'n_epochs': 50, 'input_bn': False, 'emb_dropout': 0.1, 'emb_ratio': 3, 'max_emb_size': 50, 'bert_name': 'ghanashyamvtatti/roberta-fake-news', 'pooling': 'cls', 'device': device(type='cuda', index=0), 'use_cont': True, 'use_cat': True, 'use_text': True, 'lang': 'en', 'deterministic': False, 'multigpu': False, 'random_state': 42, 'path_to_save': None, 'verbose_inside': None, 'verbose': 1, 'stop_by_metric': False, 'device_ids': None, 'n_out': 1, 'cat_features': [], 'cat_dims': [], 'cont_features': [], 'cont_dim': 0, 'text_features': ['concated__title'], 'bias': array([[0.]])}\n",
      "[11:23:00] ===== Start working with \u001b[1mfold 0\u001b[0m for \u001b[1mLvl_0_Pipe_0_Mod_0_TorchNN\u001b[0m =====\n",
      "[11:23:06] number of text features: 1 \n",
      "[11:23:06] number of categorical features: 0 \n",
      "[11:23:06] number of continuous features: 0 \n"
     ]
    },
    {
     "name": "stderr",
     "output_type": "stream",
     "text": [
      "Some weights of the model checkpoint at ghanashyamvtatti/roberta-fake-news were not used when initializing RobertaModel: ['classifier.dense.bias', 'classifier.dense.weight', 'classifier.out_proj.weight', 'classifier.out_proj.bias']\n",
      "- This IS expected if you are initializing RobertaModel from the checkpoint of a model trained on another task or with another architecture (e.g. initializing a BertForSequenceClassification model from a BertForPreTraining model).\n",
      "- This IS NOT expected if you are initializing RobertaModel from the checkpoint of a model that you expect to be exactly identical (initializing a BertForSequenceClassification model from a BertForSequenceClassification model).\n",
      "Some weights of RobertaModel were not initialized from the model checkpoint at ghanashyamvtatti/roberta-fake-news and are newly initialized: ['roberta.pooler.dense.bias', 'roberta.pooler.dense.weight']\n",
      "You should probably TRAIN this model on a down-stream task to be able to use it for predictions and inference.\n",
      "train (loss=0.693146): 100%|██████████| 336/336 [01:11<00:00,  4.73it/s]\n",
      "val: 100%|██████████| 168/168 [00:22<00:00,  7.56it/s]\n"
     ]
    },
    {
     "name": "stdout",
     "output_type": "stream",
     "text": [
      "[11:24:42] Epoch: 0, train loss: 0.6931459307670593, val loss: 0.6931427121162415, val metric: 0.5903674620890023\n"
     ]
    },
    {
     "name": "stderr",
     "output_type": "stream",
     "text": [
      "train (loss=0.69314): 100%|██████████| 336/336 [01:12<00:00,  4.67it/s] \n",
      "val: 100%|██████████| 168/168 [00:22<00:00,  7.53it/s]\n"
     ]
    },
    {
     "name": "stdout",
     "output_type": "stream",
     "text": [
      "[11:26:16] Epoch: 1, train loss: 0.6931397318840027, val loss: 0.6931240558624268, val metric: 0.6394668544501134\n"
     ]
    },
    {
     "name": "stderr",
     "output_type": "stream",
     "text": [
      "train (loss=0.69312): 100%|██████████| 336/336 [01:12<00:00,  4.66it/s] \n",
      "val: 100%|██████████| 168/168 [00:22<00:00,  7.51it/s]\n"
     ]
    },
    {
     "name": "stdout",
     "output_type": "stream",
     "text": [
      "[11:27:51] Epoch: 2, train loss: 0.6931203007698059, val loss: 0.6930732727050781, val metric: 0.6593634849773242\n"
     ]
    },
    {
     "name": "stderr",
     "output_type": "stream",
     "text": [
      "train (loss=0.693048): 100%|██████████| 336/336 [01:12<00:00,  4.65it/s]\n",
      "val: 100%|██████████| 168/168 [00:22<00:00,  7.52it/s]\n"
     ]
    },
    {
     "name": "stdout",
     "output_type": "stream",
     "text": [
      "[11:29:26] Epoch: 3, train loss: 0.6930476427078247, val loss: 0.6929543614387512, val metric: 0.6636539381377551\n"
     ]
    },
    {
     "name": "stderr",
     "output_type": "stream",
     "text": [
      "train (loss=0.692939): 100%|██████████| 336/336 [01:12<00:00,  4.65it/s]\n",
      "val: 100%|██████████| 168/168 [00:22<00:00,  7.52it/s]\n"
     ]
    },
    {
     "name": "stdout",
     "output_type": "stream",
     "text": [
      "[11:31:01] Epoch: 4, train loss: 0.692939043045044, val loss: 0.6927660703659058, val metric: 0.678136293579932\n"
     ]
    },
    {
     "name": "stderr",
     "output_type": "stream",
     "text": [
      "train (loss=0.692758): 100%|██████████| 336/336 [01:12<00:00,  4.66it/s]\n",
      "val: 100%|██████████| 168/168 [00:22<00:00,  7.52it/s]\n"
     ]
    },
    {
     "name": "stdout",
     "output_type": "stream",
     "text": [
      "[11:32:35] Epoch: 5, train loss: 0.6927578449249268, val loss: 0.6925570368766785, val metric: 0.6833136249291383\n"
     ]
    },
    {
     "name": "stderr",
     "output_type": "stream",
     "text": [
      "train (loss=0.692476): 100%|██████████| 336/336 [01:12<00:00,  4.65it/s]\n",
      "val: 100%|██████████| 168/168 [00:22<00:00,  7.52it/s]\n"
     ]
    },
    {
     "name": "stdout",
     "output_type": "stream",
     "text": [
      "[11:34:10] Epoch: 6, train loss: 0.6924761533737183, val loss: 0.6922845840454102, val metric: 0.6891065671060091\n"
     ]
    },
    {
     "name": "stderr",
     "output_type": "stream",
     "text": [
      "train (loss=0.692241): 100%|██████████| 336/336 [01:12<00:00,  4.66it/s]\n",
      "val: 100%|██████████| 168/168 [00:22<00:00,  7.52it/s]\n"
     ]
    },
    {
     "name": "stdout",
     "output_type": "stream",
     "text": [
      "[11:35:45] Epoch: 7, train loss: 0.6922412514686584, val loss: 0.6919687986373901, val metric: 0.6958450697987528\n"
     ]
    },
    {
     "name": "stderr",
     "output_type": "stream",
     "text": [
      "train (loss=0.6919): 100%|██████████| 336/336 [01:12<00:00,  4.65it/s]  \n",
      "val: 100%|██████████| 168/168 [00:22<00:00,  7.51it/s]\n"
     ]
    },
    {
     "name": "stdout",
     "output_type": "stream",
     "text": [
      "[11:37:19] Epoch: 8, train loss: 0.6918998956680298, val loss: 0.6916353702545166, val metric: 0.7014221053004535\n"
     ]
    },
    {
     "name": "stderr",
     "output_type": "stream",
     "text": [
      "train (loss=0.691528): 100%|██████████| 336/336 [01:12<00:00,  4.65it/s]\n",
      "val: 100%|██████████| 168/168 [00:22<00:00,  7.51it/s]\n"
     ]
    },
    {
     "name": "stdout",
     "output_type": "stream",
     "text": [
      "[11:38:54] Epoch: 9, train loss: 0.6915276646614075, val loss: 0.6912614107131958, val metric: 0.7064477483701814\n"
     ]
    },
    {
     "name": "stderr",
     "output_type": "stream",
     "text": [
      "train (loss=0.691126): 100%|██████████| 336/336 [01:12<00:00,  4.65it/s]\n",
      "val: 100%|██████████| 168/168 [00:22<00:00,  7.51it/s]\n"
     ]
    },
    {
     "name": "stdout",
     "output_type": "stream",
     "text": [
      "[11:40:29] Epoch: 10, train loss: 0.6911264061927795, val loss: 0.6908815503120422, val metric: 0.709590020904195\n"
     ]
    },
    {
     "name": "stderr",
     "output_type": "stream",
     "text": [
      "train (loss=0.690815): 100%|██████████| 336/336 [01:12<00:00,  4.65it/s]\n",
      "val: 100%|██████████| 168/168 [00:22<00:00,  7.52it/s]\n"
     ]
    },
    {
     "name": "stdout",
     "output_type": "stream",
     "text": [
      "[11:42:04] Epoch: 11, train loss: 0.6908144950866699, val loss: 0.6902958750724792, val metric: 0.7168887737386621\n"
     ]
    },
    {
     "name": "stderr",
     "output_type": "stream",
     "text": [
      "train (loss=0.690285): 100%|██████████| 336/336 [01:12<00:00,  4.65it/s]\n",
      "val: 100%|██████████| 168/168 [00:22<00:00,  7.51it/s]\n"
     ]
    },
    {
     "name": "stdout",
     "output_type": "stream",
     "text": [
      "[11:43:39] Epoch: 12, train loss: 0.6902850866317749, val loss: 0.6897716522216797, val metric: 0.7222543314200679\n"
     ]
    },
    {
     "name": "stderr",
     "output_type": "stream",
     "text": [
      "train (loss=0.689624): 100%|██████████| 336/336 [01:12<00:00,  4.65it/s]\n",
      "val: 100%|██████████| 168/168 [00:22<00:00,  7.52it/s]\n"
     ]
    },
    {
     "name": "stdout",
     "output_type": "stream",
     "text": [
      "[11:45:14] Epoch: 13, train loss: 0.6896240711212158, val loss: 0.6892464756965637, val metric: 0.7225676729024944\n"
     ]
    },
    {
     "name": "stderr",
     "output_type": "stream",
     "text": [
      "train (loss=0.689153): 100%|██████████| 336/336 [01:12<00:00,  4.65it/s]\n",
      "val: 100%|██████████| 168/168 [00:22<00:00,  7.52it/s]\n"
     ]
    },
    {
     "name": "stdout",
     "output_type": "stream",
     "text": [
      "[11:46:48] Epoch: 14, train loss: 0.6891530156135559, val loss: 0.6884672045707703, val metric: 0.7272954754818595\n"
     ]
    },
    {
     "name": "stderr",
     "output_type": "stream",
     "text": [
      "train (loss=0.688369): 100%|██████████| 336/336 [01:12<00:00,  4.65it/s]\n",
      "val: 100%|██████████| 168/168 [00:22<00:00,  7.52it/s]\n"
     ]
    },
    {
     "name": "stdout",
     "output_type": "stream",
     "text": [
      "[11:48:23] Epoch: 15, train loss: 0.6883694529533386, val loss: 0.6875784993171692, val metric: 0.7350171839569161\n"
     ]
    },
    {
     "name": "stderr",
     "output_type": "stream",
     "text": [
      "train (loss=0.687503): 100%|██████████| 336/336 [01:12<00:00,  4.65it/s]\n",
      "val: 100%|██████████| 168/168 [00:22<00:00,  7.52it/s]\n"
     ]
    },
    {
     "name": "stdout",
     "output_type": "stream",
     "text": [
      "[11:49:58] Epoch: 16, train loss: 0.6875026226043701, val loss: 0.6864867210388184, val metric: 0.7430909863945578\n"
     ]
    },
    {
     "name": "stderr",
     "output_type": "stream",
     "text": [
      "train (loss=0.68645): 100%|██████████| 336/336 [01:12<00:00,  4.65it/s] \n",
      "val: 100%|██████████| 168/168 [00:22<00:00,  7.52it/s]\n"
     ]
    },
    {
     "name": "stdout",
     "output_type": "stream",
     "text": [
      "[11:51:33] Epoch: 17, train loss: 0.6864495277404785, val loss: 0.6854833960533142, val metric: 0.7465908889597506\n"
     ]
    },
    {
     "name": "stderr",
     "output_type": "stream",
     "text": [
      "train (loss=0.685526): 100%|██████████| 336/336 [01:12<00:00,  4.66it/s]\n",
      "val: 100%|██████████| 168/168 [00:22<00:00,  7.52it/s]\n"
     ]
    },
    {
     "name": "stdout",
     "output_type": "stream",
     "text": [
      "[11:53:07] Epoch: 18, train loss: 0.6855255961418152, val loss: 0.6842998266220093, val metric: 0.7546381182681405\n"
     ]
    },
    {
     "name": "stderr",
     "output_type": "stream",
     "text": [
      "train (loss=0.684536): 100%|██████████| 336/336 [01:12<00:00,  4.66it/s]\n",
      "val: 100%|██████████| 168/168 [00:22<00:00,  7.53it/s]\n"
     ]
    },
    {
     "name": "stdout",
     "output_type": "stream",
     "text": [
      "[11:54:42] Epoch: 19, train loss: 0.684536337852478, val loss: 0.6831172704696655, val metric: 0.7619335494614512\n"
     ]
    },
    {
     "name": "stderr",
     "output_type": "stream",
     "text": [
      "train (loss=0.683674): 100%|██████████| 336/336 [01:12<00:00,  4.66it/s]\n",
      "val: 100%|██████████| 168/168 [00:22<00:00,  7.52it/s]\n"
     ]
    },
    {
     "name": "stdout",
     "output_type": "stream",
     "text": [
      "[11:56:17] Epoch: 20, train loss: 0.683674156665802, val loss: 0.681926429271698, val metric: 0.7674530098497732\n"
     ]
    },
    {
     "name": "stderr",
     "output_type": "stream",
     "text": [
      "train (loss=0.682278): 100%|██████████| 336/336 [01:12<00:00,  4.66it/s]\n",
      "val: 100%|██████████| 168/168 [00:22<00:00,  7.52it/s]\n"
     ]
    },
    {
     "name": "stdout",
     "output_type": "stream",
     "text": [
      "[11:57:52] Epoch: 21, train loss: 0.6822783946990967, val loss: 0.6807854175567627, val metric: 0.7727831366921769\n"
     ]
    },
    {
     "name": "stderr",
     "output_type": "stream",
     "text": [
      "train (loss=0.680716): 100%|██████████| 336/336 [01:12<00:00,  4.65it/s]\n",
      "val: 100%|██████████| 168/168 [00:22<00:00,  7.51it/s]\n"
     ]
    },
    {
     "name": "stdout",
     "output_type": "stream",
     "text": [
      "[11:59:26] Epoch: 22, train loss: 0.6807159185409546, val loss: 0.6792576909065247, val metric: 0.776917472718254\n"
     ]
    },
    {
     "name": "stderr",
     "output_type": "stream",
     "text": [
      "train (loss=0.678992): 100%|██████████| 336/336 [01:12<00:00,  4.64it/s]\n",
      "val: 100%|██████████| 168/168 [00:22<00:00,  7.53it/s]\n"
     ]
    },
    {
     "name": "stdout",
     "output_type": "stream",
     "text": [
      "[12:01:01] Epoch: 23, train loss: 0.6789922118186951, val loss: 0.6779392957687378, val metric: 0.7808646896258502\n"
     ]
    },
    {
     "name": "stderr",
     "output_type": "stream",
     "text": [
      "train (loss=0.678585): 100%|██████████| 336/336 [01:12<00:00,  4.65it/s]\n",
      "val: 100%|██████████| 168/168 [00:22<00:00,  7.51it/s]\n"
     ]
    },
    {
     "name": "stdout",
     "output_type": "stream",
     "text": [
      "[12:02:36] Epoch: 24, train loss: 0.6785854697227478, val loss: 0.676620602607727, val metric: 0.7856899270124716\n"
     ]
    },
    {
     "name": "stderr",
     "output_type": "stream",
     "text": [
      "train (loss=0.677217): 100%|██████████| 336/336 [01:12<00:00,  4.65it/s]\n",
      "val: 100%|██████████| 168/168 [00:22<00:00,  7.52it/s]\n"
     ]
    },
    {
     "name": "stdout",
     "output_type": "stream",
     "text": [
      "[12:04:11] Epoch: 25, train loss: 0.6772173643112183, val loss: 0.6751355528831482, val metric: 0.7891876151502268\n"
     ]
    },
    {
     "name": "stderr",
     "output_type": "stream",
     "text": [
      "train (loss=0.675754): 100%|██████████| 336/336 [01:12<00:00,  4.65it/s]\n",
      "val: 100%|██████████| 168/168 [00:22<00:00,  7.51it/s]\n"
     ]
    },
    {
     "name": "stdout",
     "output_type": "stream",
     "text": [
      "[12:05:46] Epoch: 26, train loss: 0.6757542490959167, val loss: 0.6737948656082153, val metric: 0.79322230194161\n"
     ]
    },
    {
     "name": "stderr",
     "output_type": "stream",
     "text": [
      "train (loss=0.673962): 100%|██████████| 336/336 [01:12<00:00,  4.65it/s]\n",
      "val: 100%|██████████| 168/168 [00:22<00:00,  7.52it/s]\n"
     ]
    },
    {
     "name": "stdout",
     "output_type": "stream",
     "text": [
      "[12:07:20] Epoch: 27, train loss: 0.6739624738693237, val loss: 0.6722472906112671, val metric: 0.7972027352607709\n"
     ]
    },
    {
     "name": "stderr",
     "output_type": "stream",
     "text": [
      "train (loss=0.672184): 100%|██████████| 336/336 [01:12<00:00,  4.65it/s]\n",
      "val: 100%|██████████| 168/168 [00:22<00:00,  7.52it/s]\n"
     ]
    },
    {
     "name": "stdout",
     "output_type": "stream",
     "text": [
      "[12:08:55] Epoch: 28, train loss: 0.6721843481063843, val loss: 0.6706423759460449, val metric: 0.8006694214143991\n"
     ]
    },
    {
     "name": "stderr",
     "output_type": "stream",
     "text": [
      "train (loss=0.671574): 100%|██████████| 336/336 [01:12<00:00,  4.65it/s]\n",
      "val: 100%|██████████| 168/168 [00:22<00:00,  7.52it/s]\n"
     ]
    },
    {
     "name": "stdout",
     "output_type": "stream",
     "text": [
      "[12:10:30] Epoch: 29, train loss: 0.6715735793113708, val loss: 0.6691176295280457, val metric: 0.8041604662698413\n"
     ]
    },
    {
     "name": "stderr",
     "output_type": "stream",
     "text": [
      "train (loss=0.669705): 100%|██████████| 336/336 [01:12<00:00,  4.65it/s]\n",
      "val: 100%|██████████| 168/168 [00:22<00:00,  7.52it/s]\n"
     ]
    },
    {
     "name": "stdout",
     "output_type": "stream",
     "text": [
      "[12:12:05] Epoch: 30, train loss: 0.6697052717208862, val loss: 0.6678763628005981, val metric: 0.8066627692743764\n"
     ]
    },
    {
     "name": "stderr",
     "output_type": "stream",
     "text": [
      "train (loss=0.668416): 100%|██████████| 336/336 [01:12<00:00,  4.65it/s]\n",
      "val: 100%|██████████| 168/168 [00:22<00:00,  7.52it/s]\n"
     ]
    },
    {
     "name": "stdout",
     "output_type": "stream",
     "text": [
      "[12:13:40] Epoch: 31, train loss: 0.6684163212776184, val loss: 0.6659674048423767, val metric: 0.8096433886054423\n"
     ]
    },
    {
     "name": "stderr",
     "output_type": "stream",
     "text": [
      "train (loss=0.666102): 100%|██████████| 336/336 [01:12<00:00,  4.65it/s]\n",
      "val: 100%|██████████| 168/168 [00:22<00:00,  7.52it/s]\n"
     ]
    },
    {
     "name": "stdout",
     "output_type": "stream",
     "text": [
      "[12:15:14] Epoch: 32, train loss: 0.6661019325256348, val loss: 0.6643907427787781, val metric: 0.8112366691468255\n"
     ]
    },
    {
     "name": "stderr",
     "output_type": "stream",
     "text": [
      "train (loss=0.665493): 100%|██████████| 336/336 [01:12<00:00,  4.65it/s]\n",
      "val: 100%|██████████| 168/168 [00:22<00:00,  7.51it/s]\n"
     ]
    },
    {
     "name": "stdout",
     "output_type": "stream",
     "text": [
      "[12:16:49] Epoch: 33, train loss: 0.665492832660675, val loss: 0.6627134680747986, val metric: 0.8139892024518139\n"
     ]
    },
    {
     "name": "stderr",
     "output_type": "stream",
     "text": [
      "train (loss=0.663531): 100%|██████████| 336/336 [01:12<00:00,  4.65it/s]\n",
      "val: 100%|██████████| 168/168 [00:22<00:00,  7.53it/s]\n"
     ]
    },
    {
     "name": "stdout",
     "output_type": "stream",
     "text": [
      "[12:18:24] Epoch: 34, train loss: 0.6635306477546692, val loss: 0.6611087322235107, val metric: 0.8168314200680273\n"
     ]
    },
    {
     "name": "stderr",
     "output_type": "stream",
     "text": [
      "train (loss=0.662014): 100%|██████████| 336/336 [01:12<00:00,  4.65it/s]\n",
      "val: 100%|██████████| 168/168 [00:22<00:00,  7.51it/s]\n"
     ]
    },
    {
     "name": "stdout",
     "output_type": "stream",
     "text": [
      "[12:19:59] Epoch: 35, train loss: 0.6620135307312012, val loss: 0.6593388915061951, val metric: 0.8192241089143992\n"
     ]
    },
    {
     "name": "stderr",
     "output_type": "stream",
     "text": [
      "train (loss=0.66081): 100%|██████████| 336/336 [01:12<00:00,  4.65it/s] \n",
      "val: 100%|██████████| 168/168 [00:22<00:00,  7.52it/s]\n"
     ]
    },
    {
     "name": "stdout",
     "output_type": "stream",
     "text": [
      "[12:21:34] Epoch: 36, train loss: 0.6608099937438965, val loss: 0.6574408411979675, val metric: 0.8201253808815194\n"
     ]
    },
    {
     "name": "stderr",
     "output_type": "stream",
     "text": [
      "train (loss=0.659698): 100%|██████████| 336/336 [01:12<00:00,  4.65it/s]\n",
      "val: 100%|██████████| 168/168 [00:22<00:00,  7.51it/s]\n"
     ]
    },
    {
     "name": "stdout",
     "output_type": "stream",
     "text": [
      "[12:23:09] Epoch: 37, train loss: 0.659697949886322, val loss: 0.6563541889190674, val metric: 0.822567894345238\n"
     ]
    },
    {
     "name": "stderr",
     "output_type": "stream",
     "text": [
      "train (loss=0.656809): 100%|██████████| 336/336 [01:12<00:00,  4.65it/s]\n",
      "val: 100%|██████████| 168/168 [00:22<00:00,  7.51it/s]\n"
     ]
    },
    {
     "name": "stdout",
     "output_type": "stream",
     "text": [
      "[12:24:44] Epoch: 38, train loss: 0.6568087935447693, val loss: 0.6546036005020142, val metric: 0.8242907188917233\n"
     ]
    },
    {
     "name": "stderr",
     "output_type": "stream",
     "text": [
      "train (loss=0.655885): 100%|██████████| 336/336 [01:12<00:00,  4.65it/s]\n",
      "val: 100%|██████████| 168/168 [00:22<00:00,  7.52it/s]\n"
     ]
    },
    {
     "name": "stdout",
     "output_type": "stream",
     "text": [
      "[12:26:18] Epoch: 39, train loss: 0.6558850407600403, val loss: 0.6529884338378906, val metric: 0.8269303163973923\n"
     ]
    },
    {
     "name": "stderr",
     "output_type": "stream",
     "text": [
      "train (loss=0.654698): 100%|██████████| 336/336 [01:12<00:00,  4.65it/s]\n",
      "val: 100%|██████████| 168/168 [00:22<00:00,  7.51it/s]\n"
     ]
    },
    {
     "name": "stdout",
     "output_type": "stream",
     "text": [
      "[12:27:53] Epoch: 40, train loss: 0.6546982526779175, val loss: 0.6515929698944092, val metric: 0.8283176551870749\n"
     ]
    },
    {
     "name": "stderr",
     "output_type": "stream",
     "text": [
      "train (loss=0.653424): 100%|██████████| 336/336 [01:12<00:00,  4.65it/s]\n",
      "val: 100%|██████████| 168/168 [00:22<00:00,  7.52it/s]\n"
     ]
    },
    {
     "name": "stdout",
     "output_type": "stream",
     "text": [
      "[12:29:28] Epoch: 41, train loss: 0.6534242033958435, val loss: 0.6495230793952942, val metric: 0.8305298681972789\n"
     ]
    },
    {
     "name": "stderr",
     "output_type": "stream",
     "text": [
      "train (loss=0.6507): 100%|██████████| 336/336 [01:12<00:00,  4.65it/s]  \n",
      "val: 100%|██████████| 168/168 [00:22<00:00,  7.52it/s]\n"
     ]
    },
    {
     "name": "stdout",
     "output_type": "stream",
     "text": [
      "[12:31:03] Epoch: 42, train loss: 0.6507004499435425, val loss: 0.6479431986808777, val metric: 0.8314377834467119\n"
     ]
    },
    {
     "name": "stderr",
     "output_type": "stream",
     "text": [
      "train (loss=0.650457): 100%|██████████| 336/336 [01:12<00:00,  4.65it/s]\n",
      "val: 100%|██████████| 168/168 [00:22<00:00,  7.52it/s]"
     ]
    },
    {
     "name": "stdout",
     "output_type": "stream",
     "text": [
      "[12:32:37] Epoch: 43, train loss: 0.6504572629928589, val loss: 0.648148238658905, val metric: 0.8322560143849206\n"
     ]
    },
    {
     "name": "stderr",
     "output_type": "stream",
     "text": [
      "\n",
      "val: 100%|██████████| 168/168 [00:22<00:00,  7.52it/s]"
     ]
    },
    {
     "name": "stdout",
     "output_type": "stream",
     "text": [
      "[12:33:00] Early stopping: val loss: 0.6479431986808777, val metric: 0.8314377834467119\n"
     ]
    },
    {
     "name": "stderr",
     "output_type": "stream",
     "text": [
      "\n"
     ]
    },
    {
     "name": "stdout",
     "output_type": "stream",
     "text": [
      "[12:33:01] Time limit exceeded after calculating fold 0\n",
      "\n",
      "[12:33:01] Fitting \u001b[1mLvl_0_Pipe_0_Mod_0_TorchNN\u001b[0m finished. score = \u001b[1m0.8314377834467119\u001b[0m\n",
      "[12:33:01] \u001b[1mLvl_0_Pipe_0_Mod_0_TorchNN\u001b[0m fitting and predicting completed\n",
      "[12:33:01] Time left -601.54 secs\n",
      "\n",
      "[12:33:01] Time limit exceeded. Last level models will be blended and unused pipelines will be pruned.\n",
      "\n",
      "[12:33:01] \u001b[1mLayer 1 training completed.\u001b[0m\n",
      "\n",
      "[12:33:01] \u001b[1mAutoml preset training completed in 4201.54 seconds\u001b[0m\n",
      "\n",
      "[12:33:01] Model description:\n",
      "Final prediction for new objects (level 0) = \n",
      "\t 1.00000 * (1 averaged models Lvl_0_Pipe_0_Mod_0_TorchNN) \n",
      "\n",
      "[12:33:01] number of text features: 1 \n",
      "[12:33:01] number of categorical features: 0 \n",
      "[12:33:01] number of continuous features: 0 \n"
     ]
    },
    {
     "name": "stderr",
     "output_type": "stream",
     "text": [
      "Some weights of the model checkpoint at ghanashyamvtatti/roberta-fake-news were not used when initializing RobertaModel: ['classifier.dense.bias', 'classifier.dense.weight', 'classifier.out_proj.weight', 'classifier.out_proj.bias']\n",
      "- This IS expected if you are initializing RobertaModel from the checkpoint of a model trained on another task or with another architecture (e.g. initializing a BertForSequenceClassification model from a BertForPreTraining model).\n",
      "- This IS NOT expected if you are initializing RobertaModel from the checkpoint of a model that you expect to be exactly identical (initializing a BertForSequenceClassification model from a BertForSequenceClassification model).\n",
      "Some weights of RobertaModel were not initialized from the model checkpoint at ghanashyamvtatti/roberta-fake-news and are newly initialized: ['roberta.pooler.dense.bias', 'roberta.pooler.dense.weight']\n",
      "You should probably TRAIN this model on a down-stream task to be able to use it for predictions and inference.\n",
      "test: 100%|██████████| 216/216 [00:28<00:00,  7.53it/s]\n"
     ]
    }
   ],
   "source": [
    "train, test = train_test_split(\n",
    "    cleaned_translated_df, test_size=TEST_SIZE, stratify = cleaned_translated_df['is_fake'], random_state=RANDOM_STATE)\n",
    "\n",
    "roles = {\n",
    "    'text': ['title'],\n",
    "    'target': 'is_fake'\n",
    "}\n",
    "\n",
    "task = Task('binary')\n",
    "cleaned_translated_automl = TabularNLPAutoML(\n",
    "    task=task,\n",
    "    timeout=3600,\n",
    "    cpu_limit=1,\n",
    "    gpu_ids='0',\n",
    "    general_params={\n",
    "        'nested_cv': False,\n",
    "        'use_algos': [['nn']]\n",
    "    },\n",
    "    autonlp_params={\n",
    "        'sent_scaler': 'l2'\n",
    "    },\n",
    "    text_params={\n",
    "        'lang': 'en',\n",
    "        'bert_model': 'ghanashyamvtatti/roberta-fake-news'\n",
    "    },\n",
    "    nn_params={\n",
    "        'opt_params': {'lr': 1e-7},\n",
    "        'max_length': 256,\n",
    "        'bs': 8,\n",
    "        'n_epochs': 50,\n",
    "    }\n",
    "\n",
    ")\n",
    "\n",
    "oof_pred = cleaned_translated_automl.fit_predict(train, roles=roles, verbose=10)\n",
    "test_pred = cleaned_translated_automl.predict(test)"
   ]
  },
  {
   "cell_type": "code",
   "execution_count": 47,
   "metadata": {},
   "outputs": [
    {
     "name": "stdout",
     "output_type": "stream",
     "text": [
      "              precision    recall  f1-score   support\n",
      "\n",
      "           0       0.75      0.82      0.78       864\n",
      "           1       0.80      0.73      0.76       864\n",
      "\n",
      "    accuracy                           0.77      1728\n",
      "   macro avg       0.77      0.77      0.77      1728\n",
      "weighted avg       0.77      0.77      0.77      1728\n",
      "\n"
     ]
    }
   ],
   "source": [
    "predict = test_pred.data[:, 0]\n",
    "predict = np.round(predict)\n",
    "print(classification_report(test[roles['target']].values, predict))"
   ]
  },
  {
   "cell_type": "markdown",
   "metadata": {},
   "source": [
    "На неочищенных данных BERT лучше показал себя, поскольку внутри него есть собственные стемминг/лемматизация, декапитализация(отсутствие чувствительности к регистру) и \"аттеншн\". Естественно, это все больше из научного интереса, маловероятно, что переводя российские новости(со своими особенностями) на англиский язык и используя предобученного на американских новостях BERT, получится что-то хорошее. Однако когда видишь средний f1 score 0.84-0.85, уже так не думаешь."
   ]
  },
  {
   "cell_type": "markdown",
   "metadata": {},
   "source": [
    "## Лучшей моделью оказалась rubert-base-cased поэтому для сабмита используем её"
   ]
  },
  {
   "cell_type": "code",
   "execution_count": 48,
   "metadata": {
    "scrolled": true
   },
   "outputs": [
    {
     "name": "stdout",
     "output_type": "stream",
     "text": [
      "[12:33:39] number of text features: 1 \n",
      "[12:33:39] number of categorical features: 0 \n",
      "[12:33:39] number of continuous features: 0 \n"
     ]
    },
    {
     "name": "stderr",
     "output_type": "stream",
     "text": [
      "Some weights of the model checkpoint at DeepPavlov/rubert-base-cased were not used when initializing BertModel: ['cls.seq_relationship.bias', 'cls.predictions.transform.LayerNorm.bias', 'cls.predictions.transform.LayerNorm.weight', 'cls.predictions.decoder.weight', 'cls.predictions.transform.dense.bias', 'cls.seq_relationship.weight', 'cls.predictions.transform.dense.weight', 'cls.predictions.bias', 'cls.predictions.decoder.bias']\n",
      "- This IS expected if you are initializing BertModel from the checkpoint of a model trained on another task or with another architecture (e.g. initializing a BertForSequenceClassification model from a BertForPreTraining model).\n",
      "- This IS NOT expected if you are initializing BertModel from the checkpoint of a model that you expect to be exactly identical (initializing a BertForSequenceClassification model from a BertForSequenceClassification model).\n",
      "test: 100%|██████████| 125/125 [00:16<00:00,  7.38it/s]\n"
     ]
    }
   ],
   "source": [
    "predict = automl.predict(test_df)\n",
    "predict = predict.data[:, 0]\n",
    "predict = np.round(predict)\n",
    "predict = predict.astype(int)\n",
    "predict_column = pd.DataFrame(predict)\n",
    "test_df['is_fake'] = predict_column\n",
    "test_df.to_csv(\"~/Garipov_Timur/predictions.tsv\", sep='\\t', index=False)"
   ]
  },
  {
   "cell_type": "markdown",
   "metadata": {},
   "source": [
    "Вернем предыдущие заголовки(немного неуклюже получилось, но, к сожалению, времени на перезапуск блокнота нет)"
   ]
  },
  {
   "cell_type": "code",
   "execution_count": 51,
   "metadata": {},
   "outputs": [],
   "source": [
    "test_df = pd.read_csv('dataset/test.tsv', sep='\\t')\n",
    "test_texts = test_df['title']\n",
    "test_df['title'] = test_texts\n",
    "test_df['is_fake'] = predict_column\n",
    "test_df.to_csv(\"~/Garipov_Timur/predictions.tsv\", sep='\\t', index=False)"
   ]
  },
  {
   "cell_type": "markdown",
   "metadata": {},
   "source": [
    "# Заключение\n",
    "\n",
    "Помимо представленных в данном блокноте методов были использованы бустинги и LSTM, но они и близко не дали хорошего качества. В решении задачи хотелось больше углубиться в понимание данных и их тонкостей, а не заниматься перебор всех моделей и их параметров. Поэтому также были рассмотрены две статьи о российских фейковых новостях:\n",
    " * https://aclanthology.org/2020.rdsm-1.5.pdf\n",
    " * https://cyberleninka.ru/article/n/metod-opredeleniya-russkoyazychnyh-feykovyh-novostey-s-ispolzovaniem-elementov-iskusstvennogo-intellekta/viewer\n",
    "\n",
    "Что из них важно отметить:\n",
    "\n",
    " 1. \"Для обнаружения поддельной новости необходимо в первую очередь определить общие характеристики поддельных сообщений. Среди них мы можем выделить репутацию интернет-ресурса и качество лексики языка. Репутация интернет-ресурса – это один из ключевых показателей, который может быть использован для оценки подлинности опубликованного на нем новостного материала. Самый простой способ оценки ресурса на наличие поддельной новости – это рейтинг доверия от других ресурсов и доменный возраст искомого сайта. «Сайты с длительной историей и высоким рейтингом чаще всего являются надежными источниками, в то время как обратное может указывать на ненадежный ресурс».\"\n",
    "\n",
    "\n",
    " 2. \"В своем исследовании Г. Некрасов и И. Романова предлагают следующие характеристики в качестве модулей алгоритма: \n",
    "- проверка оригинальности URL-адреса опубликованной новости на соответствие домену искомого сайта, поскольку сайты-двойники могут целиком имитировать крупные онлайн-издания;\n",
    "- проверка даты публикации материала, поскольку фейковые новости, как правило, не датированы, так как сообщают о событиях, которых не было;\n",
    "- наличие грамматических и пунктуационных ошибок в тексте; проверка на наличие внутренней согласованности анализируемой статьи – поддельные новости часто имеют большую несогласованность между различными частями текста самого материала;\n",
    "- поиск совпадений фрагментов разных статей –основная статья, вышедшая на авторитетном ресурсе, копируется полностью или переписывается с внесением в нее ложных фактов и событий;\n",
    "- несвязанные факты в новости;\n",
    "- анализ ссылок-источников в материале, поскольку есть вероятность того, что статья будет поддельной, если она ссылается также на фейковую новость;\n",
    "- поиск сигнальных (сенсационных) слов - новости, которые содержат в своих заголовках и ключевых словах привлекающие внимание (сенсационные) утверждения часто могут быть фейковыми;\n",
    "- неавторитетные эксперты в обсуждаемой сфере;\n",
    "- несовпадение времени создания изображений и их загрузки с реальными временными рамками событий в новости.\"\n",
    "\n",
    "Поэтому очень печально, что данных для обучения так мало. Я уверен, что используя информацию об источнике и содержание статьи можно достичь крайне высокой точности.\n",
    "\n",
    "\n",
    "В идеале такую задачу решать с использованем внешних источников данных и ранжированными источниками новостей. В таком случае модель будет иметь более высокую точность и сможет интерпретировать результаты. Также можно было бы использовать сиамские нейронные сети, чтобы качественно разделять пары новостей: рядом, если из одного класса, поодаль, если из разных."
   ]
  }
 ],
 "metadata": {
  "kernelspec": {
   "display_name": "Python 3 (ipykernel)",
   "language": "python",
   "name": "python3"
  },
  "language_info": {
   "codemirror_mode": {
    "name": "ipython",
    "version": 3
   },
   "file_extension": ".py",
   "mimetype": "text/x-python",
   "name": "python",
   "nbconvert_exporter": "python",
   "pygments_lexer": "ipython3",
   "version": "3.8.10"
  }
 },
 "nbformat": 4,
 "nbformat_minor": 4
}
